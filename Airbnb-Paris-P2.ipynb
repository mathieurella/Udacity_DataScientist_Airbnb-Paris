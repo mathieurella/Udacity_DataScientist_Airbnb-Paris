{
 "cells": [
  {
   "cell_type": "markdown",
   "metadata": {},
   "source": [
    "# Airbnb Paris\n",
    "## by Mathieu Rella"
   ]
  },
  {
   "cell_type": "markdown",
   "metadata": {},
   "source": [
    "# I. Business Understanding"
   ]
  },
  {
   "cell_type": "markdown",
   "metadata": {},
   "source": [
    "We will be exploring Airbnb paris data to try to find answers to some questions like :\n",
    "\n",
    "- Where is it good to rent on airbnb in paris ?\n",
    "- Which season is the more profitable for the host ?\n",
    "- What do really believe the guest of paris listing ?\n",
    "- Can we predict the price of a listing ?"
   ]
  },
  {
   "cell_type": "code",
   "execution_count": 83,
   "metadata": {},
   "outputs": [
    {
     "data": {
      "text/html": [
       "        <script type=\"text/javascript\">\n",
       "        window.PlotlyConfig = {MathJaxConfig: 'local'};\n",
       "        if (window.MathJax) {MathJax.Hub.Config({SVG: {font: \"STIX-Web\"}});}\n",
       "        if (typeof require !== 'undefined') {\n",
       "        require.undef(\"plotly\");\n",
       "        requirejs.config({\n",
       "            paths: {\n",
       "                'plotly': ['https://cdn.plot.ly/plotly-latest.min']\n",
       "            }\n",
       "        });\n",
       "        require(['plotly'], function(Plotly) {\n",
       "            window._Plotly = Plotly;\n",
       "        });\n",
       "        }\n",
       "        </script>\n",
       "        "
      ]
     },
     "metadata": {},
     "output_type": "display_data"
    }
   ],
   "source": [
    "# import all packages and set plots to be embedded inline\n",
    "import numpy as np\n",
    "import pandas as pd\n",
    "import matplotlib.pyplot as plt\n",
    "import seaborn as sb\n",
    "import plotly.express as px\n",
    "import qgrid\n",
    "import plotly.graph_objects as go\n",
    "\n",
    "import plotly\n",
    "plotly.__version__\n",
    "import json\n",
    "from plotly.offline import download_plotlyjs, init_notebook_mode,  iplot\n",
    "init_notebook_mode(connected=True)\n",
    "\n",
    "from sklearn.linear_model import LinearRegression\n",
    "from sklearn.model_selection import train_test_split\n",
    "from sklearn.metrics import r2_score, mean_squared_error\n",
    "# Sklearn ML Modules\n",
    "from sklearn.preprocessing import MultiLabelBinarizer,LabelEncoder,OneHotEncoder,StandardScaler \n",
    "import sklearn.metrics as mtr\n",
    "import math\n",
    "\n",
    "%matplotlib inline\n",
    "\n",
    "# suppress warnings from final output\n",
    "import warnings\n",
    "warnings.simplefilter(\"ignore\")"
   ]
  },
  {
   "cell_type": "code",
   "execution_count": 84,
   "metadata": {},
   "outputs": [],
   "source": [
    "# load all the dataset into a pandas dataframe\n",
    "\n",
    "df_list = pd.read_csv('Data/listings.csv')\n",
    "df_rev = pd.read_csv('Data/Reviews.csv')\n",
    "df_cal = pd.read_csv('Data/calendar.csv')"
   ]
  },
  {
   "cell_type": "markdown",
   "metadata": {},
   "source": [
    "# III. Data Preparation"
   ]
  },
  {
   "cell_type": "markdown",
   "metadata": {},
   "source": [
    "#### A. Paris Choropleth"
   ]
  },
  {
   "cell_type": "code",
   "execution_count": 91,
   "metadata": {},
   "outputs": [
    {
     "data": {
      "text/plain": [
       "Buttes-Montmartre      7591\n",
       "Popincourt             6635\n",
       "Vaugirard              5094\n",
       "Entrepôt               4674\n",
       "Batignolles-Monceau    4536\n",
       "Ménilmontant           3859\n",
       "Buttes-Chaumont        3837\n",
       "Passy                  3350\n",
       "Opéra                  3227\n",
       "Temple                 3185\n",
       "Reuilly                2733\n",
       "Observatoire           2583\n",
       "Bourse                 2388\n",
       "Gobelins               2358\n",
       "Panthéon               2250\n",
       "Hôtel-de-Ville         2081\n",
       "Luxembourg             2012\n",
       "Palais-Bourbon         1902\n",
       "Élysée                 1848\n",
       "Louvre                 1422\n",
       "Name: neighbourhood_cleansed, dtype: int64"
      ]
     },
     "execution_count": 91,
     "metadata": {},
     "output_type": "execute_result"
    }
   ],
   "source": [
    "df_list['neighbourhood_cleansed'].value_counts()"
   ]
  },
  {
   "cell_type": "markdown",
   "metadata": {},
   "source": [
    "the 'neighbourhood_cleansed' features present the different neighbourhood in paris, there are 20 of them accordingly to the number of district in paris"
   ]
  },
  {
   "cell_type": "code",
   "execution_count": 92,
   "metadata": {},
   "outputs": [],
   "source": [
    "paris_url = 'https://raw.githubusercontent.com/mathieurella/Udacity_DataScientist_Airbnb-Paris/main/paris.geojson'"
   ]
  },
  {
   "cell_type": "code",
   "execution_count": 93,
   "metadata": {},
   "outputs": [],
   "source": [
    "import urllib.request\n",
    "\n",
    "def read_geojson(url):\n",
    "    with urllib.request.urlopen(url) as url:\n",
    "        jdata = json.loads(url.read().decode())\n",
    "    return jdata"
   ]
  },
  {
   "cell_type": "code",
   "execution_count": 94,
   "metadata": {},
   "outputs": [],
   "source": [
    "jdata = read_geojson(paris_url)"
   ]
  },
  {
   "cell_type": "code",
   "execution_count": 95,
   "metadata": {},
   "outputs": [],
   "source": [
    "# Retrieve all the location from the geojson url\n",
    "locations = [0+k for k in range(100)]\n",
    "text = [feat['properties']['name']  for feat in jdata['features'] if feat['id'] in locations] #province names"
   ]
  },
  {
   "cell_type": "code",
   "execution_count": 96,
   "metadata": {},
   "outputs": [],
   "source": [
    "# Create a New Dataframe with the neighbourhood and listing\n",
    "df_list_neighbourhood = pd.DataFrame(df_list['neighbourhood_cleansed'].value_counts().reset_index().values, columns=[\"neighbourhood\", \"# Listing\"])\n",
    "\n",
    "#Order the neighbourhood column to be as the text one\n",
    "df_list_neighbourhood.neighbourhood = df_list_neighbourhood.neighbourhood.astype(\"category\")\n",
    "df_list_neighbourhood.neighbourhood.cat.set_categories(text, inplace=True)\n",
    "df_list_neighbourhood = df_list_neighbourhood.sort_values([\"neighbourhood\"])"
   ]
  },
  {
   "cell_type": "code",
   "execution_count": 97,
   "metadata": {},
   "outputs": [
    {
     "name": "stdout",
     "output_type": "stream",
     "text": [
      "The lists are identical\n"
     ]
    }
   ],
   "source": [
    "# Check if the list are the same\n",
    "df_neighbourhood_list = df_list_neighbourhood['neighbourhood'].tolist()\n",
    "\n",
    "if text == df_neighbourhood_list: \n",
    "    print (\"The lists are identical\") \n",
    "else : \n",
    "    print (\"The lists are not identical\")"
   ]
  },
  {
   "cell_type": "code",
   "execution_count": 98,
   "metadata": {},
   "outputs": [],
   "source": [
    "z = df_list_neighbourhood['# Listing'].tolist()\n",
    "neigh = df_list_neighbourhood['neighbourhood'].tolist()"
   ]
  },
  {
   "cell_type": "code",
   "execution_count": 99,
   "metadata": {},
   "outputs": [],
   "source": [
    "mapboxt = open(\".mapbox_token\").read().rstrip() #my mapbox_access_token  must be used only for special mapbox style"
   ]
  },
  {
   "cell_type": "code",
   "execution_count": 100,
   "metadata": {},
   "outputs": [],
   "source": [
    "fig= go.Figure(go.Choroplethmapbox(z=z,\n",
    "                            locations=locations,\n",
    "                            colorscale='reds',\n",
    "                            colorbar=dict(thickness=20, ticklen=3),\n",
    "                            geojson=jdata,\n",
    "                            text=neigh,\n",
    "                            hoverinfo='all',\n",
    "                            marker_line_width=1, marker_opacity=0.75))\n",
    "                            \n",
    "                            \n",
    "fig.update_layout(title_text= 'Choroplethmapbox',\n",
    "                  title_x=0.5, width = 700,# height=700,\n",
    "                  mapbox = dict(center= dict(lat=48.8566,  lon=2.3522),\n",
    "                                 accesstoken= mapboxt,\n",
    "                                 style='light',\n",
    "                                 zoom=10,\n",
    "                               ));\n",
    "\n",
    "#fig.show()"
   ]
  },
  {
   "cell_type": "code",
   "execution_count": 101,
   "metadata": {},
   "outputs": [
    {
     "data": {
      "application/vnd.plotly.v1+json": {
       "config": {
        "linkText": "Export to plot.ly",
        "plotlyServerURL": "https://plot.ly",
        "showLink": false
       },
       "data": [
        {
         "colorbar": {
          "thickness": 20,
          "ticklen": 3
         },
         "colorscale": [
          [
           0,
           "rgb(255,245,240)"
          ],
          [
           0.125,
           "rgb(254,224,210)"
          ],
          [
           0.25,
           "rgb(252,187,161)"
          ],
          [
           0.375,
           "rgb(252,146,114)"
          ],
          [
           0.5,
           "rgb(251,106,74)"
          ],
          [
           0.625,
           "rgb(239,59,44)"
          ],
          [
           0.75,
           "rgb(203,24,29)"
          ],
          [
           0.875,
           "rgb(165,15,21)"
          ],
          [
           1,
           "rgb(103,0,13)"
          ]
         ],
         "geojson": {
          "features": [
           {
            "geometry": {
             "coordinates": [
              [
               [
                [
                 2.339999,
                 48.87196
                ],
                [
                 2.34789,
                 48.870689
                ],
                [
                 2.35433,
                 48.869308
                ],
                [
                 2.350979,
                 48.863411
                ],
                [
                 2.330292,
                 48.868294
                ],
                [
                 2.328211,
                 48.86972
                ],
                [
                 2.328072,
                 48.869923
                ],
                [
                 2.339999,
                 48.87196
                ]
               ]
              ]
             ],
             "type": "MultiPolygon"
            },
            "id": 0,
            "properties": {
             "cartodb_id": 2,
             "created_at": "2013-02-26T07:07:16.384Z",
             "name": "Bourse",
             "updated_at": "2013-02-26T18:36:18.682Z"
            },
            "type": "Feature"
           },
           {
            "geometry": {
             "coordinates": [
              [
               [
                [
                 2.36236,
                 48.867905
                ],
                [
                 2.364764,
                 48.866436
                ],
                [
                 2.366694,
                 48.86319
                ],
                [
                 2.368454,
                 48.85582
                ],
                [
                 2.364335,
                 48.856441
                ],
                [
                 2.361631,
                 48.857262
                ],
                [
                 2.358626,
                 48.858757
                ],
                [
                 2.356825,
                 48.860111
                ],
                [
                 2.353391,
                 48.861214
                ],
                [
                 2.350172,
                 48.862034
                ],
                [
                 2.354249,
                 48.869286
                ],
                [
                 2.36236,
                 48.867905
                ]
               ]
              ]
             ],
             "type": "MultiPolygon"
            },
            "id": 1,
            "properties": {
             "cartodb_id": 3,
             "created_at": "2013-02-26T07:07:16.384Z",
             "name": "Temple",
             "updated_at": "2013-02-26T18:36:24.060Z"
            },
            "type": "Feature"
           },
           {
            "geometry": {
             "coordinates": [
              [
               [
                [
                 2.351799,
                 48.83675
                ],
                [
                 2.345489,
                 48.837601
                ],
                [
                 2.336462,
                 48.839622
                ],
                [
                 2.342576,
                 48.850258
                ],
                [
                 2.344199,
                 48.85376
                ],
                [
                 2.3445,
                 48.854038
                ],
                [
                 2.346859,
                 48.853298
                ],
                [
                 2.350169,
                 48.851997
                ],
                [
                 2.3548,
                 48.850788
                ],
                [
                 2.36098,
                 48.84861
                ],
                [
                 2.366,
                 48.844997
                ],
                [
                 2.36493,
                 48.844379
                ],
                [
                 2.361839,
                 48.84
                ],
                [
                 2.351799,
                 48.83675
                ]
               ]
              ]
             ],
             "type": "MultiPolygon"
            },
            "id": 2,
            "properties": {
             "cartodb_id": 5,
             "created_at": "2013-02-26T07:07:16.384Z",
             "name": "Panthéon",
             "updated_at": "2013-02-26T18:36:34.699Z"
            },
            "type": "Feature"
           },
           {
            "geometry": {
             "coordinates": [
              [
               [
                [
                 2.316469,
                 48.846851
                ],
                [
                 2.31904,
                 48.847851
                ],
                [
                 2.32412,
                 48.850311
                ],
                [
                 2.32704,
                 48.851608
                ],
                [
                 2.32866,
                 48.851952
                ],
                [
                 2.331599,
                 48.856339
                ],
                [
                 2.33386,
                 48.85918
                ],
                [
                 2.337499,
                 48.85849
                ],
                [
                 2.340592,
                 48.85675
                ],
                [
                 2.342512,
                 48.855247
                ],
                [
                 2.344465,
                 48.853992
                ],
                [
                 2.34425,
                 48.853767
                ],
                [
                 2.342639,
                 48.850349
                ],
                [
                 2.33652,
                 48.83963
                ],
                [
                 2.31999,
                 48.8451
                ],
                [
                 2.316469,
                 48.846851
                ]
               ]
              ]
             ],
             "type": "MultiPolygon"
            },
            "id": 3,
            "properties": {
             "cartodb_id": 6,
             "created_at": "2013-02-26T07:07:16.384Z",
             "name": "Luxembourg",
             "updated_at": "2013-02-26T18:36:40.774Z"
            },
            "type": "Feature"
           },
           {
            "geometry": {
             "coordinates": [
              [
               [
                [
                 2.309531,
                 48.84581
                ],
                [
                 2.307342,
                 48.847153
                ],
                [
                 2.289877,
                 48.858192
                ],
                [
                 2.294769,
                 48.861862
                ],
                [
                 2.300219,
                 48.863499
                ],
                [
                 2.31833,
                 48.863838
                ],
                [
                 2.331462,
                 48.859676
                ],
                [
                 2.333844,
                 48.85918
                ],
                [
                 2.33159,
                 48.856258
                ],
                [
                 2.33041,
                 48.854424
                ],
                [
                 2.329295,
                 48.852673
                ],
                [
                 2.328479,
                 48.851826
                ],
                [
                 2.327106,
                 48.851601
                ],
                [
                 2.319274,
                 48.847801
                ],
                [
                 2.313651,
                 48.845909
                ],
                [
                 2.311355,
                 48.845215
                ],
                [
                 2.309531,
                 48.84581
                ]
               ]
              ]
             ],
             "type": "MultiPolygon"
            },
            "id": 4,
            "properties": {
             "cartodb_id": 7,
             "created_at": "2013-02-26T07:07:16.384Z",
             "name": "Palais-Bourbon",
             "updated_at": "2013-02-26T18:36:45.091Z"
            },
            "type": "Feature"
           },
           {
            "geometry": {
             "coordinates": [
              [
               [
                [
                 2.30155,
                 48.864601
                ],
                [
                 2.299869,
                 48.865131
                ],
                [
                 2.298799,
                 48.86869
                ],
                [
                 2.297299,
                 48.871151
                ],
                [
                 2.295539,
                 48.87326
                ],
                [
                 2.29457,
                 48.873192
                ],
                [
                 2.294029,
                 48.873669
                ],
                [
                 2.294399,
                 48.87429
                ],
                [
                 2.295409,
                 48.874317
                ],
                [
                 2.297769,
                 48.87775
                ],
                [
                 2.297639,
                 48.878029
                ],
                [
                 2.298049,
                 48.87846
                ],
                [
                 2.298799,
                 48.87825
                ],
                [
                 2.309009,
                 48.880459
                ],
                [
                 2.316609,
                 48.88134
                ],
                [
                 2.32721,
                 48.88345
                ],
                [
                 2.326849,
                 48.875908
                ],
                [
                 2.326611,
                 48.875404
                ],
                [
                 2.326976,
                 48.873825
                ],
                [
                 2.326869,
                 48.873329
                ],
                [
                 2.32629,
                 48.872597
                ],
                [
                 2.326505,
                 48.872471
                ],
                [
                 2.325819,
                 48.869534
                ],
                [
                 2.325152,
                 48.869392
                ],
                [
                 2.32526,
                 48.869019
                ],
                [
                 2.320769,
                 48.863098
                ],
                [
                 2.31828,
                 48.863811
                ],
                [
                 2.30167,
                 48.863522
                ],
                [
                 2.30155,
                 48.864601
                ]
               ]
              ]
             ],
             "type": "MultiPolygon"
            },
            "id": 5,
            "properties": {
             "cartodb_id": 8,
             "created_at": "2013-02-26T07:07:16.384Z",
             "name": "Élysée",
             "updated_at": "2013-02-26T18:36:51.084Z"
            },
            "type": "Feature"
           },
           {
            "geometry": {
             "coordinates": [
              [
               [
                [
                 2.339599,
                 48.882011
                ],
                [
                 2.34952,
                 48.883781
                ],
                [
                 2.34987,
                 48.880692
                ],
                [
                 2.349209,
                 48.87888
                ],
                [
                 2.349,
                 48.87722
                ],
                [
                 2.348139,
                 48.87566
                ],
                [
                 2.34785,
                 48.873871
                ],
                [
                 2.34789,
                 48.870689
                ],
                [
                 2.34004,
                 48.87196
                ],
                [
                 2.32579,
                 48.869572
                ],
                [
                 2.326519,
                 48.872471
                ],
                [
                 2.326309,
                 48.872589
                ],
                [
                 2.32688,
                 48.873341
                ],
                [
                 2.326979,
                 48.873779
                ],
                [
                 2.32663,
                 48.875439
                ],
                [
                 2.32682,
                 48.87595
                ],
                [
                 2.32717,
                 48.883419
                ],
                [
                 2.327929,
                 48.883621
                ],
                [
                 2.32948,
                 48.884651
                ],
                [
                 2.337406,
                 48.882271
                ],
                [
                 2.339599,
                 48.882011
                ]
               ]
              ]
             ],
             "type": "MultiPolygon"
            },
            "id": 6,
            "properties": {
             "cartodb_id": 9,
             "created_at": "2013-02-26T07:07:16.384Z",
             "name": "Opéra",
             "updated_at": "2013-02-26T18:37:00.221Z"
            },
            "type": "Feature"
           },
           {
            "geometry": {
             "coordinates": [
              [
               [
                [
                 2.368755,
                 48.884079
                ],
                [
                 2.369142,
                 48.883289
                ],
                [
                 2.370213,
                 48.882637
                ],
                [
                 2.370257,
                 48.878632
                ],
                [
                 2.370814,
                 48.878124
                ],
                [
                 2.370601,
                 48.87756
                ],
                [
                 2.376952,
                 48.872108
                ],
                [
                 2.372917,
                 48.870644
                ],
                [
                 2.364205,
                 48.86779
                ],
                [
                 2.363477,
                 48.867226
                ],
                [
                 2.362404,
                 48.867905
                ],
                [
                 2.354293,
                 48.869286
                ],
                [
                 2.347941,
                 48.870728
                ],
                [
                 2.347812,
                 48.873943
                ],
                [
                 2.348155,
                 48.875751
                ],
                [
                 2.348971,
                 48.877277
                ],
                [
                 2.349272,
                 48.879223
                ],
                [
                 2.349873,
                 48.880692
                ],
                [
                 2.349486,
                 48.883797
                ],
                [
                 2.359227,
                 48.884472
                ],
                [
                 2.364806,
                 48.884361
                ],
                [
                 2.368755,
                 48.884079
                ]
               ]
              ]
             ],
             "type": "MultiPolygon"
            },
            "id": 7,
            "properties": {
             "cartodb_id": 10,
             "created_at": "2013-02-26T07:07:16.384Z",
             "name": "Entrepôt",
             "updated_at": "2013-02-26T18:37:05.756Z"
            },
            "type": "Feature"
           },
           {
            "geometry": {
             "coordinates": [
              [
               [
                [
                 2.383175,
                 48.867115
                ],
                [
                 2.383776,
                 48.86607
                ],
                [
                 2.387465,
                 48.862823
                ],
                [
                 2.389654,
                 48.858444
                ],
                [
                 2.39223,
                 48.857571
                ],
                [
                 2.394321,
                 48.856548
                ],
                [
                 2.398398,
                 48.85133
                ],
                [
                 2.399214,
                 48.848709
                ],
                [
                 2.399064,
                 48.848103
                ],
                [
                 2.395899,
                 48.848351
                ],
                [
                 2.384291,
                 48.85017
                ],
                [
                 2.379999,
                 48.850483
                ],
                [
                 2.371544,
                 48.852459
                ],
                [
                 2.370257,
                 48.853222
                ],
                [
                 2.369184,
                 48.853081
                ],
                [
                 2.366737,
                 48.86319
                ],
                [
                 2.36472,
                 48.866409
                ],
                [
                 2.363477,
                 48.867256
                ],
                [
                 2.364205,
                 48.86779
                ],
                [
                 2.376866,
                 48.872108
                ],
                [
                 2.383175,
                 48.867115
                ]
               ]
              ]
             ],
             "type": "MultiPolygon"
            },
            "id": 8,
            "properties": {
             "cartodb_id": 11,
             "created_at": "2013-02-26T07:07:16.384Z",
             "name": "Popincourt",
             "updated_at": "2013-02-26T18:37:14.753Z"
            },
            "type": "Feature"
           },
           {
            "geometry": {
             "coordinates": [
              [
               [
                [
                 2.342039,
                 48.838322
                ],
                [
                 2.345431,
                 48.837605
                ],
                [
                 2.348927,
                 48.837067
                ],
                [
                 2.35189,
                 48.836731
                ],
                [
                 2.36193,
                 48.840031
                ],
                [
                 2.36493,
                 48.844379
                ],
                [
                 2.365959,
                 48.844997
                ],
                [
                 2.38856,
                 48.826481
                ],
                [
                 2.385269,
                 48.825298
                ],
                [
                 2.37881,
                 48.82148
                ],
                [
                 2.363339,
                 48.816132
                ],
                [
                 2.356799,
                 48.816441
                ],
                [
                 2.3544,
                 48.817501
                ],
                [
                 2.351669,
                 48.817989
                ],
                [
                 2.346839,
                 48.81641
                ],
                [
                 2.34405,
                 48.816441
                ],
                [
                 2.3441,
                 48.817631
                ],
                [
                 2.34459,
                 48.819382
                ],
                [
                 2.343939,
                 48.820278
                ],
                [
                 2.34242,
                 48.821461
                ],
                [
                 2.34146,
                 48.823658
                ],
                [
                 2.34165,
                 48.826408
                ],
                [
                 2.34131,
                 48.831429
                ],
                [
                 2.34111,
                 48.831947
                ],
                [
                 2.342039,
                 48.838322
                ]
               ]
              ]
             ],
             "type": "MultiPolygon"
            },
            "id": 9,
            "properties": {
             "cartodb_id": 13,
             "created_at": "2013-02-26T07:07:16.384Z",
             "name": "Gobelins",
             "updated_at": "2013-02-26T18:37:25.726Z"
            },
            "type": "Feature"
           },
           {
            "geometry": {
             "coordinates": [
              [
               [
                [
                 2.301464,
                 48.825428
                ],
                [
                 2.321032,
                 48.841503
                ],
                [
                 2.321547,
                 48.840996
                ],
                [
                 2.324594,
                 48.843651
                ],
                [
                 2.336396,
                 48.839695
                ],
                [
                 2.342105,
                 48.838284
                ],
                [
                 2.341117,
                 48.831982
                ],
                [
                 2.341504,
                 48.828793
                ],
                [
                 2.341632,
                 48.8256
                ],
                [
                 2.341504,
                 48.823254
                ],
                [
                 2.34249,
                 48.821304
                ],
                [
                 2.344036,
                 48.820118
                ],
                [
                 2.344551,
                 48.819355
                ],
                [
                 2.344164,
                 48.817574
                ],
                [
                 2.344078,
                 48.816502
                ],
                [
                 2.33571,
                 48.816811
                ],
                [
                 2.332878,
                 48.818478
                ],
                [
                 2.301464,
                 48.825428
                ]
               ]
              ]
             ],
             "type": "MultiPolygon"
            },
            "id": 10,
            "properties": {
             "cartodb_id": 14,
             "created_at": "2013-02-26T07:07:16.384Z",
             "name": "Observatoire",
             "updated_at": "2013-02-26T18:37:30.531Z"
            },
            "type": "Feature"
           },
           {
            "geometry": {
             "coordinates": [
              [
               [
                [
                 2.292365,
                 48.827492
                ],
                [
                 2.277001,
                 48.833763
                ],
                [
                 2.274255,
                 48.830429
                ],
                [
                 2.275027,
                 48.829807
                ],
                [
                 2.272797,
                 48.82896
                ],
                [
                 2.270564,
                 48.828114
                ],
                [
                 2.267818,
                 48.828171
                ],
                [
                 2.267303,
                 48.831108
                ],
                [
                 2.27065,
                 48.833591
                ],
                [
                 2.269191,
                 48.835342
                ],
                [
                 2.266188,
                 48.834724
                ],
                [
                 2.264127,
                 48.835175
                ],
                [
                 2.278204,
                 48.849014
                ],
                [
                 2.287644,
                 48.855679
                ],
                [
                 2.289963,
                 48.858276
                ],
                [
                 2.309274,
                 48.845852
                ],
                [
                 2.311335,
                 48.845287
                ],
                [
                 2.316483,
                 48.846813
                ],
                [
                 2.320003,
                 48.845173
                ],
                [
                 2.324552,
                 48.843594
                ],
                [
                 2.321633,
                 48.841049
                ],
                [
                 2.320948,
                 48.841618
                ],
                [
                 2.301464,
                 48.825512
                ],
                [
                 2.292365,
                 48.827492
                ]
               ]
              ]
             ],
             "type": "MultiPolygon"
            },
            "id": 11,
            "properties": {
             "cartodb_id": 15,
             "created_at": "2013-02-26T07:07:16.384Z",
             "name": "Vaugirard",
             "updated_at": "2013-02-26T18:37:35.322Z"
            },
            "type": "Feature"
           },
           {
            "geometry": {
             "coordinates": [
              [
               [
                [
                 2.28007,
                 48.878292
                ],
                [
                 2.294939,
                 48.873859
                ],
                [
                 2.297387,
                 48.871193
                ],
                [
                 2.299039,
                 48.868427
                ],
                [
                 2.29991,
                 48.865269
                ],
                [
                 2.301571,
                 48.864574
                ],
                [
                 2.3018,
                 48.863361
                ],
                [
                 2.29408,
                 48.86166
                ],
                [
                 2.28893,
                 48.85759
                ],
                [
                 2.28601,
                 48.854321
                ],
                [
                 2.277429,
                 48.847988
                ],
                [
                 2.26404,
                 48.835121
                ],
                [
                 2.257859,
                 48.835678
                ],
                [
                 2.253909,
                 48.839298
                ],
                [
                 2.25477,
                 48.845398
                ],
                [
                 2.2503,
                 48.845509
                ],
                [
                 2.241719,
                 48.848328
                ],
                [
                 2.2273,
                 48.84856
                ],
                [
                 2.225929,
                 48.85545
                ],
                [
                 2.23159,
                 48.86652
                ],
                [
                 2.23932,
                 48.870468
                ],
                [
                 2.2467,
                 48.876339
                ],
                [
                 2.25511,
                 48.874199
                ],
                [
                 2.258199,
                 48.88052
                ],
                [
                 2.28007,
                 48.878292
                ]
               ]
              ]
             ],
             "type": "MultiPolygon"
            },
            "id": 12,
            "properties": {
             "cartodb_id": 16,
             "created_at": "2013-02-26T07:07:16.384Z",
             "name": "Passy",
             "updated_at": "2013-02-26T18:37:40.880Z"
            },
            "type": "Feature"
           },
           {
            "geometry": {
             "coordinates": [
              [
               [
                [
                 2.27999,
                 48.878361
                ],
                [
                 2.28325,
                 48.882771
                ],
                [
                 2.29185,
                 48.88842
                ],
                [
                 2.29768,
                 48.889648
                ],
                [
                 2.306185,
                 48.895111
                ],
                [
                 2.314081,
                 48.898159
                ],
                [
                 2.32188,
                 48.900612
                ],
                [
                 2.33013,
                 48.900799
                ],
                [
                 2.32562,
                 48.887589
                ],
                [
                 2.32721,
                 48.88345
                ],
                [
                 2.31691,
                 48.881302
                ],
                [
                 2.30867,
                 48.880402
                ],
                [
                 2.29807,
                 48.878151
                ],
                [
                 2.29502,
                 48.873909
                ],
                [
                 2.27999,
                 48.878361
                ]
               ]
              ]
             ],
             "type": "MultiPolygon"
            },
            "id": 13,
            "properties": {
             "cartodb_id": 17,
             "created_at": "2013-02-26T07:07:16.384Z",
             "name": "Batignolles-Monceau",
             "updated_at": "2013-02-26T18:37:46.239Z"
            },
            "type": "Feature"
           },
           {
            "geometry": {
             "coordinates": [
              [
               [
                [
                 2.370379,
                 48.900719
                ],
                [
                 2.370379,
                 48.896709
                ],
                [
                 2.37184,
                 48.895359
                ],
                [
                 2.370289,
                 48.894459
                ],
                [
                 2.367081,
                 48.887592
                ],
                [
                 2.36663,
                 48.886604
                ],
                [
                 2.36472,
                 48.884411
                ],
                [
                 2.358789,
                 48.884411
                ],
                [
                 2.34952,
                 48.883678
                ],
                [
                 2.339739,
                 48.88187
                ],
                [
                 2.337254,
                 48.882286
                ],
                [
                 2.32953,
                 48.88443
                ],
                [
                 2.32792,
                 48.883526
                ],
                [
                 2.327192,
                 48.883415
                ],
                [
                 2.325603,
                 48.887619
                ],
                [
                 2.33021,
                 48.900829
                ],
                [
                 2.353209,
                 48.901279
                ],
                [
                 2.370379,
                 48.900719
                ]
               ]
              ]
             ],
             "type": "MultiPolygon"
            },
            "id": 14,
            "properties": {
             "cartodb_id": 18,
             "created_at": "2013-02-26T07:07:16.384Z",
             "name": "Buttes-Montmartre",
             "updated_at": "2013-02-26T18:37:52.398Z"
            },
            "type": "Feature"
           },
           {
            "geometry": {
             "coordinates": [
              [
               [
                [
                 2.408749,
                 48.877857
                ],
                [
                 2.402309,
                 48.875999
                ],
                [
                 2.395255,
                 48.875259
                ],
                [
                 2.39021,
                 48.875549
                ],
                [
                 2.387719,
                 48.874531
                ],
                [
                 2.386519,
                 48.874649
                ],
                [
                 2.38472,
                 48.873859
                ],
                [
                 2.376819,
                 48.872219
                ],
                [
                 2.370379,
                 48.87809
                ],
                [
                 2.37021,
                 48.882771
                ],
                [
                 2.36892,
                 48.883339
                ],
                [
                 2.368669,
                 48.884132
                ],
                [
                 2.364742,
                 48.884403
                ],
                [
                 2.366781,
                 48.886688
                ],
                [
                 2.368348,
                 48.890202
                ],
                [
                 2.370289,
                 48.894508
                ],
                [
                 2.37175,
                 48.89547
                ],
                [
                 2.370279,
                 48.896648
                ],
                [
                 2.370379,
                 48.90078
                ],
                [
                 2.3769,
                 48.900269
                ],
                [
                 2.38849,
                 48.900661
                ],
                [
                 2.392009,
                 48.899818
                ],
                [
                 2.39381,
                 48.898239
                ],
                [
                 2.39725,
                 48.88588
                ],
                [
                 2.401879,
                 48.88176
                ],
                [
                 2.4066,
                 48.880119
                ],
                [
                 2.408749,
                 48.877857
                ]
               ]
              ]
             ],
             "type": "MultiPolygon"
            },
            "id": 15,
            "properties": {
             "cartodb_id": 19,
             "created_at": "2013-02-26T07:07:16.384Z",
             "name": "Buttes-Chaumont",
             "updated_at": "2013-02-26T18:37:58.058Z"
            },
            "type": "Feature"
           },
           {
            "geometry": {
             "coordinates": [
              [
               [
                [
                 2.320769,
                 48.863037
                ],
                [
                 2.325229,
                 48.868938
                ],
                [
                 2.325149,
                 48.869419
                ],
                [
                 2.328018,
                 48.869949
                ],
                [
                 2.330302,
                 48.868286
                ],
                [
                 2.350944,
                 48.863407
                ],
                [
                 2.347351,
                 48.857124
                ],
                [
                 2.34691,
                 48.856972
                ],
                [
                 2.345966,
                 48.855373
                ],
                [
                 2.344529,
                 48.854012
                ],
                [
                 2.3424,
                 48.855247
                ],
                [
                 2.340469,
                 48.8568
                ],
                [
                 2.33725,
                 48.858467
                ],
                [
                 2.331459,
                 48.85968
                ],
                [
                 2.320769,
                 48.863037
                ]
               ]
              ]
             ],
             "type": "MultiPolygon"
            },
            "id": 16,
            "properties": {
             "cartodb_id": 1,
             "created_at": "2013-02-26T07:07:16.384Z",
             "name": "Louvre",
             "updated_at": "2013-02-26T18:36:13.177Z"
            },
            "type": "Feature"
           },
           {
            "geometry": {
             "coordinates": [
              [
               [
                [
                 2.36465,
                 48.845989
                ],
                [
                 2.360899,
                 48.84864
                ],
                [
                 2.35467,
                 48.850849
                ],
                [
                 2.35013,
                 48.851978
                ],
                [
                 2.34695,
                 48.853298
                ],
                [
                 2.344551,
                 48.854027
                ],
                [
                 2.345966,
                 48.855396
                ],
                [
                 2.346986,
                 48.856964
                ],
                [
                 2.347329,
                 48.857147
                ],
                [
                 2.350169,
                 48.86203
                ],
                [
                 2.353299,
                 48.86124
                ],
                [
                 2.35678,
                 48.860161
                ],
                [
                 2.358579,
                 48.858749
                ],
                [
                 2.36167,
                 48.857258
                ],
                [
                 2.364329,
                 48.856407
                ],
                [
                 2.36836,
                 48.855869
                ],
                [
                 2.3692,
                 48.85281
                ],
                [
                 2.366299,
                 48.846958
                ],
                [
                 2.36465,
                 48.845989
                ]
               ]
              ]
             ],
             "type": "MultiPolygon"
            },
            "id": 17,
            "properties": {
             "cartodb_id": 4,
             "created_at": "2013-02-26T07:07:16.384Z",
             "name": "Hôtel-de-Ville",
             "updated_at": "2013-02-26T18:36:29.259Z"
            },
            "type": "Feature"
           },
           {
            "geometry": {
             "coordinates": [
              [
               [
                [
                 2.414499,
                 48.846809
                ],
                [
                 2.41252,
                 48.836529
                ],
                [
                 2.409609,
                 48.83427
                ],
                [
                 2.41407,
                 48.833698
                ],
                [
                 2.42214,
                 48.83585
                ],
                [
                 2.420249,
                 48.840588
                ],
                [
                 2.419299,
                 48.84206
                ],
                [
                 2.419989,
                 48.84359
                ],
                [
                 2.42179,
                 48.844547
                ],
                [
                 2.42445,
                 48.841778
                ],
                [
                 2.438359,
                 48.840588
                ],
                [
                 2.43922,
                 48.844547
                ],
                [
                 2.44085,
                 48.84444
                ],
                [
                 2.44076,
                 48.845959
                ],
                [
                 2.4466,
                 48.845901
                ],
                [
                 2.44634,
                 48.84494
                ],
                [
                 2.455519,
                 48.844097
                ],
                [
                 2.46334,
                 48.842232
                ],
                [
                 2.46977,
                 48.836529
                ],
                [
                 2.46909,
                 48.834148
                ],
                [
                 2.465219,
                 48.831497
                ],
                [
                 2.46428,
                 48.827599
                ],
                [
                 2.466,
                 48.827259
                ],
                [
                 2.464789,
                 48.822968
                ],
                [
                 2.462559,
                 48.819458
                ],
                [
                 2.45887,
                 48.81715
                ],
                [
                 2.453889,
                 48.816978
                ],
                [
                 2.44857,
                 48.818157
                ],
                [
                 2.4375,
                 48.818439
                ],
                [
                 2.43733,
                 48.81963
                ],
                [
                 2.431919,
                 48.822628
                ],
                [
                 2.42763,
                 48.82415
                ],
                [
                 2.421959,
                 48.824211
                ],
                [
                 2.419729,
                 48.8241
                ],
                [
                 2.41733,
                 48.8246
                ],
                [
                 2.41107,
                 48.825001
                ],
                [
                 2.40669,
                 48.826981
                ],
                [
                 2.403509,
                 48.8293
                ],
                [
                 2.40111,
                 48.829689
                ],
                [
                 2.39562,
                 48.828049
                ],
                [
                 2.390719,
                 48.827198
                ],
                [
                 2.38858,
                 48.826469
                ],
                [
                 2.364539,
                 48.84613
                ],
                [
                 2.366429,
                 48.847031
                ],
                [
                 2.36918,
                 48.85313
                ],
                [
                 2.370379,
                 48.85313
                ],
                [
                 2.371544,
                 48.852417
                ],
                [
                 2.38017,
                 48.850368
                ],
                [
                 2.384459,
                 48.850079
                ],
                [
                 2.39596,
                 48.848328
                ],
                [
                 2.414499,
                 48.846809
                ]
               ]
              ]
             ],
             "type": "MultiPolygon"
            },
            "id": 18,
            "properties": {
             "cartodb_id": 12,
             "created_at": "2013-02-26T07:07:16.384Z",
             "name": "Reuilly",
             "updated_at": "2013-02-26T18:37:20.571Z"
            },
            "type": "Feature"
           },
           {
            "geometry": {
             "coordinates": [
              [
               [
                [
                 2.4133,
                 48.865269
                ],
                [
                 2.41414,
                 48.859051
                ],
                [
                 2.41398,
                 48.853809
                ],
                [
                 2.414675,
                 48.852573
                ],
                [
                 2.41527,
                 48.851028
                ],
                [
                 2.41441,
                 48.846802
                ],
                [
                 2.39904,
                 48.848099
                ],
                [
                 2.3993,
                 48.848789
                ],
                [
                 2.39835,
                 48.851261
                ],
                [
                 2.39441,
                 48.856522
                ],
                [
                 2.38965,
                 48.858471
                ],
                [
                 2.38737,
                 48.862961
                ],
                [
                 2.3835,
                 48.866169
                ],
                [
                 2.38319,
                 48.867142
                ],
                [
                 2.37682,
                 48.872231
                ],
                [
                 2.38497,
                 48.873959
                ],
                [
                 2.38651,
                 48.874691
                ],
                [
                 2.38789,
                 48.874531
                ],
                [
                 2.39037,
                 48.875542
                ],
                [
                 2.39529,
                 48.87521
                ],
                [
                 2.40221,
                 48.87595
                ],
                [
                 2.40858,
                 48.87785
                ],
                [
                 2.41097,
                 48.87431
                ],
                [
                 2.41338,
                 48.87109
                ],
                [
                 2.4133,
                 48.865269
                ]
               ]
              ]
             ],
             "type": "MultiPolygon"
            },
            "id": 19,
            "properties": {
             "cartodb_id": 20,
             "created_at": "2013-02-26T07:07:16.384Z",
             "name": "Ménilmontant",
             "updated_at": "2013-02-26T18:38:05.143Z"
            },
            "type": "Feature"
           }
          ],
          "type": "FeatureCollection"
         },
         "hoverinfo": "all",
         "hovertemplate": "<b>neighbourhood</b>: <b>%{text}</b><br> <b># Listings </b>: %{z}<br>",
         "locations": [
          0,
          1,
          2,
          3,
          4,
          5,
          6,
          7,
          8,
          9,
          10,
          11,
          12,
          13,
          14,
          15,
          16,
          17,
          18,
          19,
          20,
          21,
          22,
          23,
          24,
          25,
          26,
          27,
          28,
          29,
          30,
          31,
          32,
          33,
          34,
          35,
          36,
          37,
          38,
          39,
          40,
          41,
          42,
          43,
          44,
          45,
          46,
          47,
          48,
          49,
          50,
          51,
          52,
          53,
          54,
          55,
          56,
          57,
          58,
          59,
          60,
          61,
          62,
          63,
          64,
          65,
          66,
          67,
          68,
          69,
          70,
          71,
          72,
          73,
          74,
          75,
          76,
          77,
          78,
          79,
          80,
          81,
          82,
          83,
          84,
          85,
          86,
          87,
          88,
          89,
          90,
          91,
          92,
          93,
          94,
          95,
          96,
          97,
          98,
          99
         ],
         "marker": {
          "line": {
           "width": 1
          },
          "opacity": 0.75
         },
         "text": [
          "Bourse",
          "Temple",
          "Panthéon",
          "Luxembourg",
          "Palais-Bourbon",
          "Élysée",
          "Opéra",
          "Entrepôt",
          "Popincourt",
          "Gobelins",
          "Observatoire",
          "Vaugirard",
          "Passy",
          "Batignolles-Monceau",
          "Buttes-Montmartre",
          "Buttes-Chaumont",
          "Louvre",
          "Hôtel-de-Ville",
          "Reuilly",
          "Ménilmontant"
         ],
         "type": "choroplethmapbox",
         "z": [
          2388,
          3185,
          2250,
          2012,
          1902,
          1848,
          3227,
          4674,
          6635,
          2358,
          2583,
          5094,
          3350,
          4536,
          7591,
          3837,
          1422,
          2081,
          2733,
          3859
         ]
        }
       ],
       "layout": {
        "mapbox": {
         "accesstoken": "pk.eyJ1IjoibWF0MTIyMiIsImEiOiJjanFxb2RlaWwwNHRmNDhsajBldGx5ZDRtIn0.9KCxTE8rO3IaERFhzFYsGA",
         "center": {
          "lat": 48.8566,
          "lon": 2.3522
         },
         "style": "light",
         "zoom": 10
        },
        "template": {
         "data": {
          "bar": [
           {
            "error_x": {
             "color": "#2a3f5f"
            },
            "error_y": {
             "color": "#2a3f5f"
            },
            "marker": {
             "line": {
              "color": "#E5ECF6",
              "width": 0.5
             }
            },
            "type": "bar"
           }
          ],
          "barpolar": [
           {
            "marker": {
             "line": {
              "color": "#E5ECF6",
              "width": 0.5
             }
            },
            "type": "barpolar"
           }
          ],
          "carpet": [
           {
            "aaxis": {
             "endlinecolor": "#2a3f5f",
             "gridcolor": "white",
             "linecolor": "white",
             "minorgridcolor": "white",
             "startlinecolor": "#2a3f5f"
            },
            "baxis": {
             "endlinecolor": "#2a3f5f",
             "gridcolor": "white",
             "linecolor": "white",
             "minorgridcolor": "white",
             "startlinecolor": "#2a3f5f"
            },
            "type": "carpet"
           }
          ],
          "choropleth": [
           {
            "colorbar": {
             "outlinewidth": 0,
             "ticks": ""
            },
            "type": "choropleth"
           }
          ],
          "contour": [
           {
            "colorbar": {
             "outlinewidth": 0,
             "ticks": ""
            },
            "colorscale": [
             [
              0,
              "#0d0887"
             ],
             [
              0.1111111111111111,
              "#46039f"
             ],
             [
              0.2222222222222222,
              "#7201a8"
             ],
             [
              0.3333333333333333,
              "#9c179e"
             ],
             [
              0.4444444444444444,
              "#bd3786"
             ],
             [
              0.5555555555555556,
              "#d8576b"
             ],
             [
              0.6666666666666666,
              "#ed7953"
             ],
             [
              0.7777777777777778,
              "#fb9f3a"
             ],
             [
              0.8888888888888888,
              "#fdca26"
             ],
             [
              1,
              "#f0f921"
             ]
            ],
            "type": "contour"
           }
          ],
          "contourcarpet": [
           {
            "colorbar": {
             "outlinewidth": 0,
             "ticks": ""
            },
            "type": "contourcarpet"
           }
          ],
          "heatmap": [
           {
            "colorbar": {
             "outlinewidth": 0,
             "ticks": ""
            },
            "colorscale": [
             [
              0,
              "#0d0887"
             ],
             [
              0.1111111111111111,
              "#46039f"
             ],
             [
              0.2222222222222222,
              "#7201a8"
             ],
             [
              0.3333333333333333,
              "#9c179e"
             ],
             [
              0.4444444444444444,
              "#bd3786"
             ],
             [
              0.5555555555555556,
              "#d8576b"
             ],
             [
              0.6666666666666666,
              "#ed7953"
             ],
             [
              0.7777777777777778,
              "#fb9f3a"
             ],
             [
              0.8888888888888888,
              "#fdca26"
             ],
             [
              1,
              "#f0f921"
             ]
            ],
            "type": "heatmap"
           }
          ],
          "heatmapgl": [
           {
            "colorbar": {
             "outlinewidth": 0,
             "ticks": ""
            },
            "colorscale": [
             [
              0,
              "#0d0887"
             ],
             [
              0.1111111111111111,
              "#46039f"
             ],
             [
              0.2222222222222222,
              "#7201a8"
             ],
             [
              0.3333333333333333,
              "#9c179e"
             ],
             [
              0.4444444444444444,
              "#bd3786"
             ],
             [
              0.5555555555555556,
              "#d8576b"
             ],
             [
              0.6666666666666666,
              "#ed7953"
             ],
             [
              0.7777777777777778,
              "#fb9f3a"
             ],
             [
              0.8888888888888888,
              "#fdca26"
             ],
             [
              1,
              "#f0f921"
             ]
            ],
            "type": "heatmapgl"
           }
          ],
          "histogram": [
           {
            "marker": {
             "colorbar": {
              "outlinewidth": 0,
              "ticks": ""
             }
            },
            "type": "histogram"
           }
          ],
          "histogram2d": [
           {
            "colorbar": {
             "outlinewidth": 0,
             "ticks": ""
            },
            "colorscale": [
             [
              0,
              "#0d0887"
             ],
             [
              0.1111111111111111,
              "#46039f"
             ],
             [
              0.2222222222222222,
              "#7201a8"
             ],
             [
              0.3333333333333333,
              "#9c179e"
             ],
             [
              0.4444444444444444,
              "#bd3786"
             ],
             [
              0.5555555555555556,
              "#d8576b"
             ],
             [
              0.6666666666666666,
              "#ed7953"
             ],
             [
              0.7777777777777778,
              "#fb9f3a"
             ],
             [
              0.8888888888888888,
              "#fdca26"
             ],
             [
              1,
              "#f0f921"
             ]
            ],
            "type": "histogram2d"
           }
          ],
          "histogram2dcontour": [
           {
            "colorbar": {
             "outlinewidth": 0,
             "ticks": ""
            },
            "colorscale": [
             [
              0,
              "#0d0887"
             ],
             [
              0.1111111111111111,
              "#46039f"
             ],
             [
              0.2222222222222222,
              "#7201a8"
             ],
             [
              0.3333333333333333,
              "#9c179e"
             ],
             [
              0.4444444444444444,
              "#bd3786"
             ],
             [
              0.5555555555555556,
              "#d8576b"
             ],
             [
              0.6666666666666666,
              "#ed7953"
             ],
             [
              0.7777777777777778,
              "#fb9f3a"
             ],
             [
              0.8888888888888888,
              "#fdca26"
             ],
             [
              1,
              "#f0f921"
             ]
            ],
            "type": "histogram2dcontour"
           }
          ],
          "mesh3d": [
           {
            "colorbar": {
             "outlinewidth": 0,
             "ticks": ""
            },
            "type": "mesh3d"
           }
          ],
          "parcoords": [
           {
            "line": {
             "colorbar": {
              "outlinewidth": 0,
              "ticks": ""
             }
            },
            "type": "parcoords"
           }
          ],
          "pie": [
           {
            "automargin": true,
            "type": "pie"
           }
          ],
          "scatter": [
           {
            "marker": {
             "colorbar": {
              "outlinewidth": 0,
              "ticks": ""
             }
            },
            "type": "scatter"
           }
          ],
          "scatter3d": [
           {
            "line": {
             "colorbar": {
              "outlinewidth": 0,
              "ticks": ""
             }
            },
            "marker": {
             "colorbar": {
              "outlinewidth": 0,
              "ticks": ""
             }
            },
            "type": "scatter3d"
           }
          ],
          "scattercarpet": [
           {
            "marker": {
             "colorbar": {
              "outlinewidth": 0,
              "ticks": ""
             }
            },
            "type": "scattercarpet"
           }
          ],
          "scattergeo": [
           {
            "marker": {
             "colorbar": {
              "outlinewidth": 0,
              "ticks": ""
             }
            },
            "type": "scattergeo"
           }
          ],
          "scattergl": [
           {
            "marker": {
             "colorbar": {
              "outlinewidth": 0,
              "ticks": ""
             }
            },
            "type": "scattergl"
           }
          ],
          "scattermapbox": [
           {
            "marker": {
             "colorbar": {
              "outlinewidth": 0,
              "ticks": ""
             }
            },
            "type": "scattermapbox"
           }
          ],
          "scatterpolar": [
           {
            "marker": {
             "colorbar": {
              "outlinewidth": 0,
              "ticks": ""
             }
            },
            "type": "scatterpolar"
           }
          ],
          "scatterpolargl": [
           {
            "marker": {
             "colorbar": {
              "outlinewidth": 0,
              "ticks": ""
             }
            },
            "type": "scatterpolargl"
           }
          ],
          "scatterternary": [
           {
            "marker": {
             "colorbar": {
              "outlinewidth": 0,
              "ticks": ""
             }
            },
            "type": "scatterternary"
           }
          ],
          "surface": [
           {
            "colorbar": {
             "outlinewidth": 0,
             "ticks": ""
            },
            "colorscale": [
             [
              0,
              "#0d0887"
             ],
             [
              0.1111111111111111,
              "#46039f"
             ],
             [
              0.2222222222222222,
              "#7201a8"
             ],
             [
              0.3333333333333333,
              "#9c179e"
             ],
             [
              0.4444444444444444,
              "#bd3786"
             ],
             [
              0.5555555555555556,
              "#d8576b"
             ],
             [
              0.6666666666666666,
              "#ed7953"
             ],
             [
              0.7777777777777778,
              "#fb9f3a"
             ],
             [
              0.8888888888888888,
              "#fdca26"
             ],
             [
              1,
              "#f0f921"
             ]
            ],
            "type": "surface"
           }
          ],
          "table": [
           {
            "cells": {
             "fill": {
              "color": "#EBF0F8"
             },
             "line": {
              "color": "white"
             }
            },
            "header": {
             "fill": {
              "color": "#C8D4E3"
             },
             "line": {
              "color": "white"
             }
            },
            "type": "table"
           }
          ]
         },
         "layout": {
          "annotationdefaults": {
           "arrowcolor": "#2a3f5f",
           "arrowhead": 0,
           "arrowwidth": 1
          },
          "coloraxis": {
           "colorbar": {
            "outlinewidth": 0,
            "ticks": ""
           }
          },
          "colorscale": {
           "diverging": [
            [
             0,
             "#8e0152"
            ],
            [
             0.1,
             "#c51b7d"
            ],
            [
             0.2,
             "#de77ae"
            ],
            [
             0.3,
             "#f1b6da"
            ],
            [
             0.4,
             "#fde0ef"
            ],
            [
             0.5,
             "#f7f7f7"
            ],
            [
             0.6,
             "#e6f5d0"
            ],
            [
             0.7,
             "#b8e186"
            ],
            [
             0.8,
             "#7fbc41"
            ],
            [
             0.9,
             "#4d9221"
            ],
            [
             1,
             "#276419"
            ]
           ],
           "sequential": [
            [
             0,
             "#0d0887"
            ],
            [
             0.1111111111111111,
             "#46039f"
            ],
            [
             0.2222222222222222,
             "#7201a8"
            ],
            [
             0.3333333333333333,
             "#9c179e"
            ],
            [
             0.4444444444444444,
             "#bd3786"
            ],
            [
             0.5555555555555556,
             "#d8576b"
            ],
            [
             0.6666666666666666,
             "#ed7953"
            ],
            [
             0.7777777777777778,
             "#fb9f3a"
            ],
            [
             0.8888888888888888,
             "#fdca26"
            ],
            [
             1,
             "#f0f921"
            ]
           ],
           "sequentialminus": [
            [
             0,
             "#0d0887"
            ],
            [
             0.1111111111111111,
             "#46039f"
            ],
            [
             0.2222222222222222,
             "#7201a8"
            ],
            [
             0.3333333333333333,
             "#9c179e"
            ],
            [
             0.4444444444444444,
             "#bd3786"
            ],
            [
             0.5555555555555556,
             "#d8576b"
            ],
            [
             0.6666666666666666,
             "#ed7953"
            ],
            [
             0.7777777777777778,
             "#fb9f3a"
            ],
            [
             0.8888888888888888,
             "#fdca26"
            ],
            [
             1,
             "#f0f921"
            ]
           ]
          },
          "colorway": [
           "#636efa",
           "#EF553B",
           "#00cc96",
           "#ab63fa",
           "#FFA15A",
           "#19d3f3",
           "#FF6692",
           "#B6E880",
           "#FF97FF",
           "#FECB52"
          ],
          "font": {
           "color": "#2a3f5f"
          },
          "geo": {
           "bgcolor": "white",
           "lakecolor": "white",
           "landcolor": "#E5ECF6",
           "showlakes": true,
           "showland": true,
           "subunitcolor": "white"
          },
          "hoverlabel": {
           "align": "left"
          },
          "hovermode": "closest",
          "mapbox": {
           "style": "light"
          },
          "paper_bgcolor": "white",
          "plot_bgcolor": "#E5ECF6",
          "polar": {
           "angularaxis": {
            "gridcolor": "white",
            "linecolor": "white",
            "ticks": ""
           },
           "bgcolor": "#E5ECF6",
           "radialaxis": {
            "gridcolor": "white",
            "linecolor": "white",
            "ticks": ""
           }
          },
          "scene": {
           "xaxis": {
            "backgroundcolor": "#E5ECF6",
            "gridcolor": "white",
            "gridwidth": 2,
            "linecolor": "white",
            "showbackground": true,
            "ticks": "",
            "zerolinecolor": "white"
           },
           "yaxis": {
            "backgroundcolor": "#E5ECF6",
            "gridcolor": "white",
            "gridwidth": 2,
            "linecolor": "white",
            "showbackground": true,
            "ticks": "",
            "zerolinecolor": "white"
           },
           "zaxis": {
            "backgroundcolor": "#E5ECF6",
            "gridcolor": "white",
            "gridwidth": 2,
            "linecolor": "white",
            "showbackground": true,
            "ticks": "",
            "zerolinecolor": "white"
           }
          },
          "shapedefaults": {
           "line": {
            "color": "#2a3f5f"
           }
          },
          "ternary": {
           "aaxis": {
            "gridcolor": "white",
            "linecolor": "white",
            "ticks": ""
           },
           "baxis": {
            "gridcolor": "white",
            "linecolor": "white",
            "ticks": ""
           },
           "bgcolor": "#E5ECF6",
           "caxis": {
            "gridcolor": "white",
            "linecolor": "white",
            "ticks": ""
           }
          },
          "title": {
           "x": 0.05
          },
          "xaxis": {
           "automargin": true,
           "gridcolor": "white",
           "linecolor": "white",
           "ticks": "",
           "title": {
            "standoff": 15
           },
           "zerolinecolor": "white",
           "zerolinewidth": 2
          },
          "yaxis": {
           "automargin": true,
           "gridcolor": "white",
           "linecolor": "white",
           "ticks": "",
           "title": {
            "standoff": 15
           },
           "zerolinecolor": "white",
           "zerolinewidth": 2
          }
         }
        },
        "title": {
         "text": "# Listing per Neighbourhood",
         "x": 0.5
        },
        "width": 700
       }
      },
      "text/html": [
       "<div>\n",
       "        \n",
       "        \n",
       "            <div id=\"722768ff-31d6-496e-b2a4-d11cd3db03ab\" class=\"plotly-graph-div\" style=\"height:525px; width:700px;\"></div>\n",
       "            <script type=\"text/javascript\">\n",
       "                require([\"plotly\"], function(Plotly) {\n",
       "                    window.PLOTLYENV=window.PLOTLYENV || {};\n",
       "                    \n",
       "                if (document.getElementById(\"722768ff-31d6-496e-b2a4-d11cd3db03ab\")) {\n",
       "                    Plotly.newPlot(\n",
       "                        '722768ff-31d6-496e-b2a4-d11cd3db03ab',\n",
       "                        [{\"colorbar\": {\"thickness\": 20, \"ticklen\": 3}, \"colorscale\": [[0.0, \"rgb(255,245,240)\"], [0.125, \"rgb(254,224,210)\"], [0.25, \"rgb(252,187,161)\"], [0.375, \"rgb(252,146,114)\"], [0.5, \"rgb(251,106,74)\"], [0.625, \"rgb(239,59,44)\"], [0.75, \"rgb(203,24,29)\"], [0.875, \"rgb(165,15,21)\"], [1.0, \"rgb(103,0,13)\"]], \"geojson\": {\"features\": [{\"geometry\": {\"coordinates\": [[[[2.339999, 48.87196], [2.34789, 48.870689], [2.35433, 48.869308], [2.350979, 48.863411], [2.330292, 48.868294], [2.328211, 48.86972], [2.328072, 48.869923], [2.339999, 48.87196]]]], \"type\": \"MultiPolygon\"}, \"id\": 0, \"properties\": {\"cartodb_id\": 2, \"created_at\": \"2013-02-26T07:07:16.384Z\", \"name\": \"Bourse\", \"updated_at\": \"2013-02-26T18:36:18.682Z\"}, \"type\": \"Feature\"}, {\"geometry\": {\"coordinates\": [[[[2.36236, 48.867905], [2.364764, 48.866436], [2.366694, 48.86319], [2.368454, 48.85582], [2.364335, 48.856441], [2.361631, 48.857262], [2.358626, 48.858757], [2.356825, 48.860111], [2.353391, 48.861214], [2.350172, 48.862034], [2.354249, 48.869286], [2.36236, 48.867905]]]], \"type\": \"MultiPolygon\"}, \"id\": 1, \"properties\": {\"cartodb_id\": 3, \"created_at\": \"2013-02-26T07:07:16.384Z\", \"name\": \"Temple\", \"updated_at\": \"2013-02-26T18:36:24.060Z\"}, \"type\": \"Feature\"}, {\"geometry\": {\"coordinates\": [[[[2.351799, 48.83675], [2.345489, 48.837601], [2.336462, 48.839622], [2.342576, 48.850258], [2.344199, 48.85376], [2.3445, 48.854038], [2.346859, 48.853298], [2.350169, 48.851997], [2.3548, 48.850788], [2.36098, 48.84861], [2.366, 48.844997], [2.36493, 48.844379], [2.361839, 48.84], [2.351799, 48.83675]]]], \"type\": \"MultiPolygon\"}, \"id\": 2, \"properties\": {\"cartodb_id\": 5, \"created_at\": \"2013-02-26T07:07:16.384Z\", \"name\": \"Panth\\u00e9on\", \"updated_at\": \"2013-02-26T18:36:34.699Z\"}, \"type\": \"Feature\"}, {\"geometry\": {\"coordinates\": [[[[2.316469, 48.846851], [2.31904, 48.847851], [2.32412, 48.850311], [2.32704, 48.851608], [2.32866, 48.851952], [2.331599, 48.856339], [2.33386, 48.85918], [2.337499, 48.85849], [2.340592, 48.85675], [2.342512, 48.855247], [2.344465, 48.853992], [2.34425, 48.853767], [2.342639, 48.850349], [2.33652, 48.83963], [2.31999, 48.8451], [2.316469, 48.846851]]]], \"type\": \"MultiPolygon\"}, \"id\": 3, \"properties\": {\"cartodb_id\": 6, \"created_at\": \"2013-02-26T07:07:16.384Z\", \"name\": \"Luxembourg\", \"updated_at\": \"2013-02-26T18:36:40.774Z\"}, \"type\": \"Feature\"}, {\"geometry\": {\"coordinates\": [[[[2.309531, 48.84581], [2.307342, 48.847153], [2.289877, 48.858192], [2.294769, 48.861862], [2.300219, 48.863499], [2.31833, 48.863838], [2.331462, 48.859676], [2.333844, 48.85918], [2.33159, 48.856258], [2.33041, 48.854424], [2.329295, 48.852673], [2.328479, 48.851826], [2.327106, 48.851601], [2.319274, 48.847801], [2.313651, 48.845909], [2.311355, 48.845215], [2.309531, 48.84581]]]], \"type\": \"MultiPolygon\"}, \"id\": 4, \"properties\": {\"cartodb_id\": 7, \"created_at\": \"2013-02-26T07:07:16.384Z\", \"name\": \"Palais-Bourbon\", \"updated_at\": \"2013-02-26T18:36:45.091Z\"}, \"type\": \"Feature\"}, {\"geometry\": {\"coordinates\": [[[[2.30155, 48.864601], [2.299869, 48.865131], [2.298799, 48.86869], [2.297299, 48.871151], [2.295539, 48.87326], [2.29457, 48.873192], [2.294029, 48.873669], [2.294399, 48.87429], [2.295409, 48.874317], [2.297769, 48.87775], [2.297639, 48.878029], [2.298049, 48.87846], [2.298799, 48.87825], [2.309009, 48.880459], [2.316609, 48.88134], [2.32721, 48.88345], [2.326849, 48.875908], [2.326611, 48.875404], [2.326976, 48.873825], [2.326869, 48.873329], [2.32629, 48.872597], [2.326505, 48.872471], [2.325819, 48.869534], [2.325152, 48.869392], [2.32526, 48.869019], [2.320769, 48.863098], [2.31828, 48.863811], [2.30167, 48.863522], [2.30155, 48.864601]]]], \"type\": \"MultiPolygon\"}, \"id\": 5, \"properties\": {\"cartodb_id\": 8, \"created_at\": \"2013-02-26T07:07:16.384Z\", \"name\": \"\\u00c9lys\\u00e9e\", \"updated_at\": \"2013-02-26T18:36:51.084Z\"}, \"type\": \"Feature\"}, {\"geometry\": {\"coordinates\": [[[[2.339599, 48.882011], [2.34952, 48.883781], [2.34987, 48.880692], [2.349209, 48.87888], [2.349, 48.87722], [2.348139, 48.87566], [2.34785, 48.873871], [2.34789, 48.870689], [2.34004, 48.87196], [2.32579, 48.869572], [2.326519, 48.872471], [2.326309, 48.872589], [2.32688, 48.873341], [2.326979, 48.873779], [2.32663, 48.875439], [2.32682, 48.87595], [2.32717, 48.883419], [2.327929, 48.883621], [2.32948, 48.884651], [2.337406, 48.882271], [2.339599, 48.882011]]]], \"type\": \"MultiPolygon\"}, \"id\": 6, \"properties\": {\"cartodb_id\": 9, \"created_at\": \"2013-02-26T07:07:16.384Z\", \"name\": \"Op\\u00e9ra\", \"updated_at\": \"2013-02-26T18:37:00.221Z\"}, \"type\": \"Feature\"}, {\"geometry\": {\"coordinates\": [[[[2.368755, 48.884079], [2.369142, 48.883289], [2.370213, 48.882637], [2.370257, 48.878632], [2.370814, 48.878124], [2.370601, 48.87756], [2.376952, 48.872108], [2.372917, 48.870644], [2.364205, 48.86779], [2.363477, 48.867226], [2.362404, 48.867905], [2.354293, 48.869286], [2.347941, 48.870728], [2.347812, 48.873943], [2.348155, 48.875751], [2.348971, 48.877277], [2.349272, 48.879223], [2.349873, 48.880692], [2.349486, 48.883797], [2.359227, 48.884472], [2.364806, 48.884361], [2.368755, 48.884079]]]], \"type\": \"MultiPolygon\"}, \"id\": 7, \"properties\": {\"cartodb_id\": 10, \"created_at\": \"2013-02-26T07:07:16.384Z\", \"name\": \"Entrep\\u00f4t\", \"updated_at\": \"2013-02-26T18:37:05.756Z\"}, \"type\": \"Feature\"}, {\"geometry\": {\"coordinates\": [[[[2.383175, 48.867115], [2.383776, 48.86607], [2.387465, 48.862823], [2.389654, 48.858444], [2.39223, 48.857571], [2.394321, 48.856548], [2.398398, 48.85133], [2.399214, 48.848709], [2.399064, 48.848103], [2.395899, 48.848351], [2.384291, 48.85017], [2.379999, 48.850483], [2.371544, 48.852459], [2.370257, 48.853222], [2.369184, 48.853081], [2.366737, 48.86319], [2.36472, 48.866409], [2.363477, 48.867256], [2.364205, 48.86779], [2.376866, 48.872108], [2.383175, 48.867115]]]], \"type\": \"MultiPolygon\"}, \"id\": 8, \"properties\": {\"cartodb_id\": 11, \"created_at\": \"2013-02-26T07:07:16.384Z\", \"name\": \"Popincourt\", \"updated_at\": \"2013-02-26T18:37:14.753Z\"}, \"type\": \"Feature\"}, {\"geometry\": {\"coordinates\": [[[[2.342039, 48.838322], [2.345431, 48.837605], [2.348927, 48.837067], [2.35189, 48.836731], [2.36193, 48.840031], [2.36493, 48.844379], [2.365959, 48.844997], [2.38856, 48.826481], [2.385269, 48.825298], [2.37881, 48.82148], [2.363339, 48.816132], [2.356799, 48.816441], [2.3544, 48.817501], [2.351669, 48.817989], [2.346839, 48.81641], [2.34405, 48.816441], [2.3441, 48.817631], [2.34459, 48.819382], [2.343939, 48.820278], [2.34242, 48.821461], [2.34146, 48.823658], [2.34165, 48.826408], [2.34131, 48.831429], [2.34111, 48.831947], [2.342039, 48.838322]]]], \"type\": \"MultiPolygon\"}, \"id\": 9, \"properties\": {\"cartodb_id\": 13, \"created_at\": \"2013-02-26T07:07:16.384Z\", \"name\": \"Gobelins\", \"updated_at\": \"2013-02-26T18:37:25.726Z\"}, \"type\": \"Feature\"}, {\"geometry\": {\"coordinates\": [[[[2.301464, 48.825428], [2.321032, 48.841503], [2.321547, 48.840996], [2.324594, 48.843651], [2.336396, 48.839695], [2.342105, 48.838284], [2.341117, 48.831982], [2.341504, 48.828793], [2.341632, 48.8256], [2.341504, 48.823254], [2.34249, 48.821304], [2.344036, 48.820118], [2.344551, 48.819355], [2.344164, 48.817574], [2.344078, 48.816502], [2.33571, 48.816811], [2.332878, 48.818478], [2.301464, 48.825428]]]], \"type\": \"MultiPolygon\"}, \"id\": 10, \"properties\": {\"cartodb_id\": 14, \"created_at\": \"2013-02-26T07:07:16.384Z\", \"name\": \"Observatoire\", \"updated_at\": \"2013-02-26T18:37:30.531Z\"}, \"type\": \"Feature\"}, {\"geometry\": {\"coordinates\": [[[[2.292365, 48.827492], [2.277001, 48.833763], [2.274255, 48.830429], [2.275027, 48.829807], [2.272797, 48.82896], [2.270564, 48.828114], [2.267818, 48.828171], [2.267303, 48.831108], [2.27065, 48.833591], [2.269191, 48.835342], [2.266188, 48.834724], [2.264127, 48.835175], [2.278204, 48.849014], [2.287644, 48.855679], [2.289963, 48.858276], [2.309274, 48.845852], [2.311335, 48.845287], [2.316483, 48.846813], [2.320003, 48.845173], [2.324552, 48.843594], [2.321633, 48.841049], [2.320948, 48.841618], [2.301464, 48.825512], [2.292365, 48.827492]]]], \"type\": \"MultiPolygon\"}, \"id\": 11, \"properties\": {\"cartodb_id\": 15, \"created_at\": \"2013-02-26T07:07:16.384Z\", \"name\": \"Vaugirard\", \"updated_at\": \"2013-02-26T18:37:35.322Z\"}, \"type\": \"Feature\"}, {\"geometry\": {\"coordinates\": [[[[2.28007, 48.878292], [2.294939, 48.873859], [2.297387, 48.871193], [2.299039, 48.868427], [2.29991, 48.865269], [2.301571, 48.864574], [2.3018, 48.863361], [2.29408, 48.86166], [2.28893, 48.85759], [2.28601, 48.854321], [2.277429, 48.847988], [2.26404, 48.835121], [2.257859, 48.835678], [2.253909, 48.839298], [2.25477, 48.845398], [2.2503, 48.845509], [2.241719, 48.848328], [2.2273, 48.84856], [2.225929, 48.85545], [2.23159, 48.86652], [2.23932, 48.870468], [2.2467, 48.876339], [2.25511, 48.874199], [2.258199, 48.88052], [2.28007, 48.878292]]]], \"type\": \"MultiPolygon\"}, \"id\": 12, \"properties\": {\"cartodb_id\": 16, \"created_at\": \"2013-02-26T07:07:16.384Z\", \"name\": \"Passy\", \"updated_at\": \"2013-02-26T18:37:40.880Z\"}, \"type\": \"Feature\"}, {\"geometry\": {\"coordinates\": [[[[2.27999, 48.878361], [2.28325, 48.882771], [2.29185, 48.88842], [2.29768, 48.889648], [2.306185, 48.895111], [2.314081, 48.898159], [2.32188, 48.900612], [2.33013, 48.900799], [2.32562, 48.887589], [2.32721, 48.88345], [2.31691, 48.881302], [2.30867, 48.880402], [2.29807, 48.878151], [2.29502, 48.873909], [2.27999, 48.878361]]]], \"type\": \"MultiPolygon\"}, \"id\": 13, \"properties\": {\"cartodb_id\": 17, \"created_at\": \"2013-02-26T07:07:16.384Z\", \"name\": \"Batignolles-Monceau\", \"updated_at\": \"2013-02-26T18:37:46.239Z\"}, \"type\": \"Feature\"}, {\"geometry\": {\"coordinates\": [[[[2.370379, 48.900719], [2.370379, 48.896709], [2.37184, 48.895359], [2.370289, 48.894459], [2.367081, 48.887592], [2.36663, 48.886604], [2.36472, 48.884411], [2.358789, 48.884411], [2.34952, 48.883678], [2.339739, 48.88187], [2.337254, 48.882286], [2.32953, 48.88443], [2.32792, 48.883526], [2.327192, 48.883415], [2.325603, 48.887619], [2.33021, 48.900829], [2.353209, 48.901279], [2.370379, 48.900719]]]], \"type\": \"MultiPolygon\"}, \"id\": 14, \"properties\": {\"cartodb_id\": 18, \"created_at\": \"2013-02-26T07:07:16.384Z\", \"name\": \"Buttes-Montmartre\", \"updated_at\": \"2013-02-26T18:37:52.398Z\"}, \"type\": \"Feature\"}, {\"geometry\": {\"coordinates\": [[[[2.408749, 48.877857], [2.402309, 48.875999], [2.395255, 48.875259], [2.39021, 48.875549], [2.387719, 48.874531], [2.386519, 48.874649], [2.38472, 48.873859], [2.376819, 48.872219], [2.370379, 48.87809], [2.37021, 48.882771], [2.36892, 48.883339], [2.368669, 48.884132], [2.364742, 48.884403], [2.366781, 48.886688], [2.368348, 48.890202], [2.370289, 48.894508], [2.37175, 48.89547], [2.370279, 48.896648], [2.370379, 48.90078], [2.3769, 48.900269], [2.38849, 48.900661], [2.392009, 48.899818], [2.39381, 48.898239], [2.39725, 48.88588], [2.401879, 48.88176], [2.4066, 48.880119], [2.408749, 48.877857]]]], \"type\": \"MultiPolygon\"}, \"id\": 15, \"properties\": {\"cartodb_id\": 19, \"created_at\": \"2013-02-26T07:07:16.384Z\", \"name\": \"Buttes-Chaumont\", \"updated_at\": \"2013-02-26T18:37:58.058Z\"}, \"type\": \"Feature\"}, {\"geometry\": {\"coordinates\": [[[[2.320769, 48.863037], [2.325229, 48.868938], [2.325149, 48.869419], [2.328018, 48.869949], [2.330302, 48.868286], [2.350944, 48.863407], [2.347351, 48.857124], [2.34691, 48.856972], [2.345966, 48.855373], [2.344529, 48.854012], [2.3424, 48.855247], [2.340469, 48.8568], [2.33725, 48.858467], [2.331459, 48.85968], [2.320769, 48.863037]]]], \"type\": \"MultiPolygon\"}, \"id\": 16, \"properties\": {\"cartodb_id\": 1, \"created_at\": \"2013-02-26T07:07:16.384Z\", \"name\": \"Louvre\", \"updated_at\": \"2013-02-26T18:36:13.177Z\"}, \"type\": \"Feature\"}, {\"geometry\": {\"coordinates\": [[[[2.36465, 48.845989], [2.360899, 48.84864], [2.35467, 48.850849], [2.35013, 48.851978], [2.34695, 48.853298], [2.344551, 48.854027], [2.345966, 48.855396], [2.346986, 48.856964], [2.347329, 48.857147], [2.350169, 48.86203], [2.353299, 48.86124], [2.35678, 48.860161], [2.358579, 48.858749], [2.36167, 48.857258], [2.364329, 48.856407], [2.36836, 48.855869], [2.3692, 48.85281], [2.366299, 48.846958], [2.36465, 48.845989]]]], \"type\": \"MultiPolygon\"}, \"id\": 17, \"properties\": {\"cartodb_id\": 4, \"created_at\": \"2013-02-26T07:07:16.384Z\", \"name\": \"H\\u00f4tel-de-Ville\", \"updated_at\": \"2013-02-26T18:36:29.259Z\"}, \"type\": \"Feature\"}, {\"geometry\": {\"coordinates\": [[[[2.414499, 48.846809], [2.41252, 48.836529], [2.409609, 48.83427], [2.41407, 48.833698], [2.42214, 48.83585], [2.420249, 48.840588], [2.419299, 48.84206], [2.419989, 48.84359], [2.42179, 48.844547], [2.42445, 48.841778], [2.438359, 48.840588], [2.43922, 48.844547], [2.44085, 48.84444], [2.44076, 48.845959], [2.4466, 48.845901], [2.44634, 48.84494], [2.455519, 48.844097], [2.46334, 48.842232], [2.46977, 48.836529], [2.46909, 48.834148], [2.465219, 48.831497], [2.46428, 48.827599], [2.466, 48.827259], [2.464789, 48.822968], [2.462559, 48.819458], [2.45887, 48.81715], [2.453889, 48.816978], [2.44857, 48.818157], [2.4375, 48.818439], [2.43733, 48.81963], [2.431919, 48.822628], [2.42763, 48.82415], [2.421959, 48.824211], [2.419729, 48.8241], [2.41733, 48.8246], [2.41107, 48.825001], [2.40669, 48.826981], [2.403509, 48.8293], [2.40111, 48.829689], [2.39562, 48.828049], [2.390719, 48.827198], [2.38858, 48.826469], [2.364539, 48.84613], [2.366429, 48.847031], [2.36918, 48.85313], [2.370379, 48.85313], [2.371544, 48.852417], [2.38017, 48.850368], [2.384459, 48.850079], [2.39596, 48.848328], [2.414499, 48.846809]]]], \"type\": \"MultiPolygon\"}, \"id\": 18, \"properties\": {\"cartodb_id\": 12, \"created_at\": \"2013-02-26T07:07:16.384Z\", \"name\": \"Reuilly\", \"updated_at\": \"2013-02-26T18:37:20.571Z\"}, \"type\": \"Feature\"}, {\"geometry\": {\"coordinates\": [[[[2.4133, 48.865269], [2.41414, 48.859051], [2.41398, 48.853809], [2.414675, 48.852573], [2.41527, 48.851028], [2.41441, 48.846802], [2.39904, 48.848099], [2.3993, 48.848789], [2.39835, 48.851261], [2.39441, 48.856522], [2.38965, 48.858471], [2.38737, 48.862961], [2.3835, 48.866169], [2.38319, 48.867142], [2.37682, 48.872231], [2.38497, 48.873959], [2.38651, 48.874691], [2.38789, 48.874531], [2.39037, 48.875542], [2.39529, 48.87521], [2.40221, 48.87595], [2.40858, 48.87785], [2.41097, 48.87431], [2.41338, 48.87109], [2.4133, 48.865269]]]], \"type\": \"MultiPolygon\"}, \"id\": 19, \"properties\": {\"cartodb_id\": 20, \"created_at\": \"2013-02-26T07:07:16.384Z\", \"name\": \"M\\u00e9nilmontant\", \"updated_at\": \"2013-02-26T18:38:05.143Z\"}, \"type\": \"Feature\"}], \"type\": \"FeatureCollection\"}, \"hoverinfo\": \"all\", \"hovertemplate\": \"<b>neighbourhood</b>: <b>%{text}</b><br> <b># Listings </b>: %{z}<br>\", \"locations\": [0, 1, 2, 3, 4, 5, 6, 7, 8, 9, 10, 11, 12, 13, 14, 15, 16, 17, 18, 19, 20, 21, 22, 23, 24, 25, 26, 27, 28, 29, 30, 31, 32, 33, 34, 35, 36, 37, 38, 39, 40, 41, 42, 43, 44, 45, 46, 47, 48, 49, 50, 51, 52, 53, 54, 55, 56, 57, 58, 59, 60, 61, 62, 63, 64, 65, 66, 67, 68, 69, 70, 71, 72, 73, 74, 75, 76, 77, 78, 79, 80, 81, 82, 83, 84, 85, 86, 87, 88, 89, 90, 91, 92, 93, 94, 95, 96, 97, 98, 99], \"marker\": {\"line\": {\"width\": 1}, \"opacity\": 0.75}, \"text\": [\"Bourse\", \"Temple\", \"Panth\\u00e9on\", \"Luxembourg\", \"Palais-Bourbon\", \"\\u00c9lys\\u00e9e\", \"Op\\u00e9ra\", \"Entrep\\u00f4t\", \"Popincourt\", \"Gobelins\", \"Observatoire\", \"Vaugirard\", \"Passy\", \"Batignolles-Monceau\", \"Buttes-Montmartre\", \"Buttes-Chaumont\", \"Louvre\", \"H\\u00f4tel-de-Ville\", \"Reuilly\", \"M\\u00e9nilmontant\"], \"type\": \"choroplethmapbox\", \"z\": [2388, 3185, 2250, 2012, 1902, 1848, 3227, 4674, 6635, 2358, 2583, 5094, 3350, 4536, 7591, 3837, 1422, 2081, 2733, 3859]}],\n",
       "                        {\"mapbox\": {\"accesstoken\": \"pk.eyJ1IjoibWF0MTIyMiIsImEiOiJjanFxb2RlaWwwNHRmNDhsajBldGx5ZDRtIn0.9KCxTE8rO3IaERFhzFYsGA\", \"center\": {\"lat\": 48.8566, \"lon\": 2.3522}, \"style\": \"light\", \"zoom\": 10}, \"template\": {\"data\": {\"bar\": [{\"error_x\": {\"color\": \"#2a3f5f\"}, \"error_y\": {\"color\": \"#2a3f5f\"}, \"marker\": {\"line\": {\"color\": \"#E5ECF6\", \"width\": 0.5}}, \"type\": \"bar\"}], \"barpolar\": [{\"marker\": {\"line\": {\"color\": \"#E5ECF6\", \"width\": 0.5}}, \"type\": \"barpolar\"}], \"carpet\": [{\"aaxis\": {\"endlinecolor\": \"#2a3f5f\", \"gridcolor\": \"white\", \"linecolor\": \"white\", \"minorgridcolor\": \"white\", \"startlinecolor\": \"#2a3f5f\"}, \"baxis\": {\"endlinecolor\": \"#2a3f5f\", \"gridcolor\": \"white\", \"linecolor\": \"white\", \"minorgridcolor\": \"white\", \"startlinecolor\": \"#2a3f5f\"}, \"type\": \"carpet\"}], \"choropleth\": [{\"colorbar\": {\"outlinewidth\": 0, \"ticks\": \"\"}, \"type\": \"choropleth\"}], \"contour\": [{\"colorbar\": {\"outlinewidth\": 0, \"ticks\": \"\"}, \"colorscale\": [[0.0, \"#0d0887\"], [0.1111111111111111, \"#46039f\"], [0.2222222222222222, \"#7201a8\"], [0.3333333333333333, \"#9c179e\"], [0.4444444444444444, \"#bd3786\"], [0.5555555555555556, \"#d8576b\"], [0.6666666666666666, \"#ed7953\"], [0.7777777777777778, \"#fb9f3a\"], [0.8888888888888888, \"#fdca26\"], [1.0, \"#f0f921\"]], \"type\": \"contour\"}], \"contourcarpet\": [{\"colorbar\": {\"outlinewidth\": 0, \"ticks\": \"\"}, \"type\": \"contourcarpet\"}], \"heatmap\": [{\"colorbar\": {\"outlinewidth\": 0, \"ticks\": \"\"}, \"colorscale\": [[0.0, \"#0d0887\"], [0.1111111111111111, \"#46039f\"], [0.2222222222222222, \"#7201a8\"], [0.3333333333333333, \"#9c179e\"], [0.4444444444444444, \"#bd3786\"], [0.5555555555555556, \"#d8576b\"], [0.6666666666666666, \"#ed7953\"], [0.7777777777777778, \"#fb9f3a\"], [0.8888888888888888, \"#fdca26\"], [1.0, \"#f0f921\"]], \"type\": \"heatmap\"}], \"heatmapgl\": [{\"colorbar\": {\"outlinewidth\": 0, \"ticks\": \"\"}, \"colorscale\": [[0.0, \"#0d0887\"], [0.1111111111111111, \"#46039f\"], [0.2222222222222222, \"#7201a8\"], [0.3333333333333333, \"#9c179e\"], [0.4444444444444444, \"#bd3786\"], [0.5555555555555556, \"#d8576b\"], [0.6666666666666666, \"#ed7953\"], [0.7777777777777778, \"#fb9f3a\"], [0.8888888888888888, \"#fdca26\"], [1.0, \"#f0f921\"]], \"type\": \"heatmapgl\"}], \"histogram\": [{\"marker\": {\"colorbar\": {\"outlinewidth\": 0, \"ticks\": \"\"}}, \"type\": \"histogram\"}], \"histogram2d\": [{\"colorbar\": {\"outlinewidth\": 0, \"ticks\": \"\"}, \"colorscale\": [[0.0, \"#0d0887\"], [0.1111111111111111, \"#46039f\"], [0.2222222222222222, \"#7201a8\"], [0.3333333333333333, \"#9c179e\"], [0.4444444444444444, \"#bd3786\"], [0.5555555555555556, \"#d8576b\"], [0.6666666666666666, \"#ed7953\"], [0.7777777777777778, \"#fb9f3a\"], [0.8888888888888888, \"#fdca26\"], [1.0, \"#f0f921\"]], \"type\": \"histogram2d\"}], \"histogram2dcontour\": [{\"colorbar\": {\"outlinewidth\": 0, \"ticks\": \"\"}, \"colorscale\": [[0.0, \"#0d0887\"], [0.1111111111111111, \"#46039f\"], [0.2222222222222222, \"#7201a8\"], [0.3333333333333333, \"#9c179e\"], [0.4444444444444444, \"#bd3786\"], [0.5555555555555556, \"#d8576b\"], [0.6666666666666666, \"#ed7953\"], [0.7777777777777778, \"#fb9f3a\"], [0.8888888888888888, \"#fdca26\"], [1.0, \"#f0f921\"]], \"type\": \"histogram2dcontour\"}], \"mesh3d\": [{\"colorbar\": {\"outlinewidth\": 0, \"ticks\": \"\"}, \"type\": \"mesh3d\"}], \"parcoords\": [{\"line\": {\"colorbar\": {\"outlinewidth\": 0, \"ticks\": \"\"}}, \"type\": \"parcoords\"}], \"pie\": [{\"automargin\": true, \"type\": \"pie\"}], \"scatter\": [{\"marker\": {\"colorbar\": {\"outlinewidth\": 0, \"ticks\": \"\"}}, \"type\": \"scatter\"}], \"scatter3d\": [{\"line\": {\"colorbar\": {\"outlinewidth\": 0, \"ticks\": \"\"}}, \"marker\": {\"colorbar\": {\"outlinewidth\": 0, \"ticks\": \"\"}}, \"type\": \"scatter3d\"}], \"scattercarpet\": [{\"marker\": {\"colorbar\": {\"outlinewidth\": 0, \"ticks\": \"\"}}, \"type\": \"scattercarpet\"}], \"scattergeo\": [{\"marker\": {\"colorbar\": {\"outlinewidth\": 0, \"ticks\": \"\"}}, \"type\": \"scattergeo\"}], \"scattergl\": [{\"marker\": {\"colorbar\": {\"outlinewidth\": 0, \"ticks\": \"\"}}, \"type\": \"scattergl\"}], \"scattermapbox\": [{\"marker\": {\"colorbar\": {\"outlinewidth\": 0, \"ticks\": \"\"}}, \"type\": \"scattermapbox\"}], \"scatterpolar\": [{\"marker\": {\"colorbar\": {\"outlinewidth\": 0, \"ticks\": \"\"}}, \"type\": \"scatterpolar\"}], \"scatterpolargl\": [{\"marker\": {\"colorbar\": {\"outlinewidth\": 0, \"ticks\": \"\"}}, \"type\": \"scatterpolargl\"}], \"scatterternary\": [{\"marker\": {\"colorbar\": {\"outlinewidth\": 0, \"ticks\": \"\"}}, \"type\": \"scatterternary\"}], \"surface\": [{\"colorbar\": {\"outlinewidth\": 0, \"ticks\": \"\"}, \"colorscale\": [[0.0, \"#0d0887\"], [0.1111111111111111, \"#46039f\"], [0.2222222222222222, \"#7201a8\"], [0.3333333333333333, \"#9c179e\"], [0.4444444444444444, \"#bd3786\"], [0.5555555555555556, \"#d8576b\"], [0.6666666666666666, \"#ed7953\"], [0.7777777777777778, \"#fb9f3a\"], [0.8888888888888888, \"#fdca26\"], [1.0, \"#f0f921\"]], \"type\": \"surface\"}], \"table\": [{\"cells\": {\"fill\": {\"color\": \"#EBF0F8\"}, \"line\": {\"color\": \"white\"}}, \"header\": {\"fill\": {\"color\": \"#C8D4E3\"}, \"line\": {\"color\": \"white\"}}, \"type\": \"table\"}]}, \"layout\": {\"annotationdefaults\": {\"arrowcolor\": \"#2a3f5f\", \"arrowhead\": 0, \"arrowwidth\": 1}, \"coloraxis\": {\"colorbar\": {\"outlinewidth\": 0, \"ticks\": \"\"}}, \"colorscale\": {\"diverging\": [[0, \"#8e0152\"], [0.1, \"#c51b7d\"], [0.2, \"#de77ae\"], [0.3, \"#f1b6da\"], [0.4, \"#fde0ef\"], [0.5, \"#f7f7f7\"], [0.6, \"#e6f5d0\"], [0.7, \"#b8e186\"], [0.8, \"#7fbc41\"], [0.9, \"#4d9221\"], [1, \"#276419\"]], \"sequential\": [[0.0, \"#0d0887\"], [0.1111111111111111, \"#46039f\"], [0.2222222222222222, \"#7201a8\"], [0.3333333333333333, \"#9c179e\"], [0.4444444444444444, \"#bd3786\"], [0.5555555555555556, \"#d8576b\"], [0.6666666666666666, \"#ed7953\"], [0.7777777777777778, \"#fb9f3a\"], [0.8888888888888888, \"#fdca26\"], [1.0, \"#f0f921\"]], \"sequentialminus\": [[0.0, \"#0d0887\"], [0.1111111111111111, \"#46039f\"], [0.2222222222222222, \"#7201a8\"], [0.3333333333333333, \"#9c179e\"], [0.4444444444444444, \"#bd3786\"], [0.5555555555555556, \"#d8576b\"], [0.6666666666666666, \"#ed7953\"], [0.7777777777777778, \"#fb9f3a\"], [0.8888888888888888, \"#fdca26\"], [1.0, \"#f0f921\"]]}, \"colorway\": [\"#636efa\", \"#EF553B\", \"#00cc96\", \"#ab63fa\", \"#FFA15A\", \"#19d3f3\", \"#FF6692\", \"#B6E880\", \"#FF97FF\", \"#FECB52\"], \"font\": {\"color\": \"#2a3f5f\"}, \"geo\": {\"bgcolor\": \"white\", \"lakecolor\": \"white\", \"landcolor\": \"#E5ECF6\", \"showlakes\": true, \"showland\": true, \"subunitcolor\": \"white\"}, \"hoverlabel\": {\"align\": \"left\"}, \"hovermode\": \"closest\", \"mapbox\": {\"style\": \"light\"}, \"paper_bgcolor\": \"white\", \"plot_bgcolor\": \"#E5ECF6\", \"polar\": {\"angularaxis\": {\"gridcolor\": \"white\", \"linecolor\": \"white\", \"ticks\": \"\"}, \"bgcolor\": \"#E5ECF6\", \"radialaxis\": {\"gridcolor\": \"white\", \"linecolor\": \"white\", \"ticks\": \"\"}}, \"scene\": {\"xaxis\": {\"backgroundcolor\": \"#E5ECF6\", \"gridcolor\": \"white\", \"gridwidth\": 2, \"linecolor\": \"white\", \"showbackground\": true, \"ticks\": \"\", \"zerolinecolor\": \"white\"}, \"yaxis\": {\"backgroundcolor\": \"#E5ECF6\", \"gridcolor\": \"white\", \"gridwidth\": 2, \"linecolor\": \"white\", \"showbackground\": true, \"ticks\": \"\", \"zerolinecolor\": \"white\"}, \"zaxis\": {\"backgroundcolor\": \"#E5ECF6\", \"gridcolor\": \"white\", \"gridwidth\": 2, \"linecolor\": \"white\", \"showbackground\": true, \"ticks\": \"\", \"zerolinecolor\": \"white\"}}, \"shapedefaults\": {\"line\": {\"color\": \"#2a3f5f\"}}, \"ternary\": {\"aaxis\": {\"gridcolor\": \"white\", \"linecolor\": \"white\", \"ticks\": \"\"}, \"baxis\": {\"gridcolor\": \"white\", \"linecolor\": \"white\", \"ticks\": \"\"}, \"bgcolor\": \"#E5ECF6\", \"caxis\": {\"gridcolor\": \"white\", \"linecolor\": \"white\", \"ticks\": \"\"}}, \"title\": {\"x\": 0.05}, \"xaxis\": {\"automargin\": true, \"gridcolor\": \"white\", \"linecolor\": \"white\", \"ticks\": \"\", \"title\": {\"standoff\": 15}, \"zerolinecolor\": \"white\", \"zerolinewidth\": 2}, \"yaxis\": {\"automargin\": true, \"gridcolor\": \"white\", \"linecolor\": \"white\", \"ticks\": \"\", \"title\": {\"standoff\": 15}, \"zerolinecolor\": \"white\", \"zerolinewidth\": 2}}}, \"title\": {\"text\": \"# Listing per Neighbourhood\", \"x\": 0.5}, \"width\": 700},\n",
       "                        {\"responsive\": true}\n",
       "                    ).then(function(){\n",
       "                            \n",
       "var gd = document.getElementById('722768ff-31d6-496e-b2a4-d11cd3db03ab');\n",
       "var x = new MutationObserver(function (mutations, observer) {{\n",
       "        var display = window.getComputedStyle(gd).display;\n",
       "        if (!display || display === 'none') {{\n",
       "            console.log([gd, 'removed!']);\n",
       "            Plotly.purge(gd);\n",
       "            observer.disconnect();\n",
       "        }}\n",
       "}});\n",
       "\n",
       "// Listen for the removal of the full notebook cells\n",
       "var notebookContainer = gd.closest('#notebook-container');\n",
       "if (notebookContainer) {{\n",
       "    x.observe(notebookContainer, {childList: true});\n",
       "}}\n",
       "\n",
       "// Listen for the clearing of the current output cell\n",
       "var outputEl = gd.closest('.output');\n",
       "if (outputEl) {{\n",
       "    x.observe(outputEl, {childList: true});\n",
       "}}\n",
       "\n",
       "                        })\n",
       "                };\n",
       "                });\n",
       "            </script>\n",
       "        </div>"
      ]
     },
     "metadata": {},
     "output_type": "display_data"
    }
   ],
   "source": [
    "fig.data[0].hovertemplate =  '<b>neighbourhood</b>: <b>%{text}</b>'+\\\n",
    "                             '<br> <b># Listings </b>: %{z}<br>'\n",
    "fig.update_layout(title_text= \"# Listing per Neighbourhood\");\n",
    "iplot(fig)"
   ]
  },
  {
   "cell_type": "markdown",
   "metadata": {},
   "source": [
    "Paris is made up of 20 arrondissements, with a sparse center and neighborhoods that get bigger and bigger as you get closer to the peripheral boulevard."
   ]
  },
  {
   "cell_type": "markdown",
   "metadata": {},
   "source": [
    "#### B. Average Price per Neighbouhood"
   ]
  },
  {
   "cell_type": "code",
   "execution_count": 102,
   "metadata": {},
   "outputs": [
    {
     "data": {
      "application/vnd.plotly.v1+json": {
       "config": {
        "plotlyServerURL": "https://plot.ly"
       },
       "data": [
        {
         "alignmentgroup": "True",
         "hovertemplate": "neighbourhood_cleansed=%{x}<br>price=%{y}<extra></extra>",
         "legendgroup": "",
         "marker": {
          "color": "#636efa"
         },
         "name": "",
         "offsetgroup": "",
         "orientation": "v",
         "showlegend": false,
         "textposition": "auto",
         "type": "bar",
         "x": [
          "Élysée",
          "Louvre",
          "Passy",
          "Palais-Bourbon",
          "Luxembourg",
          "Hôtel-de-Ville",
          "Temple",
          "Bourse",
          "Panthéon",
          "Opéra",
          "Vaugirard",
          "Batignolles-Monceau",
          "Entrepôt",
          "Observatoire",
          "Reuilly",
          "Popincourt",
          "Gobelins",
          "Buttes-Montmartre",
          "Buttes-Chaumont",
          "Ménilmontant"
         ],
         "xaxis": "x",
         "y": [
          231.37662337662337,
          188.23136427566808,
          182.40507462686568,
          164.97528916929548,
          160.25646123260438,
          158.23690533397405,
          147.87535321821036,
          143.94891122278057,
          127.43022222222223,
          123.7700650759219,
          105.7689438555163,
          104.27358906525573,
          98.6007702182285,
          98.1606658923732,
          97.95133552872302,
          92.68183873398644,
          92.33715012722647,
          86.59610064550125,
          78.44592129267657,
          74.08966053381705
         ],
         "yaxis": "y"
        }
       ],
       "layout": {
        "barmode": "relative",
        "legend": {
         "tracegroupgap": 0
        },
        "margin": {
         "t": 60
        },
        "template": {
         "data": {
          "bar": [
           {
            "error_x": {
             "color": "#2a3f5f"
            },
            "error_y": {
             "color": "#2a3f5f"
            },
            "marker": {
             "line": {
              "color": "#E5ECF6",
              "width": 0.5
             }
            },
            "type": "bar"
           }
          ],
          "barpolar": [
           {
            "marker": {
             "line": {
              "color": "#E5ECF6",
              "width": 0.5
             }
            },
            "type": "barpolar"
           }
          ],
          "carpet": [
           {
            "aaxis": {
             "endlinecolor": "#2a3f5f",
             "gridcolor": "white",
             "linecolor": "white",
             "minorgridcolor": "white",
             "startlinecolor": "#2a3f5f"
            },
            "baxis": {
             "endlinecolor": "#2a3f5f",
             "gridcolor": "white",
             "linecolor": "white",
             "minorgridcolor": "white",
             "startlinecolor": "#2a3f5f"
            },
            "type": "carpet"
           }
          ],
          "choropleth": [
           {
            "colorbar": {
             "outlinewidth": 0,
             "ticks": ""
            },
            "type": "choropleth"
           }
          ],
          "contour": [
           {
            "colorbar": {
             "outlinewidth": 0,
             "ticks": ""
            },
            "colorscale": [
             [
              0,
              "#0d0887"
             ],
             [
              0.1111111111111111,
              "#46039f"
             ],
             [
              0.2222222222222222,
              "#7201a8"
             ],
             [
              0.3333333333333333,
              "#9c179e"
             ],
             [
              0.4444444444444444,
              "#bd3786"
             ],
             [
              0.5555555555555556,
              "#d8576b"
             ],
             [
              0.6666666666666666,
              "#ed7953"
             ],
             [
              0.7777777777777778,
              "#fb9f3a"
             ],
             [
              0.8888888888888888,
              "#fdca26"
             ],
             [
              1,
              "#f0f921"
             ]
            ],
            "type": "contour"
           }
          ],
          "contourcarpet": [
           {
            "colorbar": {
             "outlinewidth": 0,
             "ticks": ""
            },
            "type": "contourcarpet"
           }
          ],
          "heatmap": [
           {
            "colorbar": {
             "outlinewidth": 0,
             "ticks": ""
            },
            "colorscale": [
             [
              0,
              "#0d0887"
             ],
             [
              0.1111111111111111,
              "#46039f"
             ],
             [
              0.2222222222222222,
              "#7201a8"
             ],
             [
              0.3333333333333333,
              "#9c179e"
             ],
             [
              0.4444444444444444,
              "#bd3786"
             ],
             [
              0.5555555555555556,
              "#d8576b"
             ],
             [
              0.6666666666666666,
              "#ed7953"
             ],
             [
              0.7777777777777778,
              "#fb9f3a"
             ],
             [
              0.8888888888888888,
              "#fdca26"
             ],
             [
              1,
              "#f0f921"
             ]
            ],
            "type": "heatmap"
           }
          ],
          "heatmapgl": [
           {
            "colorbar": {
             "outlinewidth": 0,
             "ticks": ""
            },
            "colorscale": [
             [
              0,
              "#0d0887"
             ],
             [
              0.1111111111111111,
              "#46039f"
             ],
             [
              0.2222222222222222,
              "#7201a8"
             ],
             [
              0.3333333333333333,
              "#9c179e"
             ],
             [
              0.4444444444444444,
              "#bd3786"
             ],
             [
              0.5555555555555556,
              "#d8576b"
             ],
             [
              0.6666666666666666,
              "#ed7953"
             ],
             [
              0.7777777777777778,
              "#fb9f3a"
             ],
             [
              0.8888888888888888,
              "#fdca26"
             ],
             [
              1,
              "#f0f921"
             ]
            ],
            "type": "heatmapgl"
           }
          ],
          "histogram": [
           {
            "marker": {
             "colorbar": {
              "outlinewidth": 0,
              "ticks": ""
             }
            },
            "type": "histogram"
           }
          ],
          "histogram2d": [
           {
            "colorbar": {
             "outlinewidth": 0,
             "ticks": ""
            },
            "colorscale": [
             [
              0,
              "#0d0887"
             ],
             [
              0.1111111111111111,
              "#46039f"
             ],
             [
              0.2222222222222222,
              "#7201a8"
             ],
             [
              0.3333333333333333,
              "#9c179e"
             ],
             [
              0.4444444444444444,
              "#bd3786"
             ],
             [
              0.5555555555555556,
              "#d8576b"
             ],
             [
              0.6666666666666666,
              "#ed7953"
             ],
             [
              0.7777777777777778,
              "#fb9f3a"
             ],
             [
              0.8888888888888888,
              "#fdca26"
             ],
             [
              1,
              "#f0f921"
             ]
            ],
            "type": "histogram2d"
           }
          ],
          "histogram2dcontour": [
           {
            "colorbar": {
             "outlinewidth": 0,
             "ticks": ""
            },
            "colorscale": [
             [
              0,
              "#0d0887"
             ],
             [
              0.1111111111111111,
              "#46039f"
             ],
             [
              0.2222222222222222,
              "#7201a8"
             ],
             [
              0.3333333333333333,
              "#9c179e"
             ],
             [
              0.4444444444444444,
              "#bd3786"
             ],
             [
              0.5555555555555556,
              "#d8576b"
             ],
             [
              0.6666666666666666,
              "#ed7953"
             ],
             [
              0.7777777777777778,
              "#fb9f3a"
             ],
             [
              0.8888888888888888,
              "#fdca26"
             ],
             [
              1,
              "#f0f921"
             ]
            ],
            "type": "histogram2dcontour"
           }
          ],
          "mesh3d": [
           {
            "colorbar": {
             "outlinewidth": 0,
             "ticks": ""
            },
            "type": "mesh3d"
           }
          ],
          "parcoords": [
           {
            "line": {
             "colorbar": {
              "outlinewidth": 0,
              "ticks": ""
             }
            },
            "type": "parcoords"
           }
          ],
          "pie": [
           {
            "automargin": true,
            "type": "pie"
           }
          ],
          "scatter": [
           {
            "marker": {
             "colorbar": {
              "outlinewidth": 0,
              "ticks": ""
             }
            },
            "type": "scatter"
           }
          ],
          "scatter3d": [
           {
            "line": {
             "colorbar": {
              "outlinewidth": 0,
              "ticks": ""
             }
            },
            "marker": {
             "colorbar": {
              "outlinewidth": 0,
              "ticks": ""
             }
            },
            "type": "scatter3d"
           }
          ],
          "scattercarpet": [
           {
            "marker": {
             "colorbar": {
              "outlinewidth": 0,
              "ticks": ""
             }
            },
            "type": "scattercarpet"
           }
          ],
          "scattergeo": [
           {
            "marker": {
             "colorbar": {
              "outlinewidth": 0,
              "ticks": ""
             }
            },
            "type": "scattergeo"
           }
          ],
          "scattergl": [
           {
            "marker": {
             "colorbar": {
              "outlinewidth": 0,
              "ticks": ""
             }
            },
            "type": "scattergl"
           }
          ],
          "scattermapbox": [
           {
            "marker": {
             "colorbar": {
              "outlinewidth": 0,
              "ticks": ""
             }
            },
            "type": "scattermapbox"
           }
          ],
          "scatterpolar": [
           {
            "marker": {
             "colorbar": {
              "outlinewidth": 0,
              "ticks": ""
             }
            },
            "type": "scatterpolar"
           }
          ],
          "scatterpolargl": [
           {
            "marker": {
             "colorbar": {
              "outlinewidth": 0,
              "ticks": ""
             }
            },
            "type": "scatterpolargl"
           }
          ],
          "scatterternary": [
           {
            "marker": {
             "colorbar": {
              "outlinewidth": 0,
              "ticks": ""
             }
            },
            "type": "scatterternary"
           }
          ],
          "surface": [
           {
            "colorbar": {
             "outlinewidth": 0,
             "ticks": ""
            },
            "colorscale": [
             [
              0,
              "#0d0887"
             ],
             [
              0.1111111111111111,
              "#46039f"
             ],
             [
              0.2222222222222222,
              "#7201a8"
             ],
             [
              0.3333333333333333,
              "#9c179e"
             ],
             [
              0.4444444444444444,
              "#bd3786"
             ],
             [
              0.5555555555555556,
              "#d8576b"
             ],
             [
              0.6666666666666666,
              "#ed7953"
             ],
             [
              0.7777777777777778,
              "#fb9f3a"
             ],
             [
              0.8888888888888888,
              "#fdca26"
             ],
             [
              1,
              "#f0f921"
             ]
            ],
            "type": "surface"
           }
          ],
          "table": [
           {
            "cells": {
             "fill": {
              "color": "#EBF0F8"
             },
             "line": {
              "color": "white"
             }
            },
            "header": {
             "fill": {
              "color": "#C8D4E3"
             },
             "line": {
              "color": "white"
             }
            },
            "type": "table"
           }
          ]
         },
         "layout": {
          "annotationdefaults": {
           "arrowcolor": "#2a3f5f",
           "arrowhead": 0,
           "arrowwidth": 1
          },
          "coloraxis": {
           "colorbar": {
            "outlinewidth": 0,
            "ticks": ""
           }
          },
          "colorscale": {
           "diverging": [
            [
             0,
             "#8e0152"
            ],
            [
             0.1,
             "#c51b7d"
            ],
            [
             0.2,
             "#de77ae"
            ],
            [
             0.3,
             "#f1b6da"
            ],
            [
             0.4,
             "#fde0ef"
            ],
            [
             0.5,
             "#f7f7f7"
            ],
            [
             0.6,
             "#e6f5d0"
            ],
            [
             0.7,
             "#b8e186"
            ],
            [
             0.8,
             "#7fbc41"
            ],
            [
             0.9,
             "#4d9221"
            ],
            [
             1,
             "#276419"
            ]
           ],
           "sequential": [
            [
             0,
             "#0d0887"
            ],
            [
             0.1111111111111111,
             "#46039f"
            ],
            [
             0.2222222222222222,
             "#7201a8"
            ],
            [
             0.3333333333333333,
             "#9c179e"
            ],
            [
             0.4444444444444444,
             "#bd3786"
            ],
            [
             0.5555555555555556,
             "#d8576b"
            ],
            [
             0.6666666666666666,
             "#ed7953"
            ],
            [
             0.7777777777777778,
             "#fb9f3a"
            ],
            [
             0.8888888888888888,
             "#fdca26"
            ],
            [
             1,
             "#f0f921"
            ]
           ],
           "sequentialminus": [
            [
             0,
             "#0d0887"
            ],
            [
             0.1111111111111111,
             "#46039f"
            ],
            [
             0.2222222222222222,
             "#7201a8"
            ],
            [
             0.3333333333333333,
             "#9c179e"
            ],
            [
             0.4444444444444444,
             "#bd3786"
            ],
            [
             0.5555555555555556,
             "#d8576b"
            ],
            [
             0.6666666666666666,
             "#ed7953"
            ],
            [
             0.7777777777777778,
             "#fb9f3a"
            ],
            [
             0.8888888888888888,
             "#fdca26"
            ],
            [
             1,
             "#f0f921"
            ]
           ]
          },
          "colorway": [
           "#636efa",
           "#EF553B",
           "#00cc96",
           "#ab63fa",
           "#FFA15A",
           "#19d3f3",
           "#FF6692",
           "#B6E880",
           "#FF97FF",
           "#FECB52"
          ],
          "font": {
           "color": "#2a3f5f"
          },
          "geo": {
           "bgcolor": "white",
           "lakecolor": "white",
           "landcolor": "#E5ECF6",
           "showlakes": true,
           "showland": true,
           "subunitcolor": "white"
          },
          "hoverlabel": {
           "align": "left"
          },
          "hovermode": "closest",
          "mapbox": {
           "style": "light"
          },
          "paper_bgcolor": "white",
          "plot_bgcolor": "#E5ECF6",
          "polar": {
           "angularaxis": {
            "gridcolor": "white",
            "linecolor": "white",
            "ticks": ""
           },
           "bgcolor": "#E5ECF6",
           "radialaxis": {
            "gridcolor": "white",
            "linecolor": "white",
            "ticks": ""
           }
          },
          "scene": {
           "xaxis": {
            "backgroundcolor": "#E5ECF6",
            "gridcolor": "white",
            "gridwidth": 2,
            "linecolor": "white",
            "showbackground": true,
            "ticks": "",
            "zerolinecolor": "white"
           },
           "yaxis": {
            "backgroundcolor": "#E5ECF6",
            "gridcolor": "white",
            "gridwidth": 2,
            "linecolor": "white",
            "showbackground": true,
            "ticks": "",
            "zerolinecolor": "white"
           },
           "zaxis": {
            "backgroundcolor": "#E5ECF6",
            "gridcolor": "white",
            "gridwidth": 2,
            "linecolor": "white",
            "showbackground": true,
            "ticks": "",
            "zerolinecolor": "white"
           }
          },
          "shapedefaults": {
           "line": {
            "color": "#2a3f5f"
           }
          },
          "ternary": {
           "aaxis": {
            "gridcolor": "white",
            "linecolor": "white",
            "ticks": ""
           },
           "baxis": {
            "gridcolor": "white",
            "linecolor": "white",
            "ticks": ""
           },
           "bgcolor": "#E5ECF6",
           "caxis": {
            "gridcolor": "white",
            "linecolor": "white",
            "ticks": ""
           }
          },
          "title": {
           "x": 0.05
          },
          "xaxis": {
           "automargin": true,
           "gridcolor": "white",
           "linecolor": "white",
           "ticks": "",
           "title": {
            "standoff": 15
           },
           "zerolinecolor": "white",
           "zerolinewidth": 2
          },
          "yaxis": {
           "automargin": true,
           "gridcolor": "white",
           "linecolor": "white",
           "ticks": "",
           "title": {
            "standoff": 15
           },
           "zerolinecolor": "white",
           "zerolinewidth": 2
          }
         }
        },
        "xaxis": {
         "anchor": "y",
         "domain": [
          0,
          1
         ],
         "title": {
          "text": "neighbourhood_cleansed"
         }
        },
        "yaxis": {
         "anchor": "x",
         "domain": [
          0,
          1
         ],
         "title": {
          "text": "price"
         }
        }
       }
      },
      "text/html": [
       "<div>\n",
       "        \n",
       "        \n",
       "            <div id=\"fd22ec1b-5b9c-4f0c-b4ad-3d1a9e6a1caf\" class=\"plotly-graph-div\" style=\"height:525px; width:100%;\"></div>\n",
       "            <script type=\"text/javascript\">\n",
       "                require([\"plotly\"], function(Plotly) {\n",
       "                    window.PLOTLYENV=window.PLOTLYENV || {};\n",
       "                    \n",
       "                if (document.getElementById(\"fd22ec1b-5b9c-4f0c-b4ad-3d1a9e6a1caf\")) {\n",
       "                    Plotly.newPlot(\n",
       "                        'fd22ec1b-5b9c-4f0c-b4ad-3d1a9e6a1caf',\n",
       "                        [{\"alignmentgroup\": \"True\", \"hovertemplate\": \"neighbourhood_cleansed=%{x}<br>price=%{y}<extra></extra>\", \"legendgroup\": \"\", \"marker\": {\"color\": \"#636efa\"}, \"name\": \"\", \"offsetgroup\": \"\", \"orientation\": \"v\", \"showlegend\": false, \"textposition\": \"auto\", \"type\": \"bar\", \"x\": [\"\\u00c9lys\\u00e9e\", \"Louvre\", \"Passy\", \"Palais-Bourbon\", \"Luxembourg\", \"H\\u00f4tel-de-Ville\", \"Temple\", \"Bourse\", \"Panth\\u00e9on\", \"Op\\u00e9ra\", \"Vaugirard\", \"Batignolles-Monceau\", \"Entrep\\u00f4t\", \"Observatoire\", \"Reuilly\", \"Popincourt\", \"Gobelins\", \"Buttes-Montmartre\", \"Buttes-Chaumont\", \"M\\u00e9nilmontant\"], \"xaxis\": \"x\", \"y\": [231.37662337662337, 188.23136427566808, 182.40507462686568, 164.97528916929548, 160.25646123260438, 158.23690533397405, 147.87535321821036, 143.94891122278057, 127.43022222222223, 123.7700650759219, 105.7689438555163, 104.27358906525573, 98.6007702182285, 98.1606658923732, 97.95133552872302, 92.68183873398644, 92.33715012722647, 86.59610064550125, 78.44592129267657, 74.08966053381705], \"yaxis\": \"y\"}],\n",
       "                        {\"barmode\": \"relative\", \"legend\": {\"tracegroupgap\": 0}, \"margin\": {\"t\": 60}, \"template\": {\"data\": {\"bar\": [{\"error_x\": {\"color\": \"#2a3f5f\"}, \"error_y\": {\"color\": \"#2a3f5f\"}, \"marker\": {\"line\": {\"color\": \"#E5ECF6\", \"width\": 0.5}}, \"type\": \"bar\"}], \"barpolar\": [{\"marker\": {\"line\": {\"color\": \"#E5ECF6\", \"width\": 0.5}}, \"type\": \"barpolar\"}], \"carpet\": [{\"aaxis\": {\"endlinecolor\": \"#2a3f5f\", \"gridcolor\": \"white\", \"linecolor\": \"white\", \"minorgridcolor\": \"white\", \"startlinecolor\": \"#2a3f5f\"}, \"baxis\": {\"endlinecolor\": \"#2a3f5f\", \"gridcolor\": \"white\", \"linecolor\": \"white\", \"minorgridcolor\": \"white\", \"startlinecolor\": \"#2a3f5f\"}, \"type\": \"carpet\"}], \"choropleth\": [{\"colorbar\": {\"outlinewidth\": 0, \"ticks\": \"\"}, \"type\": \"choropleth\"}], \"contour\": [{\"colorbar\": {\"outlinewidth\": 0, \"ticks\": \"\"}, \"colorscale\": [[0.0, \"#0d0887\"], [0.1111111111111111, \"#46039f\"], [0.2222222222222222, \"#7201a8\"], [0.3333333333333333, \"#9c179e\"], [0.4444444444444444, \"#bd3786\"], [0.5555555555555556, \"#d8576b\"], [0.6666666666666666, \"#ed7953\"], [0.7777777777777778, \"#fb9f3a\"], [0.8888888888888888, \"#fdca26\"], [1.0, \"#f0f921\"]], \"type\": \"contour\"}], \"contourcarpet\": [{\"colorbar\": {\"outlinewidth\": 0, \"ticks\": \"\"}, \"type\": \"contourcarpet\"}], \"heatmap\": [{\"colorbar\": {\"outlinewidth\": 0, \"ticks\": \"\"}, \"colorscale\": [[0.0, \"#0d0887\"], [0.1111111111111111, \"#46039f\"], [0.2222222222222222, \"#7201a8\"], [0.3333333333333333, \"#9c179e\"], [0.4444444444444444, \"#bd3786\"], [0.5555555555555556, \"#d8576b\"], [0.6666666666666666, \"#ed7953\"], [0.7777777777777778, \"#fb9f3a\"], [0.8888888888888888, \"#fdca26\"], [1.0, \"#f0f921\"]], \"type\": \"heatmap\"}], \"heatmapgl\": [{\"colorbar\": {\"outlinewidth\": 0, \"ticks\": \"\"}, \"colorscale\": [[0.0, \"#0d0887\"], [0.1111111111111111, \"#46039f\"], [0.2222222222222222, \"#7201a8\"], [0.3333333333333333, \"#9c179e\"], [0.4444444444444444, \"#bd3786\"], [0.5555555555555556, \"#d8576b\"], [0.6666666666666666, \"#ed7953\"], [0.7777777777777778, \"#fb9f3a\"], [0.8888888888888888, \"#fdca26\"], [1.0, \"#f0f921\"]], \"type\": \"heatmapgl\"}], \"histogram\": [{\"marker\": {\"colorbar\": {\"outlinewidth\": 0, \"ticks\": \"\"}}, \"type\": \"histogram\"}], \"histogram2d\": [{\"colorbar\": {\"outlinewidth\": 0, \"ticks\": \"\"}, \"colorscale\": [[0.0, \"#0d0887\"], [0.1111111111111111, \"#46039f\"], [0.2222222222222222, \"#7201a8\"], [0.3333333333333333, \"#9c179e\"], [0.4444444444444444, \"#bd3786\"], [0.5555555555555556, \"#d8576b\"], [0.6666666666666666, \"#ed7953\"], [0.7777777777777778, \"#fb9f3a\"], [0.8888888888888888, \"#fdca26\"], [1.0, \"#f0f921\"]], \"type\": \"histogram2d\"}], \"histogram2dcontour\": [{\"colorbar\": {\"outlinewidth\": 0, \"ticks\": \"\"}, \"colorscale\": [[0.0, \"#0d0887\"], [0.1111111111111111, \"#46039f\"], [0.2222222222222222, \"#7201a8\"], [0.3333333333333333, \"#9c179e\"], [0.4444444444444444, \"#bd3786\"], [0.5555555555555556, \"#d8576b\"], [0.6666666666666666, \"#ed7953\"], [0.7777777777777778, \"#fb9f3a\"], [0.8888888888888888, \"#fdca26\"], [1.0, \"#f0f921\"]], \"type\": \"histogram2dcontour\"}], \"mesh3d\": [{\"colorbar\": {\"outlinewidth\": 0, \"ticks\": \"\"}, \"type\": \"mesh3d\"}], \"parcoords\": [{\"line\": {\"colorbar\": {\"outlinewidth\": 0, \"ticks\": \"\"}}, \"type\": \"parcoords\"}], \"pie\": [{\"automargin\": true, \"type\": \"pie\"}], \"scatter\": [{\"marker\": {\"colorbar\": {\"outlinewidth\": 0, \"ticks\": \"\"}}, \"type\": \"scatter\"}], \"scatter3d\": [{\"line\": {\"colorbar\": {\"outlinewidth\": 0, \"ticks\": \"\"}}, \"marker\": {\"colorbar\": {\"outlinewidth\": 0, \"ticks\": \"\"}}, \"type\": \"scatter3d\"}], \"scattercarpet\": [{\"marker\": {\"colorbar\": {\"outlinewidth\": 0, \"ticks\": \"\"}}, \"type\": \"scattercarpet\"}], \"scattergeo\": [{\"marker\": {\"colorbar\": {\"outlinewidth\": 0, \"ticks\": \"\"}}, \"type\": \"scattergeo\"}], \"scattergl\": [{\"marker\": {\"colorbar\": {\"outlinewidth\": 0, \"ticks\": \"\"}}, \"type\": \"scattergl\"}], \"scattermapbox\": [{\"marker\": {\"colorbar\": {\"outlinewidth\": 0, \"ticks\": \"\"}}, \"type\": \"scattermapbox\"}], \"scatterpolar\": [{\"marker\": {\"colorbar\": {\"outlinewidth\": 0, \"ticks\": \"\"}}, \"type\": \"scatterpolar\"}], \"scatterpolargl\": [{\"marker\": {\"colorbar\": {\"outlinewidth\": 0, \"ticks\": \"\"}}, \"type\": \"scatterpolargl\"}], \"scatterternary\": [{\"marker\": {\"colorbar\": {\"outlinewidth\": 0, \"ticks\": \"\"}}, \"type\": \"scatterternary\"}], \"surface\": [{\"colorbar\": {\"outlinewidth\": 0, \"ticks\": \"\"}, \"colorscale\": [[0.0, \"#0d0887\"], [0.1111111111111111, \"#46039f\"], [0.2222222222222222, \"#7201a8\"], [0.3333333333333333, \"#9c179e\"], [0.4444444444444444, \"#bd3786\"], [0.5555555555555556, \"#d8576b\"], [0.6666666666666666, \"#ed7953\"], [0.7777777777777778, \"#fb9f3a\"], [0.8888888888888888, \"#fdca26\"], [1.0, \"#f0f921\"]], \"type\": \"surface\"}], \"table\": [{\"cells\": {\"fill\": {\"color\": \"#EBF0F8\"}, \"line\": {\"color\": \"white\"}}, \"header\": {\"fill\": {\"color\": \"#C8D4E3\"}, \"line\": {\"color\": \"white\"}}, \"type\": \"table\"}]}, \"layout\": {\"annotationdefaults\": {\"arrowcolor\": \"#2a3f5f\", \"arrowhead\": 0, \"arrowwidth\": 1}, \"coloraxis\": {\"colorbar\": {\"outlinewidth\": 0, \"ticks\": \"\"}}, \"colorscale\": {\"diverging\": [[0, \"#8e0152\"], [0.1, \"#c51b7d\"], [0.2, \"#de77ae\"], [0.3, \"#f1b6da\"], [0.4, \"#fde0ef\"], [0.5, \"#f7f7f7\"], [0.6, \"#e6f5d0\"], [0.7, \"#b8e186\"], [0.8, \"#7fbc41\"], [0.9, \"#4d9221\"], [1, \"#276419\"]], \"sequential\": [[0.0, \"#0d0887\"], [0.1111111111111111, \"#46039f\"], [0.2222222222222222, \"#7201a8\"], [0.3333333333333333, \"#9c179e\"], [0.4444444444444444, \"#bd3786\"], [0.5555555555555556, \"#d8576b\"], [0.6666666666666666, \"#ed7953\"], [0.7777777777777778, \"#fb9f3a\"], [0.8888888888888888, \"#fdca26\"], [1.0, \"#f0f921\"]], \"sequentialminus\": [[0.0, \"#0d0887\"], [0.1111111111111111, \"#46039f\"], [0.2222222222222222, \"#7201a8\"], [0.3333333333333333, \"#9c179e\"], [0.4444444444444444, \"#bd3786\"], [0.5555555555555556, \"#d8576b\"], [0.6666666666666666, \"#ed7953\"], [0.7777777777777778, \"#fb9f3a\"], [0.8888888888888888, \"#fdca26\"], [1.0, \"#f0f921\"]]}, \"colorway\": [\"#636efa\", \"#EF553B\", \"#00cc96\", \"#ab63fa\", \"#FFA15A\", \"#19d3f3\", \"#FF6692\", \"#B6E880\", \"#FF97FF\", \"#FECB52\"], \"font\": {\"color\": \"#2a3f5f\"}, \"geo\": {\"bgcolor\": \"white\", \"lakecolor\": \"white\", \"landcolor\": \"#E5ECF6\", \"showlakes\": true, \"showland\": true, \"subunitcolor\": \"white\"}, \"hoverlabel\": {\"align\": \"left\"}, \"hovermode\": \"closest\", \"mapbox\": {\"style\": \"light\"}, \"paper_bgcolor\": \"white\", \"plot_bgcolor\": \"#E5ECF6\", \"polar\": {\"angularaxis\": {\"gridcolor\": \"white\", \"linecolor\": \"white\", \"ticks\": \"\"}, \"bgcolor\": \"#E5ECF6\", \"radialaxis\": {\"gridcolor\": \"white\", \"linecolor\": \"white\", \"ticks\": \"\"}}, \"scene\": {\"xaxis\": {\"backgroundcolor\": \"#E5ECF6\", \"gridcolor\": \"white\", \"gridwidth\": 2, \"linecolor\": \"white\", \"showbackground\": true, \"ticks\": \"\", \"zerolinecolor\": \"white\"}, \"yaxis\": {\"backgroundcolor\": \"#E5ECF6\", \"gridcolor\": \"white\", \"gridwidth\": 2, \"linecolor\": \"white\", \"showbackground\": true, \"ticks\": \"\", \"zerolinecolor\": \"white\"}, \"zaxis\": {\"backgroundcolor\": \"#E5ECF6\", \"gridcolor\": \"white\", \"gridwidth\": 2, \"linecolor\": \"white\", \"showbackground\": true, \"ticks\": \"\", \"zerolinecolor\": \"white\"}}, \"shapedefaults\": {\"line\": {\"color\": \"#2a3f5f\"}}, \"ternary\": {\"aaxis\": {\"gridcolor\": \"white\", \"linecolor\": \"white\", \"ticks\": \"\"}, \"baxis\": {\"gridcolor\": \"white\", \"linecolor\": \"white\", \"ticks\": \"\"}, \"bgcolor\": \"#E5ECF6\", \"caxis\": {\"gridcolor\": \"white\", \"linecolor\": \"white\", \"ticks\": \"\"}}, \"title\": {\"x\": 0.05}, \"xaxis\": {\"automargin\": true, \"gridcolor\": \"white\", \"linecolor\": \"white\", \"ticks\": \"\", \"title\": {\"standoff\": 15}, \"zerolinecolor\": \"white\", \"zerolinewidth\": 2}, \"yaxis\": {\"automargin\": true, \"gridcolor\": \"white\", \"linecolor\": \"white\", \"ticks\": \"\", \"title\": {\"standoff\": 15}, \"zerolinecolor\": \"white\", \"zerolinewidth\": 2}}}, \"xaxis\": {\"anchor\": \"y\", \"domain\": [0.0, 1.0], \"title\": {\"text\": \"neighbourhood_cleansed\"}}, \"yaxis\": {\"anchor\": \"x\", \"domain\": [0.0, 1.0], \"title\": {\"text\": \"price\"}}},\n",
       "                        {\"responsive\": true}\n",
       "                    ).then(function(){\n",
       "                            \n",
       "var gd = document.getElementById('fd22ec1b-5b9c-4f0c-b4ad-3d1a9e6a1caf');\n",
       "var x = new MutationObserver(function (mutations, observer) {{\n",
       "        var display = window.getComputedStyle(gd).display;\n",
       "        if (!display || display === 'none') {{\n",
       "            console.log([gd, 'removed!']);\n",
       "            Plotly.purge(gd);\n",
       "            observer.disconnect();\n",
       "        }}\n",
       "}});\n",
       "\n",
       "// Listen for the removal of the full notebook cells\n",
       "var notebookContainer = gd.closest('#notebook-container');\n",
       "if (notebookContainer) {{\n",
       "    x.observe(notebookContainer, {childList: true});\n",
       "}}\n",
       "\n",
       "// Listen for the clearing of the current output cell\n",
       "var outputEl = gd.closest('.output');\n",
       "if (outputEl) {{\n",
       "    x.observe(outputEl, {childList: true});\n",
       "}}\n",
       "\n",
       "                        })\n",
       "                };\n",
       "                });\n",
       "            </script>\n",
       "        </div>"
      ]
     },
     "metadata": {},
     "output_type": "display_data"
    }
   ],
   "source": [
    "# Create a lightter copy of df_list\n",
    "df_list_avg_price = df_list[['neighbourhood_cleansed', 'price', 'id']].copy()\n",
    "df_list_avg_price[\"price\"] = df_list_avg_price[\"price\"].str.replace('[\\$\\,]|\\.\\d*', '').astype(int)\n",
    "df_list_avg_price = df_list_avg_price.groupby(['neighbourhood_cleansed'])[['price']].mean()\n",
    "df_list_avg_price = df_list_avg_price.reset_index()\n",
    "df_list_avg_price = df_list_avg_price.sort_values([\"price\"], ascending=False)\n",
    "\n",
    "# Bar Chart representing the average Price per Neighbourhood\n",
    "fig = px.bar(df_list_avg_price, x='neighbourhood_cleansed', y='price')\n",
    "fig.show()"
   ]
  },
  {
   "cell_type": "markdown",
   "metadata": {},
   "source": [
    "This bar chart correspond to the average price of a listing per neighbourhood, as expected we see a correlation between the listing price and the neighbourhood by itsel but also by the number of listing per neighboourhood.\n",
    "L'élysee and the louvre neighbourhood being some of the most valued neighbourhood in paris.\n",
    "the elysee and louvre being small and very sought after by tourists, on the other hand meilmontant is a more popular neighborhood with less tourist attraction the average price of an accommodation is much lower "
   ]
  },
  {
   "cell_type": "markdown",
   "metadata": {},
   "source": [
    "#### C. Property type Proportion in Paris"
   ]
  },
  {
   "cell_type": "code",
   "execution_count": 103,
   "metadata": {},
   "outputs": [],
   "source": [
    "df_list_avg_price_prp = df_list[['neighbourhood_cleansed', 'price', 'id', 'property_type']].copy()\n",
    "df_list_avg_price_prp[\"price\"] = df_list_avg_price_prp[\"price\"].str.replace('[\\$\\,]|\\.\\d*', '').astype(int)\n",
    "#df_list_avg_price_prp = df_list_avg_price.groupby(['neighbourhood_cleansed', 'property_type'])[['price']].mean()"
   ]
  },
  {
   "cell_type": "code",
   "execution_count": 104,
   "metadata": {},
   "outputs": [
    {
     "data": {
      "application/vnd.plotly.v1+json": {
       "config": {
        "plotlyServerURL": "https://plot.ly"
       },
       "data": [
        {
         "alignmentgroup": "True",
         "hovertemplate": "Property Type=%{x}<br>% of property type listing=%{y}<br>text=%{text}<extra></extra>",
         "legendgroup": "",
         "marker": {
          "color": "#636efa"
         },
         "name": "",
         "offsetgroup": "",
         "orientation": "v",
         "showlegend": false,
         "text": [
          54583,
          5705,
          1762,
          1622,
          1139,
          379,
          369,
          307,
          305,
          166
         ],
         "textposition": "outside",
         "texttemplate": "%{text:.2s}",
         "type": "bar",
         "x": [
          "Entire apartment",
          "Private room in apartment",
          "Entire condominium",
          "Room in boutique hotel",
          "Entire loft",
          "Room in hotel",
          "Entire house",
          "Private room in condominium",
          "Shared room in apartment",
          "Entire serviced apartment"
         ],
         "xaxis": "x",
         "y": [
          0.8078590986457486,
          0.08443720861392733,
          0.026078590986457484,
          0.024006512247465403,
          0.016857840597942722,
          0.0056094131576999925,
          0.005461407533486272,
          0.004543772663361208,
          0.004514171538518463,
          0.002456893361947754
         ],
         "yaxis": "y"
        }
       ],
       "layout": {
        "barmode": "relative",
        "legend": {
         "tracegroupgap": 0
        },
        "margin": {
         "t": 60
        },
        "template": {
         "data": {
          "bar": [
           {
            "error_x": {
             "color": "#2a3f5f"
            },
            "error_y": {
             "color": "#2a3f5f"
            },
            "marker": {
             "line": {
              "color": "#E5ECF6",
              "width": 0.5
             }
            },
            "type": "bar"
           }
          ],
          "barpolar": [
           {
            "marker": {
             "line": {
              "color": "#E5ECF6",
              "width": 0.5
             }
            },
            "type": "barpolar"
           }
          ],
          "carpet": [
           {
            "aaxis": {
             "endlinecolor": "#2a3f5f",
             "gridcolor": "white",
             "linecolor": "white",
             "minorgridcolor": "white",
             "startlinecolor": "#2a3f5f"
            },
            "baxis": {
             "endlinecolor": "#2a3f5f",
             "gridcolor": "white",
             "linecolor": "white",
             "minorgridcolor": "white",
             "startlinecolor": "#2a3f5f"
            },
            "type": "carpet"
           }
          ],
          "choropleth": [
           {
            "colorbar": {
             "outlinewidth": 0,
             "ticks": ""
            },
            "type": "choropleth"
           }
          ],
          "contour": [
           {
            "colorbar": {
             "outlinewidth": 0,
             "ticks": ""
            },
            "colorscale": [
             [
              0,
              "#0d0887"
             ],
             [
              0.1111111111111111,
              "#46039f"
             ],
             [
              0.2222222222222222,
              "#7201a8"
             ],
             [
              0.3333333333333333,
              "#9c179e"
             ],
             [
              0.4444444444444444,
              "#bd3786"
             ],
             [
              0.5555555555555556,
              "#d8576b"
             ],
             [
              0.6666666666666666,
              "#ed7953"
             ],
             [
              0.7777777777777778,
              "#fb9f3a"
             ],
             [
              0.8888888888888888,
              "#fdca26"
             ],
             [
              1,
              "#f0f921"
             ]
            ],
            "type": "contour"
           }
          ],
          "contourcarpet": [
           {
            "colorbar": {
             "outlinewidth": 0,
             "ticks": ""
            },
            "type": "contourcarpet"
           }
          ],
          "heatmap": [
           {
            "colorbar": {
             "outlinewidth": 0,
             "ticks": ""
            },
            "colorscale": [
             [
              0,
              "#0d0887"
             ],
             [
              0.1111111111111111,
              "#46039f"
             ],
             [
              0.2222222222222222,
              "#7201a8"
             ],
             [
              0.3333333333333333,
              "#9c179e"
             ],
             [
              0.4444444444444444,
              "#bd3786"
             ],
             [
              0.5555555555555556,
              "#d8576b"
             ],
             [
              0.6666666666666666,
              "#ed7953"
             ],
             [
              0.7777777777777778,
              "#fb9f3a"
             ],
             [
              0.8888888888888888,
              "#fdca26"
             ],
             [
              1,
              "#f0f921"
             ]
            ],
            "type": "heatmap"
           }
          ],
          "heatmapgl": [
           {
            "colorbar": {
             "outlinewidth": 0,
             "ticks": ""
            },
            "colorscale": [
             [
              0,
              "#0d0887"
             ],
             [
              0.1111111111111111,
              "#46039f"
             ],
             [
              0.2222222222222222,
              "#7201a8"
             ],
             [
              0.3333333333333333,
              "#9c179e"
             ],
             [
              0.4444444444444444,
              "#bd3786"
             ],
             [
              0.5555555555555556,
              "#d8576b"
             ],
             [
              0.6666666666666666,
              "#ed7953"
             ],
             [
              0.7777777777777778,
              "#fb9f3a"
             ],
             [
              0.8888888888888888,
              "#fdca26"
             ],
             [
              1,
              "#f0f921"
             ]
            ],
            "type": "heatmapgl"
           }
          ],
          "histogram": [
           {
            "marker": {
             "colorbar": {
              "outlinewidth": 0,
              "ticks": ""
             }
            },
            "type": "histogram"
           }
          ],
          "histogram2d": [
           {
            "colorbar": {
             "outlinewidth": 0,
             "ticks": ""
            },
            "colorscale": [
             [
              0,
              "#0d0887"
             ],
             [
              0.1111111111111111,
              "#46039f"
             ],
             [
              0.2222222222222222,
              "#7201a8"
             ],
             [
              0.3333333333333333,
              "#9c179e"
             ],
             [
              0.4444444444444444,
              "#bd3786"
             ],
             [
              0.5555555555555556,
              "#d8576b"
             ],
             [
              0.6666666666666666,
              "#ed7953"
             ],
             [
              0.7777777777777778,
              "#fb9f3a"
             ],
             [
              0.8888888888888888,
              "#fdca26"
             ],
             [
              1,
              "#f0f921"
             ]
            ],
            "type": "histogram2d"
           }
          ],
          "histogram2dcontour": [
           {
            "colorbar": {
             "outlinewidth": 0,
             "ticks": ""
            },
            "colorscale": [
             [
              0,
              "#0d0887"
             ],
             [
              0.1111111111111111,
              "#46039f"
             ],
             [
              0.2222222222222222,
              "#7201a8"
             ],
             [
              0.3333333333333333,
              "#9c179e"
             ],
             [
              0.4444444444444444,
              "#bd3786"
             ],
             [
              0.5555555555555556,
              "#d8576b"
             ],
             [
              0.6666666666666666,
              "#ed7953"
             ],
             [
              0.7777777777777778,
              "#fb9f3a"
             ],
             [
              0.8888888888888888,
              "#fdca26"
             ],
             [
              1,
              "#f0f921"
             ]
            ],
            "type": "histogram2dcontour"
           }
          ],
          "mesh3d": [
           {
            "colorbar": {
             "outlinewidth": 0,
             "ticks": ""
            },
            "type": "mesh3d"
           }
          ],
          "parcoords": [
           {
            "line": {
             "colorbar": {
              "outlinewidth": 0,
              "ticks": ""
             }
            },
            "type": "parcoords"
           }
          ],
          "pie": [
           {
            "automargin": true,
            "type": "pie"
           }
          ],
          "scatter": [
           {
            "marker": {
             "colorbar": {
              "outlinewidth": 0,
              "ticks": ""
             }
            },
            "type": "scatter"
           }
          ],
          "scatter3d": [
           {
            "line": {
             "colorbar": {
              "outlinewidth": 0,
              "ticks": ""
             }
            },
            "marker": {
             "colorbar": {
              "outlinewidth": 0,
              "ticks": ""
             }
            },
            "type": "scatter3d"
           }
          ],
          "scattercarpet": [
           {
            "marker": {
             "colorbar": {
              "outlinewidth": 0,
              "ticks": ""
             }
            },
            "type": "scattercarpet"
           }
          ],
          "scattergeo": [
           {
            "marker": {
             "colorbar": {
              "outlinewidth": 0,
              "ticks": ""
             }
            },
            "type": "scattergeo"
           }
          ],
          "scattergl": [
           {
            "marker": {
             "colorbar": {
              "outlinewidth": 0,
              "ticks": ""
             }
            },
            "type": "scattergl"
           }
          ],
          "scattermapbox": [
           {
            "marker": {
             "colorbar": {
              "outlinewidth": 0,
              "ticks": ""
             }
            },
            "type": "scattermapbox"
           }
          ],
          "scatterpolar": [
           {
            "marker": {
             "colorbar": {
              "outlinewidth": 0,
              "ticks": ""
             }
            },
            "type": "scatterpolar"
           }
          ],
          "scatterpolargl": [
           {
            "marker": {
             "colorbar": {
              "outlinewidth": 0,
              "ticks": ""
             }
            },
            "type": "scatterpolargl"
           }
          ],
          "scatterternary": [
           {
            "marker": {
             "colorbar": {
              "outlinewidth": 0,
              "ticks": ""
             }
            },
            "type": "scatterternary"
           }
          ],
          "surface": [
           {
            "colorbar": {
             "outlinewidth": 0,
             "ticks": ""
            },
            "colorscale": [
             [
              0,
              "#0d0887"
             ],
             [
              0.1111111111111111,
              "#46039f"
             ],
             [
              0.2222222222222222,
              "#7201a8"
             ],
             [
              0.3333333333333333,
              "#9c179e"
             ],
             [
              0.4444444444444444,
              "#bd3786"
             ],
             [
              0.5555555555555556,
              "#d8576b"
             ],
             [
              0.6666666666666666,
              "#ed7953"
             ],
             [
              0.7777777777777778,
              "#fb9f3a"
             ],
             [
              0.8888888888888888,
              "#fdca26"
             ],
             [
              1,
              "#f0f921"
             ]
            ],
            "type": "surface"
           }
          ],
          "table": [
           {
            "cells": {
             "fill": {
              "color": "#EBF0F8"
             },
             "line": {
              "color": "white"
             }
            },
            "header": {
             "fill": {
              "color": "#C8D4E3"
             },
             "line": {
              "color": "white"
             }
            },
            "type": "table"
           }
          ]
         },
         "layout": {
          "annotationdefaults": {
           "arrowcolor": "#2a3f5f",
           "arrowhead": 0,
           "arrowwidth": 1
          },
          "coloraxis": {
           "colorbar": {
            "outlinewidth": 0,
            "ticks": ""
           }
          },
          "colorscale": {
           "diverging": [
            [
             0,
             "#8e0152"
            ],
            [
             0.1,
             "#c51b7d"
            ],
            [
             0.2,
             "#de77ae"
            ],
            [
             0.3,
             "#f1b6da"
            ],
            [
             0.4,
             "#fde0ef"
            ],
            [
             0.5,
             "#f7f7f7"
            ],
            [
             0.6,
             "#e6f5d0"
            ],
            [
             0.7,
             "#b8e186"
            ],
            [
             0.8,
             "#7fbc41"
            ],
            [
             0.9,
             "#4d9221"
            ],
            [
             1,
             "#276419"
            ]
           ],
           "sequential": [
            [
             0,
             "#0d0887"
            ],
            [
             0.1111111111111111,
             "#46039f"
            ],
            [
             0.2222222222222222,
             "#7201a8"
            ],
            [
             0.3333333333333333,
             "#9c179e"
            ],
            [
             0.4444444444444444,
             "#bd3786"
            ],
            [
             0.5555555555555556,
             "#d8576b"
            ],
            [
             0.6666666666666666,
             "#ed7953"
            ],
            [
             0.7777777777777778,
             "#fb9f3a"
            ],
            [
             0.8888888888888888,
             "#fdca26"
            ],
            [
             1,
             "#f0f921"
            ]
           ],
           "sequentialminus": [
            [
             0,
             "#0d0887"
            ],
            [
             0.1111111111111111,
             "#46039f"
            ],
            [
             0.2222222222222222,
             "#7201a8"
            ],
            [
             0.3333333333333333,
             "#9c179e"
            ],
            [
             0.4444444444444444,
             "#bd3786"
            ],
            [
             0.5555555555555556,
             "#d8576b"
            ],
            [
             0.6666666666666666,
             "#ed7953"
            ],
            [
             0.7777777777777778,
             "#fb9f3a"
            ],
            [
             0.8888888888888888,
             "#fdca26"
            ],
            [
             1,
             "#f0f921"
            ]
           ]
          },
          "colorway": [
           "#636efa",
           "#EF553B",
           "#00cc96",
           "#ab63fa",
           "#FFA15A",
           "#19d3f3",
           "#FF6692",
           "#B6E880",
           "#FF97FF",
           "#FECB52"
          ],
          "font": {
           "color": "#2a3f5f"
          },
          "geo": {
           "bgcolor": "white",
           "lakecolor": "white",
           "landcolor": "#E5ECF6",
           "showlakes": true,
           "showland": true,
           "subunitcolor": "white"
          },
          "hoverlabel": {
           "align": "left"
          },
          "hovermode": "closest",
          "mapbox": {
           "style": "light"
          },
          "paper_bgcolor": "white",
          "plot_bgcolor": "#E5ECF6",
          "polar": {
           "angularaxis": {
            "gridcolor": "white",
            "linecolor": "white",
            "ticks": ""
           },
           "bgcolor": "#E5ECF6",
           "radialaxis": {
            "gridcolor": "white",
            "linecolor": "white",
            "ticks": ""
           }
          },
          "scene": {
           "xaxis": {
            "backgroundcolor": "#E5ECF6",
            "gridcolor": "white",
            "gridwidth": 2,
            "linecolor": "white",
            "showbackground": true,
            "ticks": "",
            "zerolinecolor": "white"
           },
           "yaxis": {
            "backgroundcolor": "#E5ECF6",
            "gridcolor": "white",
            "gridwidth": 2,
            "linecolor": "white",
            "showbackground": true,
            "ticks": "",
            "zerolinecolor": "white"
           },
           "zaxis": {
            "backgroundcolor": "#E5ECF6",
            "gridcolor": "white",
            "gridwidth": 2,
            "linecolor": "white",
            "showbackground": true,
            "ticks": "",
            "zerolinecolor": "white"
           }
          },
          "shapedefaults": {
           "line": {
            "color": "#2a3f5f"
           }
          },
          "ternary": {
           "aaxis": {
            "gridcolor": "white",
            "linecolor": "white",
            "ticks": ""
           },
           "baxis": {
            "gridcolor": "white",
            "linecolor": "white",
            "ticks": ""
           },
           "bgcolor": "#E5ECF6",
           "caxis": {
            "gridcolor": "white",
            "linecolor": "white",
            "ticks": ""
           }
          },
          "title": {
           "x": 0.05
          },
          "xaxis": {
           "automargin": true,
           "gridcolor": "white",
           "linecolor": "white",
           "ticks": "",
           "title": {
            "standoff": 15
           },
           "zerolinecolor": "white",
           "zerolinewidth": 2
          },
          "yaxis": {
           "automargin": true,
           "gridcolor": "white",
           "linecolor": "white",
           "ticks": "",
           "title": {
            "standoff": 15
           },
           "zerolinecolor": "white",
           "zerolinewidth": 2
          }
         }
        },
        "uniformtext": {
         "minsize": 8,
         "mode": "hide"
        },
        "xaxis": {
         "anchor": "y",
         "domain": [
          0,
          1
         ],
         "title": {
          "text": "Property Type"
         }
        },
        "yaxis": {
         "anchor": "x",
         "domain": [
          0,
          1
         ],
         "title": {
          "text": "% of property type listing"
         }
        }
       }
      },
      "text/html": [
       "<div>\n",
       "        \n",
       "        \n",
       "            <div id=\"9ce99d1b-7d4f-4e85-a8c6-b9a0560861bb\" class=\"plotly-graph-div\" style=\"height:525px; width:100%;\"></div>\n",
       "            <script type=\"text/javascript\">\n",
       "                require([\"plotly\"], function(Plotly) {\n",
       "                    window.PLOTLYENV=window.PLOTLYENV || {};\n",
       "                    \n",
       "                if (document.getElementById(\"9ce99d1b-7d4f-4e85-a8c6-b9a0560861bb\")) {\n",
       "                    Plotly.newPlot(\n",
       "                        '9ce99d1b-7d4f-4e85-a8c6-b9a0560861bb',\n",
       "                        [{\"alignmentgroup\": \"True\", \"hovertemplate\": \"Property Type=%{x}<br>% of property type listing=%{y}<br>text=%{text}<extra></extra>\", \"legendgroup\": \"\", \"marker\": {\"color\": \"#636efa\"}, \"name\": \"\", \"offsetgroup\": \"\", \"orientation\": \"v\", \"showlegend\": false, \"text\": [54583.0, 5705.0, 1762.0, 1622.0, 1139.0, 379.0, 369.0, 307.0, 305.0, 166.0], \"textposition\": \"outside\", \"texttemplate\": \"%{text:.2s}\", \"type\": \"bar\", \"x\": [\"Entire apartment\", \"Private room in apartment\", \"Entire condominium\", \"Room in boutique hotel\", \"Entire loft\", \"Room in hotel\", \"Entire house\", \"Private room in condominium\", \"Shared room in apartment\", \"Entire serviced apartment\"], \"xaxis\": \"x\", \"y\": [0.8078590986457486, 0.08443720861392733, 0.026078590986457484, 0.024006512247465403, 0.016857840597942722, 0.0056094131576999925, 0.005461407533486272, 0.004543772663361208, 0.004514171538518463, 0.002456893361947754], \"yaxis\": \"y\"}],\n",
       "                        {\"barmode\": \"relative\", \"legend\": {\"tracegroupgap\": 0}, \"margin\": {\"t\": 60}, \"template\": {\"data\": {\"bar\": [{\"error_x\": {\"color\": \"#2a3f5f\"}, \"error_y\": {\"color\": \"#2a3f5f\"}, \"marker\": {\"line\": {\"color\": \"#E5ECF6\", \"width\": 0.5}}, \"type\": \"bar\"}], \"barpolar\": [{\"marker\": {\"line\": {\"color\": \"#E5ECF6\", \"width\": 0.5}}, \"type\": \"barpolar\"}], \"carpet\": [{\"aaxis\": {\"endlinecolor\": \"#2a3f5f\", \"gridcolor\": \"white\", \"linecolor\": \"white\", \"minorgridcolor\": \"white\", \"startlinecolor\": \"#2a3f5f\"}, \"baxis\": {\"endlinecolor\": \"#2a3f5f\", \"gridcolor\": \"white\", \"linecolor\": \"white\", \"minorgridcolor\": \"white\", \"startlinecolor\": \"#2a3f5f\"}, \"type\": \"carpet\"}], \"choropleth\": [{\"colorbar\": {\"outlinewidth\": 0, \"ticks\": \"\"}, \"type\": \"choropleth\"}], \"contour\": [{\"colorbar\": {\"outlinewidth\": 0, \"ticks\": \"\"}, \"colorscale\": [[0.0, \"#0d0887\"], [0.1111111111111111, \"#46039f\"], [0.2222222222222222, \"#7201a8\"], [0.3333333333333333, \"#9c179e\"], [0.4444444444444444, \"#bd3786\"], [0.5555555555555556, \"#d8576b\"], [0.6666666666666666, \"#ed7953\"], [0.7777777777777778, \"#fb9f3a\"], [0.8888888888888888, \"#fdca26\"], [1.0, \"#f0f921\"]], \"type\": \"contour\"}], \"contourcarpet\": [{\"colorbar\": {\"outlinewidth\": 0, \"ticks\": \"\"}, \"type\": \"contourcarpet\"}], \"heatmap\": [{\"colorbar\": {\"outlinewidth\": 0, \"ticks\": \"\"}, \"colorscale\": [[0.0, \"#0d0887\"], [0.1111111111111111, \"#46039f\"], [0.2222222222222222, \"#7201a8\"], [0.3333333333333333, \"#9c179e\"], [0.4444444444444444, \"#bd3786\"], [0.5555555555555556, \"#d8576b\"], [0.6666666666666666, \"#ed7953\"], [0.7777777777777778, \"#fb9f3a\"], [0.8888888888888888, \"#fdca26\"], [1.0, \"#f0f921\"]], \"type\": \"heatmap\"}], \"heatmapgl\": [{\"colorbar\": {\"outlinewidth\": 0, \"ticks\": \"\"}, \"colorscale\": [[0.0, \"#0d0887\"], [0.1111111111111111, \"#46039f\"], [0.2222222222222222, \"#7201a8\"], [0.3333333333333333, \"#9c179e\"], [0.4444444444444444, \"#bd3786\"], [0.5555555555555556, \"#d8576b\"], [0.6666666666666666, \"#ed7953\"], [0.7777777777777778, \"#fb9f3a\"], [0.8888888888888888, \"#fdca26\"], [1.0, \"#f0f921\"]], \"type\": \"heatmapgl\"}], \"histogram\": [{\"marker\": {\"colorbar\": {\"outlinewidth\": 0, \"ticks\": \"\"}}, \"type\": \"histogram\"}], \"histogram2d\": [{\"colorbar\": {\"outlinewidth\": 0, \"ticks\": \"\"}, \"colorscale\": [[0.0, \"#0d0887\"], [0.1111111111111111, \"#46039f\"], [0.2222222222222222, \"#7201a8\"], [0.3333333333333333, \"#9c179e\"], [0.4444444444444444, \"#bd3786\"], [0.5555555555555556, \"#d8576b\"], [0.6666666666666666, \"#ed7953\"], [0.7777777777777778, \"#fb9f3a\"], [0.8888888888888888, \"#fdca26\"], [1.0, \"#f0f921\"]], \"type\": \"histogram2d\"}], \"histogram2dcontour\": [{\"colorbar\": {\"outlinewidth\": 0, \"ticks\": \"\"}, \"colorscale\": [[0.0, \"#0d0887\"], [0.1111111111111111, \"#46039f\"], [0.2222222222222222, \"#7201a8\"], [0.3333333333333333, \"#9c179e\"], [0.4444444444444444, \"#bd3786\"], [0.5555555555555556, \"#d8576b\"], [0.6666666666666666, \"#ed7953\"], [0.7777777777777778, \"#fb9f3a\"], [0.8888888888888888, \"#fdca26\"], [1.0, \"#f0f921\"]], \"type\": \"histogram2dcontour\"}], \"mesh3d\": [{\"colorbar\": {\"outlinewidth\": 0, \"ticks\": \"\"}, \"type\": \"mesh3d\"}], \"parcoords\": [{\"line\": {\"colorbar\": {\"outlinewidth\": 0, \"ticks\": \"\"}}, \"type\": \"parcoords\"}], \"pie\": [{\"automargin\": true, \"type\": \"pie\"}], \"scatter\": [{\"marker\": {\"colorbar\": {\"outlinewidth\": 0, \"ticks\": \"\"}}, \"type\": \"scatter\"}], \"scatter3d\": [{\"line\": {\"colorbar\": {\"outlinewidth\": 0, \"ticks\": \"\"}}, \"marker\": {\"colorbar\": {\"outlinewidth\": 0, \"ticks\": \"\"}}, \"type\": \"scatter3d\"}], \"scattercarpet\": [{\"marker\": {\"colorbar\": {\"outlinewidth\": 0, \"ticks\": \"\"}}, \"type\": \"scattercarpet\"}], \"scattergeo\": [{\"marker\": {\"colorbar\": {\"outlinewidth\": 0, \"ticks\": \"\"}}, \"type\": \"scattergeo\"}], \"scattergl\": [{\"marker\": {\"colorbar\": {\"outlinewidth\": 0, \"ticks\": \"\"}}, \"type\": \"scattergl\"}], \"scattermapbox\": [{\"marker\": {\"colorbar\": {\"outlinewidth\": 0, \"ticks\": \"\"}}, \"type\": \"scattermapbox\"}], \"scatterpolar\": [{\"marker\": {\"colorbar\": {\"outlinewidth\": 0, \"ticks\": \"\"}}, \"type\": \"scatterpolar\"}], \"scatterpolargl\": [{\"marker\": {\"colorbar\": {\"outlinewidth\": 0, \"ticks\": \"\"}}, \"type\": \"scatterpolargl\"}], \"scatterternary\": [{\"marker\": {\"colorbar\": {\"outlinewidth\": 0, \"ticks\": \"\"}}, \"type\": \"scatterternary\"}], \"surface\": [{\"colorbar\": {\"outlinewidth\": 0, \"ticks\": \"\"}, \"colorscale\": [[0.0, \"#0d0887\"], [0.1111111111111111, \"#46039f\"], [0.2222222222222222, \"#7201a8\"], [0.3333333333333333, \"#9c179e\"], [0.4444444444444444, \"#bd3786\"], [0.5555555555555556, \"#d8576b\"], [0.6666666666666666, \"#ed7953\"], [0.7777777777777778, \"#fb9f3a\"], [0.8888888888888888, \"#fdca26\"], [1.0, \"#f0f921\"]], \"type\": \"surface\"}], \"table\": [{\"cells\": {\"fill\": {\"color\": \"#EBF0F8\"}, \"line\": {\"color\": \"white\"}}, \"header\": {\"fill\": {\"color\": \"#C8D4E3\"}, \"line\": {\"color\": \"white\"}}, \"type\": \"table\"}]}, \"layout\": {\"annotationdefaults\": {\"arrowcolor\": \"#2a3f5f\", \"arrowhead\": 0, \"arrowwidth\": 1}, \"coloraxis\": {\"colorbar\": {\"outlinewidth\": 0, \"ticks\": \"\"}}, \"colorscale\": {\"diverging\": [[0, \"#8e0152\"], [0.1, \"#c51b7d\"], [0.2, \"#de77ae\"], [0.3, \"#f1b6da\"], [0.4, \"#fde0ef\"], [0.5, \"#f7f7f7\"], [0.6, \"#e6f5d0\"], [0.7, \"#b8e186\"], [0.8, \"#7fbc41\"], [0.9, \"#4d9221\"], [1, \"#276419\"]], \"sequential\": [[0.0, \"#0d0887\"], [0.1111111111111111, \"#46039f\"], [0.2222222222222222, \"#7201a8\"], [0.3333333333333333, \"#9c179e\"], [0.4444444444444444, \"#bd3786\"], [0.5555555555555556, \"#d8576b\"], [0.6666666666666666, \"#ed7953\"], [0.7777777777777778, \"#fb9f3a\"], [0.8888888888888888, \"#fdca26\"], [1.0, \"#f0f921\"]], \"sequentialminus\": [[0.0, \"#0d0887\"], [0.1111111111111111, \"#46039f\"], [0.2222222222222222, \"#7201a8\"], [0.3333333333333333, \"#9c179e\"], [0.4444444444444444, \"#bd3786\"], [0.5555555555555556, \"#d8576b\"], [0.6666666666666666, \"#ed7953\"], [0.7777777777777778, \"#fb9f3a\"], [0.8888888888888888, \"#fdca26\"], [1.0, \"#f0f921\"]]}, \"colorway\": [\"#636efa\", \"#EF553B\", \"#00cc96\", \"#ab63fa\", \"#FFA15A\", \"#19d3f3\", \"#FF6692\", \"#B6E880\", \"#FF97FF\", \"#FECB52\"], \"font\": {\"color\": \"#2a3f5f\"}, \"geo\": {\"bgcolor\": \"white\", \"lakecolor\": \"white\", \"landcolor\": \"#E5ECF6\", \"showlakes\": true, \"showland\": true, \"subunitcolor\": \"white\"}, \"hoverlabel\": {\"align\": \"left\"}, \"hovermode\": \"closest\", \"mapbox\": {\"style\": \"light\"}, \"paper_bgcolor\": \"white\", \"plot_bgcolor\": \"#E5ECF6\", \"polar\": {\"angularaxis\": {\"gridcolor\": \"white\", \"linecolor\": \"white\", \"ticks\": \"\"}, \"bgcolor\": \"#E5ECF6\", \"radialaxis\": {\"gridcolor\": \"white\", \"linecolor\": \"white\", \"ticks\": \"\"}}, \"scene\": {\"xaxis\": {\"backgroundcolor\": \"#E5ECF6\", \"gridcolor\": \"white\", \"gridwidth\": 2, \"linecolor\": \"white\", \"showbackground\": true, \"ticks\": \"\", \"zerolinecolor\": \"white\"}, \"yaxis\": {\"backgroundcolor\": \"#E5ECF6\", \"gridcolor\": \"white\", \"gridwidth\": 2, \"linecolor\": \"white\", \"showbackground\": true, \"ticks\": \"\", \"zerolinecolor\": \"white\"}, \"zaxis\": {\"backgroundcolor\": \"#E5ECF6\", \"gridcolor\": \"white\", \"gridwidth\": 2, \"linecolor\": \"white\", \"showbackground\": true, \"ticks\": \"\", \"zerolinecolor\": \"white\"}}, \"shapedefaults\": {\"line\": {\"color\": \"#2a3f5f\"}}, \"ternary\": {\"aaxis\": {\"gridcolor\": \"white\", \"linecolor\": \"white\", \"ticks\": \"\"}, \"baxis\": {\"gridcolor\": \"white\", \"linecolor\": \"white\", \"ticks\": \"\"}, \"bgcolor\": \"#E5ECF6\", \"caxis\": {\"gridcolor\": \"white\", \"linecolor\": \"white\", \"ticks\": \"\"}}, \"title\": {\"x\": 0.05}, \"xaxis\": {\"automargin\": true, \"gridcolor\": \"white\", \"linecolor\": \"white\", \"ticks\": \"\", \"title\": {\"standoff\": 15}, \"zerolinecolor\": \"white\", \"zerolinewidth\": 2}, \"yaxis\": {\"automargin\": true, \"gridcolor\": \"white\", \"linecolor\": \"white\", \"ticks\": \"\", \"title\": {\"standoff\": 15}, \"zerolinecolor\": \"white\", \"zerolinewidth\": 2}}}, \"uniformtext\": {\"minsize\": 8, \"mode\": \"hide\"}, \"xaxis\": {\"anchor\": \"y\", \"domain\": [0.0, 1.0], \"title\": {\"text\": \"Property Type\"}}, \"yaxis\": {\"anchor\": \"x\", \"domain\": [0.0, 1.0], \"title\": {\"text\": \"% of property type listing\"}}},\n",
       "                        {\"responsive\": true}\n",
       "                    ).then(function(){\n",
       "                            \n",
       "var gd = document.getElementById('9ce99d1b-7d4f-4e85-a8c6-b9a0560861bb');\n",
       "var x = new MutationObserver(function (mutations, observer) {{\n",
       "        var display = window.getComputedStyle(gd).display;\n",
       "        if (!display || display === 'none') {{\n",
       "            console.log([gd, 'removed!']);\n",
       "            Plotly.purge(gd);\n",
       "            observer.disconnect();\n",
       "        }}\n",
       "}});\n",
       "\n",
       "// Listen for the removal of the full notebook cells\n",
       "var notebookContainer = gd.closest('#notebook-container');\n",
       "if (notebookContainer) {{\n",
       "    x.observe(notebookContainer, {childList: true});\n",
       "}}\n",
       "\n",
       "// Listen for the clearing of the current output cell\n",
       "var outputEl = gd.closest('.output');\n",
       "if (outputEl) {{\n",
       "    x.observe(outputEl, {childList: true});\n",
       "}}\n",
       "\n",
       "                        })\n",
       "                };\n",
       "                });\n",
       "            </script>\n",
       "        </div>"
      ]
     },
     "metadata": {},
     "output_type": "display_data"
    }
   ],
   "source": [
    "# Proportion of property type in Paris\n",
    "y = (df_list_avg_price_prp['property_type'].value_counts()/df_list_avg_price_prp.shape[0]).head(10)\n",
    "x = df_list_avg_price_prp['property_type'].value_counts().head(10).index.tolist()\n",
    "text = df_list_avg_price_prp['property_type'].value_counts().head(10)\n",
    "\n",
    "\n",
    "fig = px.bar( y=y, x=x, text=text, labels=dict(x=\"Property Type\", y=\"% of property type listing\", color=\"Place\"))\n",
    "fig.update_traces(texttemplate='%{text:.2s}', textposition='outside')\n",
    "fig.update_layout(uniformtext_minsize=8, uniformtext_mode='hide')\n",
    "fig.show()"
   ]
  },
  {
   "cell_type": "markdown",
   "metadata": {},
   "source": [
    "The Entire Apartment property type is the type of listing with over 80% of the listing, followed by private room in apartment with only 5%.\n",
    "let's compare those statistic with the neighbourhood and average price"
   ]
  },
  {
   "cell_type": "markdown",
   "metadata": {},
   "source": [
    "#### D. Average Price per Neighbourhood and property type"
   ]
  },
  {
   "cell_type": "code",
   "execution_count": 105,
   "metadata": {},
   "outputs": [
    {
     "data": {
      "text/html": [
       "<div>\n",
       "<style scoped>\n",
       "    .dataframe tbody tr th:only-of-type {\n",
       "        vertical-align: middle;\n",
       "    }\n",
       "\n",
       "    .dataframe tbody tr th {\n",
       "        vertical-align: top;\n",
       "    }\n",
       "\n",
       "    .dataframe thead th {\n",
       "        text-align: right;\n",
       "    }\n",
       "</style>\n",
       "<table border=\"1\" class=\"dataframe\">\n",
       "  <thead>\n",
       "    <tr style=\"text-align: right;\">\n",
       "      <th></th>\n",
       "      <th>neighbourhood_cleansed</th>\n",
       "      <th>property_type</th>\n",
       "      <th>price</th>\n",
       "    </tr>\n",
       "  </thead>\n",
       "  <tbody>\n",
       "    <tr>\n",
       "      <th>0</th>\n",
       "      <td>Batignolles-Monceau</td>\n",
       "      <td>Entire apartment</td>\n",
       "      <td>104.527297</td>\n",
       "    </tr>\n",
       "    <tr>\n",
       "      <th>1</th>\n",
       "      <td>Batignolles-Monceau</td>\n",
       "      <td>Entire condominium</td>\n",
       "      <td>103.472727</td>\n",
       "    </tr>\n",
       "    <tr>\n",
       "      <th>2</th>\n",
       "      <td>Batignolles-Monceau</td>\n",
       "      <td>Entire loft</td>\n",
       "      <td>123.853659</td>\n",
       "    </tr>\n",
       "    <tr>\n",
       "      <th>3</th>\n",
       "      <td>Batignolles-Monceau</td>\n",
       "      <td>Private room in apartment</td>\n",
       "      <td>57.249284</td>\n",
       "    </tr>\n",
       "    <tr>\n",
       "      <th>4</th>\n",
       "      <td>Batignolles-Monceau</td>\n",
       "      <td>Room in boutique hotel</td>\n",
       "      <td>170.757353</td>\n",
       "    </tr>\n",
       "    <tr>\n",
       "      <th>5</th>\n",
       "      <td>Bourse</td>\n",
       "      <td>Entire apartment</td>\n",
       "      <td>145.050772</td>\n",
       "    </tr>\n",
       "    <tr>\n",
       "      <th>6</th>\n",
       "      <td>Bourse</td>\n",
       "      <td>Entire condominium</td>\n",
       "      <td>101.750000</td>\n",
       "    </tr>\n",
       "    <tr>\n",
       "      <th>7</th>\n",
       "      <td>Bourse</td>\n",
       "      <td>Entire loft</td>\n",
       "      <td>190.980769</td>\n",
       "    </tr>\n",
       "    <tr>\n",
       "      <th>8</th>\n",
       "      <td>Bourse</td>\n",
       "      <td>Private room in apartment</td>\n",
       "      <td>71.174194</td>\n",
       "    </tr>\n",
       "    <tr>\n",
       "      <th>9</th>\n",
       "      <td>Bourse</td>\n",
       "      <td>Room in boutique hotel</td>\n",
       "      <td>213.878788</td>\n",
       "    </tr>\n",
       "    <tr>\n",
       "      <th>10</th>\n",
       "      <td>Buttes-Chaumont</td>\n",
       "      <td>Entire apartment</td>\n",
       "      <td>79.535133</td>\n",
       "    </tr>\n",
       "    <tr>\n",
       "      <th>11</th>\n",
       "      <td>Buttes-Chaumont</td>\n",
       "      <td>Entire condominium</td>\n",
       "      <td>87.291339</td>\n",
       "    </tr>\n",
       "    <tr>\n",
       "      <th>12</th>\n",
       "      <td>Buttes-Chaumont</td>\n",
       "      <td>Entire loft</td>\n",
       "      <td>128.000000</td>\n",
       "    </tr>\n",
       "    <tr>\n",
       "      <th>13</th>\n",
       "      <td>Buttes-Chaumont</td>\n",
       "      <td>Private room in apartment</td>\n",
       "      <td>48.854000</td>\n",
       "    </tr>\n",
       "    <tr>\n",
       "      <th>14</th>\n",
       "      <td>Buttes-Chaumont</td>\n",
       "      <td>Room in boutique hotel</td>\n",
       "      <td>175.722222</td>\n",
       "    </tr>\n",
       "    <tr>\n",
       "      <th>15</th>\n",
       "      <td>Buttes-Montmartre</td>\n",
       "      <td>Entire apartment</td>\n",
       "      <td>86.701525</td>\n",
       "    </tr>\n",
       "    <tr>\n",
       "      <th>16</th>\n",
       "      <td>Buttes-Montmartre</td>\n",
       "      <td>Entire condominium</td>\n",
       "      <td>98.768362</td>\n",
       "    </tr>\n",
       "    <tr>\n",
       "      <th>17</th>\n",
       "      <td>Buttes-Montmartre</td>\n",
       "      <td>Entire loft</td>\n",
       "      <td>126.326923</td>\n",
       "    </tr>\n",
       "    <tr>\n",
       "      <th>18</th>\n",
       "      <td>Buttes-Montmartre</td>\n",
       "      <td>Private room in apartment</td>\n",
       "      <td>50.349673</td>\n",
       "    </tr>\n",
       "    <tr>\n",
       "      <th>19</th>\n",
       "      <td>Buttes-Montmartre</td>\n",
       "      <td>Room in boutique hotel</td>\n",
       "      <td>160.963636</td>\n",
       "    </tr>\n",
       "    <tr>\n",
       "      <th>20</th>\n",
       "      <td>Entrepôt</td>\n",
       "      <td>Entire apartment</td>\n",
       "      <td>100.185274</td>\n",
       "    </tr>\n",
       "    <tr>\n",
       "      <th>21</th>\n",
       "      <td>Entrepôt</td>\n",
       "      <td>Entire condominium</td>\n",
       "      <td>95.902439</td>\n",
       "    </tr>\n",
       "    <tr>\n",
       "      <th>22</th>\n",
       "      <td>Entrepôt</td>\n",
       "      <td>Entire loft</td>\n",
       "      <td>165.515385</td>\n",
       "    </tr>\n",
       "    <tr>\n",
       "      <th>23</th>\n",
       "      <td>Entrepôt</td>\n",
       "      <td>Private room in apartment</td>\n",
       "      <td>54.535948</td>\n",
       "    </tr>\n",
       "    <tr>\n",
       "      <th>24</th>\n",
       "      <td>Entrepôt</td>\n",
       "      <td>Room in boutique hotel</td>\n",
       "      <td>160.540000</td>\n",
       "    </tr>\n",
       "    <tr>\n",
       "      <th>25</th>\n",
       "      <td>Gobelins</td>\n",
       "      <td>Entire apartment</td>\n",
       "      <td>96.978673</td>\n",
       "    </tr>\n",
       "    <tr>\n",
       "      <th>26</th>\n",
       "      <td>Gobelins</td>\n",
       "      <td>Entire condominium</td>\n",
       "      <td>99.594595</td>\n",
       "    </tr>\n",
       "    <tr>\n",
       "      <th>27</th>\n",
       "      <td>Gobelins</td>\n",
       "      <td>Entire loft</td>\n",
       "      <td>134.476190</td>\n",
       "    </tr>\n",
       "    <tr>\n",
       "      <th>28</th>\n",
       "      <td>Gobelins</td>\n",
       "      <td>Private room in apartment</td>\n",
       "      <td>53.308824</td>\n",
       "    </tr>\n",
       "    <tr>\n",
       "      <th>29</th>\n",
       "      <td>Gobelins</td>\n",
       "      <td>Room in boutique hotel</td>\n",
       "      <td>154.875000</td>\n",
       "    </tr>\n",
       "    <tr>\n",
       "      <th>...</th>\n",
       "      <td>...</td>\n",
       "      <td>...</td>\n",
       "      <td>...</td>\n",
       "    </tr>\n",
       "    <tr>\n",
       "      <th>70</th>\n",
       "      <td>Passy</td>\n",
       "      <td>Entire apartment</td>\n",
       "      <td>178.703785</td>\n",
       "    </tr>\n",
       "    <tr>\n",
       "      <th>71</th>\n",
       "      <td>Passy</td>\n",
       "      <td>Entire condominium</td>\n",
       "      <td>137.537037</td>\n",
       "    </tr>\n",
       "    <tr>\n",
       "      <th>72</th>\n",
       "      <td>Passy</td>\n",
       "      <td>Entire loft</td>\n",
       "      <td>252.350000</td>\n",
       "    </tr>\n",
       "    <tr>\n",
       "      <th>73</th>\n",
       "      <td>Passy</td>\n",
       "      <td>Private room in apartment</td>\n",
       "      <td>72.669643</td>\n",
       "    </tr>\n",
       "    <tr>\n",
       "      <th>74</th>\n",
       "      <td>Passy</td>\n",
       "      <td>Room in boutique hotel</td>\n",
       "      <td>247.010638</td>\n",
       "    </tr>\n",
       "    <tr>\n",
       "      <th>75</th>\n",
       "      <td>Popincourt</td>\n",
       "      <td>Entire apartment</td>\n",
       "      <td>93.424533</td>\n",
       "    </tr>\n",
       "    <tr>\n",
       "      <th>76</th>\n",
       "      <td>Popincourt</td>\n",
       "      <td>Entire condominium</td>\n",
       "      <td>91.762500</td>\n",
       "    </tr>\n",
       "    <tr>\n",
       "      <th>77</th>\n",
       "      <td>Popincourt</td>\n",
       "      <td>Entire loft</td>\n",
       "      <td>148.748603</td>\n",
       "    </tr>\n",
       "    <tr>\n",
       "      <th>78</th>\n",
       "      <td>Popincourt</td>\n",
       "      <td>Private room in apartment</td>\n",
       "      <td>52.412313</td>\n",
       "    </tr>\n",
       "    <tr>\n",
       "      <th>79</th>\n",
       "      <td>Popincourt</td>\n",
       "      <td>Room in boutique hotel</td>\n",
       "      <td>190.466667</td>\n",
       "    </tr>\n",
       "    <tr>\n",
       "      <th>80</th>\n",
       "      <td>Reuilly</td>\n",
       "      <td>Entire apartment</td>\n",
       "      <td>103.396818</td>\n",
       "    </tr>\n",
       "    <tr>\n",
       "      <th>81</th>\n",
       "      <td>Reuilly</td>\n",
       "      <td>Entire condominium</td>\n",
       "      <td>98.290909</td>\n",
       "    </tr>\n",
       "    <tr>\n",
       "      <th>82</th>\n",
       "      <td>Reuilly</td>\n",
       "      <td>Entire loft</td>\n",
       "      <td>159.000000</td>\n",
       "    </tr>\n",
       "    <tr>\n",
       "      <th>83</th>\n",
       "      <td>Reuilly</td>\n",
       "      <td>Private room in apartment</td>\n",
       "      <td>51.859589</td>\n",
       "    </tr>\n",
       "    <tr>\n",
       "      <th>84</th>\n",
       "      <td>Reuilly</td>\n",
       "      <td>Room in boutique hotel</td>\n",
       "      <td>121.052632</td>\n",
       "    </tr>\n",
       "    <tr>\n",
       "      <th>85</th>\n",
       "      <td>Temple</td>\n",
       "      <td>Entire apartment</td>\n",
       "      <td>147.145766</td>\n",
       "    </tr>\n",
       "    <tr>\n",
       "      <th>86</th>\n",
       "      <td>Temple</td>\n",
       "      <td>Entire condominium</td>\n",
       "      <td>140.782609</td>\n",
       "    </tr>\n",
       "    <tr>\n",
       "      <th>87</th>\n",
       "      <td>Temple</td>\n",
       "      <td>Entire loft</td>\n",
       "      <td>174.045977</td>\n",
       "    </tr>\n",
       "    <tr>\n",
       "      <th>88</th>\n",
       "      <td>Temple</td>\n",
       "      <td>Private room in apartment</td>\n",
       "      <td>74.280000</td>\n",
       "    </tr>\n",
       "    <tr>\n",
       "      <th>89</th>\n",
       "      <td>Temple</td>\n",
       "      <td>Room in boutique hotel</td>\n",
       "      <td>516.827586</td>\n",
       "    </tr>\n",
       "    <tr>\n",
       "      <th>90</th>\n",
       "      <td>Vaugirard</td>\n",
       "      <td>Entire apartment</td>\n",
       "      <td>103.564366</td>\n",
       "    </tr>\n",
       "    <tr>\n",
       "      <th>91</th>\n",
       "      <td>Vaugirard</td>\n",
       "      <td>Entire condominium</td>\n",
       "      <td>110.640000</td>\n",
       "    </tr>\n",
       "    <tr>\n",
       "      <th>92</th>\n",
       "      <td>Vaugirard</td>\n",
       "      <td>Entire loft</td>\n",
       "      <td>185.742857</td>\n",
       "    </tr>\n",
       "    <tr>\n",
       "      <th>93</th>\n",
       "      <td>Vaugirard</td>\n",
       "      <td>Private room in apartment</td>\n",
       "      <td>78.852814</td>\n",
       "    </tr>\n",
       "    <tr>\n",
       "      <th>94</th>\n",
       "      <td>Vaugirard</td>\n",
       "      <td>Room in boutique hotel</td>\n",
       "      <td>164.060000</td>\n",
       "    </tr>\n",
       "    <tr>\n",
       "      <th>95</th>\n",
       "      <td>Élysée</td>\n",
       "      <td>Entire apartment</td>\n",
       "      <td>226.064378</td>\n",
       "    </tr>\n",
       "    <tr>\n",
       "      <th>96</th>\n",
       "      <td>Élysée</td>\n",
       "      <td>Entire condominium</td>\n",
       "      <td>185.162791</td>\n",
       "    </tr>\n",
       "    <tr>\n",
       "      <th>97</th>\n",
       "      <td>Élysée</td>\n",
       "      <td>Entire loft</td>\n",
       "      <td>212.370370</td>\n",
       "    </tr>\n",
       "    <tr>\n",
       "      <th>98</th>\n",
       "      <td>Élysée</td>\n",
       "      <td>Private room in apartment</td>\n",
       "      <td>109.691489</td>\n",
       "    </tr>\n",
       "    <tr>\n",
       "      <th>99</th>\n",
       "      <td>Élysée</td>\n",
       "      <td>Room in boutique hotel</td>\n",
       "      <td>314.595122</td>\n",
       "    </tr>\n",
       "  </tbody>\n",
       "</table>\n",
       "<p>100 rows × 3 columns</p>\n",
       "</div>"
      ],
      "text/plain": [
       "   neighbourhood_cleansed              property_type       price\n",
       "0     Batignolles-Monceau           Entire apartment  104.527297\n",
       "1     Batignolles-Monceau         Entire condominium  103.472727\n",
       "2     Batignolles-Monceau                Entire loft  123.853659\n",
       "3     Batignolles-Monceau  Private room in apartment   57.249284\n",
       "4     Batignolles-Monceau     Room in boutique hotel  170.757353\n",
       "5                  Bourse           Entire apartment  145.050772\n",
       "6                  Bourse         Entire condominium  101.750000\n",
       "7                  Bourse                Entire loft  190.980769\n",
       "8                  Bourse  Private room in apartment   71.174194\n",
       "9                  Bourse     Room in boutique hotel  213.878788\n",
       "10        Buttes-Chaumont           Entire apartment   79.535133\n",
       "11        Buttes-Chaumont         Entire condominium   87.291339\n",
       "12        Buttes-Chaumont                Entire loft  128.000000\n",
       "13        Buttes-Chaumont  Private room in apartment   48.854000\n",
       "14        Buttes-Chaumont     Room in boutique hotel  175.722222\n",
       "15      Buttes-Montmartre           Entire apartment   86.701525\n",
       "16      Buttes-Montmartre         Entire condominium   98.768362\n",
       "17      Buttes-Montmartre                Entire loft  126.326923\n",
       "18      Buttes-Montmartre  Private room in apartment   50.349673\n",
       "19      Buttes-Montmartre     Room in boutique hotel  160.963636\n",
       "20               Entrepôt           Entire apartment  100.185274\n",
       "21               Entrepôt         Entire condominium   95.902439\n",
       "22               Entrepôt                Entire loft  165.515385\n",
       "23               Entrepôt  Private room in apartment   54.535948\n",
       "24               Entrepôt     Room in boutique hotel  160.540000\n",
       "25               Gobelins           Entire apartment   96.978673\n",
       "26               Gobelins         Entire condominium   99.594595\n",
       "27               Gobelins                Entire loft  134.476190\n",
       "28               Gobelins  Private room in apartment   53.308824\n",
       "29               Gobelins     Room in boutique hotel  154.875000\n",
       "..                    ...                        ...         ...\n",
       "70                  Passy           Entire apartment  178.703785\n",
       "71                  Passy         Entire condominium  137.537037\n",
       "72                  Passy                Entire loft  252.350000\n",
       "73                  Passy  Private room in apartment   72.669643\n",
       "74                  Passy     Room in boutique hotel  247.010638\n",
       "75             Popincourt           Entire apartment   93.424533\n",
       "76             Popincourt         Entire condominium   91.762500\n",
       "77             Popincourt                Entire loft  148.748603\n",
       "78             Popincourt  Private room in apartment   52.412313\n",
       "79             Popincourt     Room in boutique hotel  190.466667\n",
       "80                Reuilly           Entire apartment  103.396818\n",
       "81                Reuilly         Entire condominium   98.290909\n",
       "82                Reuilly                Entire loft  159.000000\n",
       "83                Reuilly  Private room in apartment   51.859589\n",
       "84                Reuilly     Room in boutique hotel  121.052632\n",
       "85                 Temple           Entire apartment  147.145766\n",
       "86                 Temple         Entire condominium  140.782609\n",
       "87                 Temple                Entire loft  174.045977\n",
       "88                 Temple  Private room in apartment   74.280000\n",
       "89                 Temple     Room in boutique hotel  516.827586\n",
       "90              Vaugirard           Entire apartment  103.564366\n",
       "91              Vaugirard         Entire condominium  110.640000\n",
       "92              Vaugirard                Entire loft  185.742857\n",
       "93              Vaugirard  Private room in apartment   78.852814\n",
       "94              Vaugirard     Room in boutique hotel  164.060000\n",
       "95                 Élysée           Entire apartment  226.064378\n",
       "96                 Élysée         Entire condominium  185.162791\n",
       "97                 Élysée                Entire loft  212.370370\n",
       "98                 Élysée  Private room in apartment  109.691489\n",
       "99                 Élysée     Room in boutique hotel  314.595122\n",
       "\n",
       "[100 rows x 3 columns]"
      ]
     },
     "execution_count": 105,
     "metadata": {},
     "output_type": "execute_result"
    }
   ],
   "source": [
    "values_keep_prop = ('Entire apartment','Private room in apartment','Entire condominium', 'Room in boutique hotel',\n",
    "'Entire loft')\n",
    "df_list_avg_price_prp2 = df_list_avg_price_prp.loc[df_list_avg_price_prp['property_type'].isin(values_keep_prop)]\n",
    "\n",
    "df_list_avg_price_prp = df_list_avg_price_prp2.groupby(['neighbourhood_cleansed','property_type'])[['price']].mean().reset_index()\n",
    "df_list_avg_price_prp"
   ]
  },
  {
   "cell_type": "markdown",
   "metadata": {},
   "source": [
    "The average price of the room in boutique hotel property type is higher tan the other property type, followed by the loft, entire condominium, Entire apartment and finnaly the private room in apartment."
   ]
  },
  {
   "cell_type": "markdown",
   "metadata": {},
   "source": [
    "#### E. Most Common Amenities"
   ]
  },
  {
   "cell_type": "code",
   "execution_count": 106,
   "metadata": {},
   "outputs": [
    {
     "data": {
      "text/plain": [
       "0    [\"Host greets you\", \"Washer\", \"Essentials\", \"L...\n",
       "1    [\"Washer\", \"Smart lock\", \"Laptop-friendly work...\n",
       "2    [\"Cable TV\", \"Host greets you\", \"Essentials\", ...\n",
       "3    [\"Cable TV\", \"Washer\", \"Host greets you\", \"Ess...\n",
       "4    [\"Host greets you\", \"Washer\", \"Cooking basics\"...\n",
       "Name: amenities, dtype: object"
      ]
     },
     "execution_count": 106,
     "metadata": {},
     "output_type": "execute_result"
    }
   ],
   "source": [
    "# Check the amenities columns\n",
    "df_list['amenities'].head()"
   ]
  },
  {
   "cell_type": "markdown",
   "metadata": {},
   "source": [
    "For each row the amenities column is a list of the different amenities available for the listing, to make it readable we're going to turn this column into a new dataframe where each column represent an amenities. "
   ]
  },
  {
   "cell_type": "code",
   "execution_count": 107,
   "metadata": {},
   "outputs": [],
   "source": [
    "amenities = df_list['amenities'].apply(lambda x: [amenity.replace('\"', \"\").replace(\"[\", \"\").replace(\"]\", \"\") \n",
    "                                               for amenity in x.split(\",\")])\n",
    "\n",
    "mlb = MultiLabelBinarizer()\n",
    "df_amenities_final = pd.DataFrame(mlb.fit_transform(amenities), columns=mlb.classes_, index=amenities.index)"
   ]
  },
  {
   "cell_type": "code",
   "execution_count": 108,
   "metadata": {},
   "outputs": [
    {
     "data": {
      "text/html": [
       "<div>\n",
       "<style scoped>\n",
       "    .dataframe tbody tr th:only-of-type {\n",
       "        vertical-align: middle;\n",
       "    }\n",
       "\n",
       "    .dataframe tbody tr th {\n",
       "        vertical-align: top;\n",
       "    }\n",
       "\n",
       "    .dataframe thead th {\n",
       "        text-align: right;\n",
       "    }\n",
       "</style>\n",
       "<table border=\"1\" class=\"dataframe\">\n",
       "  <thead>\n",
       "    <tr style=\"text-align: right;\">\n",
       "      <th></th>\n",
       "      <th></th>\n",
       "      <th>linens</th>\n",
       "      <th>toiletries</th>\n",
       "      <th>Air conditioning</th>\n",
       "      <th>Airport shuttle</th>\n",
       "      <th>Alarm system</th>\n",
       "      <th>BBQ grill</th>\n",
       "      <th>Baby bath</th>\n",
       "      <th>Baby monitor</th>\n",
       "      <th>Babysitter recommendations</th>\n",
       "      <th>...</th>\n",
       "      <th>Smart lock</th>\n",
       "      <th>Smoke alarm</th>\n",
       "      <th>Stove</th>\n",
       "      <th>Suitable for events</th>\n",
       "      <th>Sun loungers</th>\n",
       "      <th>TV</th>\n",
       "      <th>Trash compactor</th>\n",
       "      <th>Washer</th>\n",
       "      <th>Waterfront</th>\n",
       "      <th>Wifi</th>\n",
       "    </tr>\n",
       "  </thead>\n",
       "  <tbody>\n",
       "    <tr>\n",
       "      <th>0</th>\n",
       "      <td>0</td>\n",
       "      <td>0</td>\n",
       "      <td>0</td>\n",
       "      <td>0</td>\n",
       "      <td>0</td>\n",
       "      <td>0</td>\n",
       "      <td>0</td>\n",
       "      <td>0</td>\n",
       "      <td>0</td>\n",
       "      <td>0</td>\n",
       "      <td>...</td>\n",
       "      <td>0</td>\n",
       "      <td>0</td>\n",
       "      <td>0</td>\n",
       "      <td>0</td>\n",
       "      <td>0</td>\n",
       "      <td>0</td>\n",
       "      <td>0</td>\n",
       "      <td>0</td>\n",
       "      <td>0</td>\n",
       "      <td>0</td>\n",
       "    </tr>\n",
       "    <tr>\n",
       "      <th>1</th>\n",
       "      <td>0</td>\n",
       "      <td>0</td>\n",
       "      <td>0</td>\n",
       "      <td>0</td>\n",
       "      <td>0</td>\n",
       "      <td>0</td>\n",
       "      <td>0</td>\n",
       "      <td>0</td>\n",
       "      <td>0</td>\n",
       "      <td>0</td>\n",
       "      <td>...</td>\n",
       "      <td>0</td>\n",
       "      <td>0</td>\n",
       "      <td>0</td>\n",
       "      <td>0</td>\n",
       "      <td>0</td>\n",
       "      <td>0</td>\n",
       "      <td>0</td>\n",
       "      <td>1</td>\n",
       "      <td>0</td>\n",
       "      <td>0</td>\n",
       "    </tr>\n",
       "    <tr>\n",
       "      <th>2</th>\n",
       "      <td>0</td>\n",
       "      <td>0</td>\n",
       "      <td>0</td>\n",
       "      <td>0</td>\n",
       "      <td>0</td>\n",
       "      <td>0</td>\n",
       "      <td>0</td>\n",
       "      <td>0</td>\n",
       "      <td>0</td>\n",
       "      <td>0</td>\n",
       "      <td>...</td>\n",
       "      <td>0</td>\n",
       "      <td>0</td>\n",
       "      <td>0</td>\n",
       "      <td>0</td>\n",
       "      <td>0</td>\n",
       "      <td>0</td>\n",
       "      <td>0</td>\n",
       "      <td>0</td>\n",
       "      <td>0</td>\n",
       "      <td>0</td>\n",
       "    </tr>\n",
       "    <tr>\n",
       "      <th>3</th>\n",
       "      <td>0</td>\n",
       "      <td>0</td>\n",
       "      <td>0</td>\n",
       "      <td>0</td>\n",
       "      <td>0</td>\n",
       "      <td>0</td>\n",
       "      <td>0</td>\n",
       "      <td>0</td>\n",
       "      <td>0</td>\n",
       "      <td>0</td>\n",
       "      <td>...</td>\n",
       "      <td>0</td>\n",
       "      <td>0</td>\n",
       "      <td>0</td>\n",
       "      <td>0</td>\n",
       "      <td>0</td>\n",
       "      <td>0</td>\n",
       "      <td>0</td>\n",
       "      <td>0</td>\n",
       "      <td>0</td>\n",
       "      <td>0</td>\n",
       "    </tr>\n",
       "    <tr>\n",
       "      <th>4</th>\n",
       "      <td>0</td>\n",
       "      <td>0</td>\n",
       "      <td>0</td>\n",
       "      <td>0</td>\n",
       "      <td>0</td>\n",
       "      <td>0</td>\n",
       "      <td>0</td>\n",
       "      <td>0</td>\n",
       "      <td>0</td>\n",
       "      <td>0</td>\n",
       "      <td>...</td>\n",
       "      <td>0</td>\n",
       "      <td>0</td>\n",
       "      <td>0</td>\n",
       "      <td>0</td>\n",
       "      <td>0</td>\n",
       "      <td>0</td>\n",
       "      <td>0</td>\n",
       "      <td>0</td>\n",
       "      <td>0</td>\n",
       "      <td>0</td>\n",
       "    </tr>\n",
       "  </tbody>\n",
       "</table>\n",
       "<p>5 rows × 279 columns</p>\n",
       "</div>"
      ],
      "text/plain": [
       "        linens    toiletries   Air conditioning   Airport shuttle  \\\n",
       "0  0         0             0                  0                 0   \n",
       "1  0         0             0                  0                 0   \n",
       "2  0         0             0                  0                 0   \n",
       "3  0         0             0                  0                 0   \n",
       "4  0         0             0                  0                 0   \n",
       "\n",
       "    Alarm system   BBQ grill   Baby bath   Baby monitor  \\\n",
       "0              0           0           0              0   \n",
       "1              0           0           0              0   \n",
       "2              0           0           0              0   \n",
       "3              0           0           0              0   \n",
       "4              0           0           0              0   \n",
       "\n",
       "    Babysitter recommendations  ...   Smart lock  Smoke alarm  Stove  \\\n",
       "0                            0  ...            0            0      0   \n",
       "1                            0  ...            0            0      0   \n",
       "2                            0  ...            0            0      0   \n",
       "3                            0  ...            0            0      0   \n",
       "4                            0  ...            0            0      0   \n",
       "\n",
       "   Suitable for events  Sun loungers  TV  Trash compactor  Washer  Waterfront  \\\n",
       "0                    0             0   0                0       0           0   \n",
       "1                    0             0   0                0       1           0   \n",
       "2                    0             0   0                0       0           0   \n",
       "3                    0             0   0                0       0           0   \n",
       "4                    0             0   0                0       0           0   \n",
       "\n",
       "   Wifi  \n",
       "0     0  \n",
       "1     0  \n",
       "2     0  \n",
       "3     0  \n",
       "4     0  \n",
       "\n",
       "[5 rows x 279 columns]"
      ]
     },
     "execution_count": 108,
     "metadata": {},
     "output_type": "execute_result"
    }
   ],
   "source": [
    "df_amenities_final.head()"
   ]
  },
  {
   "cell_type": "code",
   "execution_count": 109,
   "metadata": {},
   "outputs": [
    {
     "data": {
      "text/html": [
       "<div>\n",
       "<style scoped>\n",
       "    .dataframe tbody tr th:only-of-type {\n",
       "        vertical-align: middle;\n",
       "    }\n",
       "\n",
       "    .dataframe tbody tr th {\n",
       "        vertical-align: top;\n",
       "    }\n",
       "\n",
       "    .dataframe thead th {\n",
       "        text-align: right;\n",
       "    }\n",
       "</style>\n",
       "<table border=\"1\" class=\"dataframe\">\n",
       "  <thead>\n",
       "    <tr style=\"text-align: right;\">\n",
       "      <th></th>\n",
       "      <th>amenities</th>\n",
       "      <th>counts</th>\n",
       "    </tr>\n",
       "  </thead>\n",
       "  <tbody>\n",
       "    <tr>\n",
       "      <th>0</th>\n",
       "      <td>Wifi</td>\n",
       "      <td>62988</td>\n",
       "    </tr>\n",
       "    <tr>\n",
       "      <th>1</th>\n",
       "      <td>Kitchen</td>\n",
       "      <td>61489</td>\n",
       "    </tr>\n",
       "    <tr>\n",
       "      <th>2</th>\n",
       "      <td>Essentials</td>\n",
       "      <td>60513</td>\n",
       "    </tr>\n",
       "    <tr>\n",
       "      <th>3</th>\n",
       "      <td>Heating</td>\n",
       "      <td>58215</td>\n",
       "    </tr>\n",
       "    <tr>\n",
       "      <th>4</th>\n",
       "      <td>Smoke alarm</td>\n",
       "      <td>48317</td>\n",
       "    </tr>\n",
       "    <tr>\n",
       "      <th>5</th>\n",
       "      <td>Hangers</td>\n",
       "      <td>47313</td>\n",
       "    </tr>\n",
       "    <tr>\n",
       "      <th>6</th>\n",
       "      <td>Hair dryer</td>\n",
       "      <td>46584</td>\n",
       "    </tr>\n",
       "    <tr>\n",
       "      <th>7</th>\n",
       "      <td>Iron</td>\n",
       "      <td>45984</td>\n",
       "    </tr>\n",
       "    <tr>\n",
       "      <th>8</th>\n",
       "      <td>TV</td>\n",
       "      <td>44360</td>\n",
       "    </tr>\n",
       "    <tr>\n",
       "      <th>9</th>\n",
       "      <td>Washer</td>\n",
       "      <td>41773</td>\n",
       "    </tr>\n",
       "  </tbody>\n",
       "</table>\n",
       "</div>"
      ],
      "text/plain": [
       "      amenities  counts\n",
       "0          Wifi   62988\n",
       "1       Kitchen   61489\n",
       "2    Essentials   60513\n",
       "3       Heating   58215\n",
       "4   Smoke alarm   48317\n",
       "5       Hangers   47313\n",
       "6    Hair dryer   46584\n",
       "7          Iron   45984\n",
       "8            TV   44360\n",
       "9        Washer   41773"
      ]
     },
     "execution_count": 109,
     "metadata": {},
     "output_type": "execute_result"
    }
   ],
   "source": [
    "test = df_amenities_final.sum().sort_values(ascending=False)\n",
    "test = test.rename_axis('amenities').reset_index(name='counts')\n",
    "test.head(10)"
   ]
  },
  {
   "cell_type": "code",
   "execution_count": 110,
   "metadata": {},
   "outputs": [
    {
     "data": {
      "application/vnd.plotly.v1+json": {
       "config": {
        "plotlyServerURL": "https://plot.ly"
       },
       "data": [
        {
         "alignmentgroup": "True",
         "hovertemplate": "Amenities=%{x}<br>Count of listing with amenities=%{y}<br>text=%{text}<extra></extra>",
         "legendgroup": "",
         "marker": {
          "color": "#636efa"
         },
         "name": "",
         "offsetgroup": "",
         "orientation": "v",
         "showlegend": false,
         "text": [
          62988,
          61489,
          60513,
          58215,
          48317
         ],
         "textposition": "outside",
         "texttemplate": "%{text:.2s}",
         "type": "bar",
         "x": [
          " Wifi",
          " Kitchen",
          " Essentials",
          " Heating",
          " Smoke alarm"
         ],
         "xaxis": "x",
         "y": [
          62988,
          61489,
          60513,
          58215,
          48317
         ],
         "yaxis": "y"
        }
       ],
       "layout": {
        "barmode": "relative",
        "legend": {
         "tracegroupgap": 0
        },
        "margin": {
         "t": 60
        },
        "template": {
         "data": {
          "bar": [
           {
            "error_x": {
             "color": "#2a3f5f"
            },
            "error_y": {
             "color": "#2a3f5f"
            },
            "marker": {
             "line": {
              "color": "#E5ECF6",
              "width": 0.5
             }
            },
            "type": "bar"
           }
          ],
          "barpolar": [
           {
            "marker": {
             "line": {
              "color": "#E5ECF6",
              "width": 0.5
             }
            },
            "type": "barpolar"
           }
          ],
          "carpet": [
           {
            "aaxis": {
             "endlinecolor": "#2a3f5f",
             "gridcolor": "white",
             "linecolor": "white",
             "minorgridcolor": "white",
             "startlinecolor": "#2a3f5f"
            },
            "baxis": {
             "endlinecolor": "#2a3f5f",
             "gridcolor": "white",
             "linecolor": "white",
             "minorgridcolor": "white",
             "startlinecolor": "#2a3f5f"
            },
            "type": "carpet"
           }
          ],
          "choropleth": [
           {
            "colorbar": {
             "outlinewidth": 0,
             "ticks": ""
            },
            "type": "choropleth"
           }
          ],
          "contour": [
           {
            "colorbar": {
             "outlinewidth": 0,
             "ticks": ""
            },
            "colorscale": [
             [
              0,
              "#0d0887"
             ],
             [
              0.1111111111111111,
              "#46039f"
             ],
             [
              0.2222222222222222,
              "#7201a8"
             ],
             [
              0.3333333333333333,
              "#9c179e"
             ],
             [
              0.4444444444444444,
              "#bd3786"
             ],
             [
              0.5555555555555556,
              "#d8576b"
             ],
             [
              0.6666666666666666,
              "#ed7953"
             ],
             [
              0.7777777777777778,
              "#fb9f3a"
             ],
             [
              0.8888888888888888,
              "#fdca26"
             ],
             [
              1,
              "#f0f921"
             ]
            ],
            "type": "contour"
           }
          ],
          "contourcarpet": [
           {
            "colorbar": {
             "outlinewidth": 0,
             "ticks": ""
            },
            "type": "contourcarpet"
           }
          ],
          "heatmap": [
           {
            "colorbar": {
             "outlinewidth": 0,
             "ticks": ""
            },
            "colorscale": [
             [
              0,
              "#0d0887"
             ],
             [
              0.1111111111111111,
              "#46039f"
             ],
             [
              0.2222222222222222,
              "#7201a8"
             ],
             [
              0.3333333333333333,
              "#9c179e"
             ],
             [
              0.4444444444444444,
              "#bd3786"
             ],
             [
              0.5555555555555556,
              "#d8576b"
             ],
             [
              0.6666666666666666,
              "#ed7953"
             ],
             [
              0.7777777777777778,
              "#fb9f3a"
             ],
             [
              0.8888888888888888,
              "#fdca26"
             ],
             [
              1,
              "#f0f921"
             ]
            ],
            "type": "heatmap"
           }
          ],
          "heatmapgl": [
           {
            "colorbar": {
             "outlinewidth": 0,
             "ticks": ""
            },
            "colorscale": [
             [
              0,
              "#0d0887"
             ],
             [
              0.1111111111111111,
              "#46039f"
             ],
             [
              0.2222222222222222,
              "#7201a8"
             ],
             [
              0.3333333333333333,
              "#9c179e"
             ],
             [
              0.4444444444444444,
              "#bd3786"
             ],
             [
              0.5555555555555556,
              "#d8576b"
             ],
             [
              0.6666666666666666,
              "#ed7953"
             ],
             [
              0.7777777777777778,
              "#fb9f3a"
             ],
             [
              0.8888888888888888,
              "#fdca26"
             ],
             [
              1,
              "#f0f921"
             ]
            ],
            "type": "heatmapgl"
           }
          ],
          "histogram": [
           {
            "marker": {
             "colorbar": {
              "outlinewidth": 0,
              "ticks": ""
             }
            },
            "type": "histogram"
           }
          ],
          "histogram2d": [
           {
            "colorbar": {
             "outlinewidth": 0,
             "ticks": ""
            },
            "colorscale": [
             [
              0,
              "#0d0887"
             ],
             [
              0.1111111111111111,
              "#46039f"
             ],
             [
              0.2222222222222222,
              "#7201a8"
             ],
             [
              0.3333333333333333,
              "#9c179e"
             ],
             [
              0.4444444444444444,
              "#bd3786"
             ],
             [
              0.5555555555555556,
              "#d8576b"
             ],
             [
              0.6666666666666666,
              "#ed7953"
             ],
             [
              0.7777777777777778,
              "#fb9f3a"
             ],
             [
              0.8888888888888888,
              "#fdca26"
             ],
             [
              1,
              "#f0f921"
             ]
            ],
            "type": "histogram2d"
           }
          ],
          "histogram2dcontour": [
           {
            "colorbar": {
             "outlinewidth": 0,
             "ticks": ""
            },
            "colorscale": [
             [
              0,
              "#0d0887"
             ],
             [
              0.1111111111111111,
              "#46039f"
             ],
             [
              0.2222222222222222,
              "#7201a8"
             ],
             [
              0.3333333333333333,
              "#9c179e"
             ],
             [
              0.4444444444444444,
              "#bd3786"
             ],
             [
              0.5555555555555556,
              "#d8576b"
             ],
             [
              0.6666666666666666,
              "#ed7953"
             ],
             [
              0.7777777777777778,
              "#fb9f3a"
             ],
             [
              0.8888888888888888,
              "#fdca26"
             ],
             [
              1,
              "#f0f921"
             ]
            ],
            "type": "histogram2dcontour"
           }
          ],
          "mesh3d": [
           {
            "colorbar": {
             "outlinewidth": 0,
             "ticks": ""
            },
            "type": "mesh3d"
           }
          ],
          "parcoords": [
           {
            "line": {
             "colorbar": {
              "outlinewidth": 0,
              "ticks": ""
             }
            },
            "type": "parcoords"
           }
          ],
          "pie": [
           {
            "automargin": true,
            "type": "pie"
           }
          ],
          "scatter": [
           {
            "marker": {
             "colorbar": {
              "outlinewidth": 0,
              "ticks": ""
             }
            },
            "type": "scatter"
           }
          ],
          "scatter3d": [
           {
            "line": {
             "colorbar": {
              "outlinewidth": 0,
              "ticks": ""
             }
            },
            "marker": {
             "colorbar": {
              "outlinewidth": 0,
              "ticks": ""
             }
            },
            "type": "scatter3d"
           }
          ],
          "scattercarpet": [
           {
            "marker": {
             "colorbar": {
              "outlinewidth": 0,
              "ticks": ""
             }
            },
            "type": "scattercarpet"
           }
          ],
          "scattergeo": [
           {
            "marker": {
             "colorbar": {
              "outlinewidth": 0,
              "ticks": ""
             }
            },
            "type": "scattergeo"
           }
          ],
          "scattergl": [
           {
            "marker": {
             "colorbar": {
              "outlinewidth": 0,
              "ticks": ""
             }
            },
            "type": "scattergl"
           }
          ],
          "scattermapbox": [
           {
            "marker": {
             "colorbar": {
              "outlinewidth": 0,
              "ticks": ""
             }
            },
            "type": "scattermapbox"
           }
          ],
          "scatterpolar": [
           {
            "marker": {
             "colorbar": {
              "outlinewidth": 0,
              "ticks": ""
             }
            },
            "type": "scatterpolar"
           }
          ],
          "scatterpolargl": [
           {
            "marker": {
             "colorbar": {
              "outlinewidth": 0,
              "ticks": ""
             }
            },
            "type": "scatterpolargl"
           }
          ],
          "scatterternary": [
           {
            "marker": {
             "colorbar": {
              "outlinewidth": 0,
              "ticks": ""
             }
            },
            "type": "scatterternary"
           }
          ],
          "surface": [
           {
            "colorbar": {
             "outlinewidth": 0,
             "ticks": ""
            },
            "colorscale": [
             [
              0,
              "#0d0887"
             ],
             [
              0.1111111111111111,
              "#46039f"
             ],
             [
              0.2222222222222222,
              "#7201a8"
             ],
             [
              0.3333333333333333,
              "#9c179e"
             ],
             [
              0.4444444444444444,
              "#bd3786"
             ],
             [
              0.5555555555555556,
              "#d8576b"
             ],
             [
              0.6666666666666666,
              "#ed7953"
             ],
             [
              0.7777777777777778,
              "#fb9f3a"
             ],
             [
              0.8888888888888888,
              "#fdca26"
             ],
             [
              1,
              "#f0f921"
             ]
            ],
            "type": "surface"
           }
          ],
          "table": [
           {
            "cells": {
             "fill": {
              "color": "#EBF0F8"
             },
             "line": {
              "color": "white"
             }
            },
            "header": {
             "fill": {
              "color": "#C8D4E3"
             },
             "line": {
              "color": "white"
             }
            },
            "type": "table"
           }
          ]
         },
         "layout": {
          "annotationdefaults": {
           "arrowcolor": "#2a3f5f",
           "arrowhead": 0,
           "arrowwidth": 1
          },
          "coloraxis": {
           "colorbar": {
            "outlinewidth": 0,
            "ticks": ""
           }
          },
          "colorscale": {
           "diverging": [
            [
             0,
             "#8e0152"
            ],
            [
             0.1,
             "#c51b7d"
            ],
            [
             0.2,
             "#de77ae"
            ],
            [
             0.3,
             "#f1b6da"
            ],
            [
             0.4,
             "#fde0ef"
            ],
            [
             0.5,
             "#f7f7f7"
            ],
            [
             0.6,
             "#e6f5d0"
            ],
            [
             0.7,
             "#b8e186"
            ],
            [
             0.8,
             "#7fbc41"
            ],
            [
             0.9,
             "#4d9221"
            ],
            [
             1,
             "#276419"
            ]
           ],
           "sequential": [
            [
             0,
             "#0d0887"
            ],
            [
             0.1111111111111111,
             "#46039f"
            ],
            [
             0.2222222222222222,
             "#7201a8"
            ],
            [
             0.3333333333333333,
             "#9c179e"
            ],
            [
             0.4444444444444444,
             "#bd3786"
            ],
            [
             0.5555555555555556,
             "#d8576b"
            ],
            [
             0.6666666666666666,
             "#ed7953"
            ],
            [
             0.7777777777777778,
             "#fb9f3a"
            ],
            [
             0.8888888888888888,
             "#fdca26"
            ],
            [
             1,
             "#f0f921"
            ]
           ],
           "sequentialminus": [
            [
             0,
             "#0d0887"
            ],
            [
             0.1111111111111111,
             "#46039f"
            ],
            [
             0.2222222222222222,
             "#7201a8"
            ],
            [
             0.3333333333333333,
             "#9c179e"
            ],
            [
             0.4444444444444444,
             "#bd3786"
            ],
            [
             0.5555555555555556,
             "#d8576b"
            ],
            [
             0.6666666666666666,
             "#ed7953"
            ],
            [
             0.7777777777777778,
             "#fb9f3a"
            ],
            [
             0.8888888888888888,
             "#fdca26"
            ],
            [
             1,
             "#f0f921"
            ]
           ]
          },
          "colorway": [
           "#636efa",
           "#EF553B",
           "#00cc96",
           "#ab63fa",
           "#FFA15A",
           "#19d3f3",
           "#FF6692",
           "#B6E880",
           "#FF97FF",
           "#FECB52"
          ],
          "font": {
           "color": "#2a3f5f"
          },
          "geo": {
           "bgcolor": "white",
           "lakecolor": "white",
           "landcolor": "#E5ECF6",
           "showlakes": true,
           "showland": true,
           "subunitcolor": "white"
          },
          "hoverlabel": {
           "align": "left"
          },
          "hovermode": "closest",
          "mapbox": {
           "style": "light"
          },
          "paper_bgcolor": "white",
          "plot_bgcolor": "#E5ECF6",
          "polar": {
           "angularaxis": {
            "gridcolor": "white",
            "linecolor": "white",
            "ticks": ""
           },
           "bgcolor": "#E5ECF6",
           "radialaxis": {
            "gridcolor": "white",
            "linecolor": "white",
            "ticks": ""
           }
          },
          "scene": {
           "xaxis": {
            "backgroundcolor": "#E5ECF6",
            "gridcolor": "white",
            "gridwidth": 2,
            "linecolor": "white",
            "showbackground": true,
            "ticks": "",
            "zerolinecolor": "white"
           },
           "yaxis": {
            "backgroundcolor": "#E5ECF6",
            "gridcolor": "white",
            "gridwidth": 2,
            "linecolor": "white",
            "showbackground": true,
            "ticks": "",
            "zerolinecolor": "white"
           },
           "zaxis": {
            "backgroundcolor": "#E5ECF6",
            "gridcolor": "white",
            "gridwidth": 2,
            "linecolor": "white",
            "showbackground": true,
            "ticks": "",
            "zerolinecolor": "white"
           }
          },
          "shapedefaults": {
           "line": {
            "color": "#2a3f5f"
           }
          },
          "ternary": {
           "aaxis": {
            "gridcolor": "white",
            "linecolor": "white",
            "ticks": ""
           },
           "baxis": {
            "gridcolor": "white",
            "linecolor": "white",
            "ticks": ""
           },
           "bgcolor": "#E5ECF6",
           "caxis": {
            "gridcolor": "white",
            "linecolor": "white",
            "ticks": ""
           }
          },
          "title": {
           "x": 0.05
          },
          "xaxis": {
           "automargin": true,
           "gridcolor": "white",
           "linecolor": "white",
           "ticks": "",
           "title": {
            "standoff": 15
           },
           "zerolinecolor": "white",
           "zerolinewidth": 2
          },
          "yaxis": {
           "automargin": true,
           "gridcolor": "white",
           "linecolor": "white",
           "ticks": "",
           "title": {
            "standoff": 15
           },
           "zerolinecolor": "white",
           "zerolinewidth": 2
          }
         }
        },
        "uniformtext": {
         "minsize": 8,
         "mode": "hide"
        },
        "xaxis": {
         "anchor": "y",
         "domain": [
          0,
          1
         ],
         "title": {
          "text": "Amenities"
         }
        },
        "yaxis": {
         "anchor": "x",
         "domain": [
          0,
          1
         ],
         "title": {
          "text": "Count of listing with amenities"
         }
        }
       }
      },
      "text/html": [
       "<div>\n",
       "        \n",
       "        \n",
       "            <div id=\"61e6574e-e0eb-4fad-9cd2-b739d50cf629\" class=\"plotly-graph-div\" style=\"height:525px; width:100%;\"></div>\n",
       "            <script type=\"text/javascript\">\n",
       "                require([\"plotly\"], function(Plotly) {\n",
       "                    window.PLOTLYENV=window.PLOTLYENV || {};\n",
       "                    \n",
       "                if (document.getElementById(\"61e6574e-e0eb-4fad-9cd2-b739d50cf629\")) {\n",
       "                    Plotly.newPlot(\n",
       "                        '61e6574e-e0eb-4fad-9cd2-b739d50cf629',\n",
       "                        [{\"alignmentgroup\": \"True\", \"hovertemplate\": \"Amenities=%{x}<br>Count of listing with amenities=%{y}<br>text=%{text}<extra></extra>\", \"legendgroup\": \"\", \"marker\": {\"color\": \"#636efa\"}, \"name\": \"\", \"offsetgroup\": \"\", \"orientation\": \"v\", \"showlegend\": false, \"text\": [62988.0, 61489.0, 60513.0, 58215.0, 48317.0], \"textposition\": \"outside\", \"texttemplate\": \"%{text:.2s}\", \"type\": \"bar\", \"x\": [\" Wifi\", \" Kitchen\", \" Essentials\", \" Heating\", \" Smoke alarm\"], \"xaxis\": \"x\", \"y\": [62988, 61489, 60513, 58215, 48317], \"yaxis\": \"y\"}],\n",
       "                        {\"barmode\": \"relative\", \"legend\": {\"tracegroupgap\": 0}, \"margin\": {\"t\": 60}, \"template\": {\"data\": {\"bar\": [{\"error_x\": {\"color\": \"#2a3f5f\"}, \"error_y\": {\"color\": \"#2a3f5f\"}, \"marker\": {\"line\": {\"color\": \"#E5ECF6\", \"width\": 0.5}}, \"type\": \"bar\"}], \"barpolar\": [{\"marker\": {\"line\": {\"color\": \"#E5ECF6\", \"width\": 0.5}}, \"type\": \"barpolar\"}], \"carpet\": [{\"aaxis\": {\"endlinecolor\": \"#2a3f5f\", \"gridcolor\": \"white\", \"linecolor\": \"white\", \"minorgridcolor\": \"white\", \"startlinecolor\": \"#2a3f5f\"}, \"baxis\": {\"endlinecolor\": \"#2a3f5f\", \"gridcolor\": \"white\", \"linecolor\": \"white\", \"minorgridcolor\": \"white\", \"startlinecolor\": \"#2a3f5f\"}, \"type\": \"carpet\"}], \"choropleth\": [{\"colorbar\": {\"outlinewidth\": 0, \"ticks\": \"\"}, \"type\": \"choropleth\"}], \"contour\": [{\"colorbar\": {\"outlinewidth\": 0, \"ticks\": \"\"}, \"colorscale\": [[0.0, \"#0d0887\"], [0.1111111111111111, \"#46039f\"], [0.2222222222222222, \"#7201a8\"], [0.3333333333333333, \"#9c179e\"], [0.4444444444444444, \"#bd3786\"], [0.5555555555555556, \"#d8576b\"], [0.6666666666666666, \"#ed7953\"], [0.7777777777777778, \"#fb9f3a\"], [0.8888888888888888, \"#fdca26\"], [1.0, \"#f0f921\"]], \"type\": \"contour\"}], \"contourcarpet\": [{\"colorbar\": {\"outlinewidth\": 0, \"ticks\": \"\"}, \"type\": \"contourcarpet\"}], \"heatmap\": [{\"colorbar\": {\"outlinewidth\": 0, \"ticks\": \"\"}, \"colorscale\": [[0.0, \"#0d0887\"], [0.1111111111111111, \"#46039f\"], [0.2222222222222222, \"#7201a8\"], [0.3333333333333333, \"#9c179e\"], [0.4444444444444444, \"#bd3786\"], [0.5555555555555556, \"#d8576b\"], [0.6666666666666666, \"#ed7953\"], [0.7777777777777778, \"#fb9f3a\"], [0.8888888888888888, \"#fdca26\"], [1.0, \"#f0f921\"]], \"type\": \"heatmap\"}], \"heatmapgl\": [{\"colorbar\": {\"outlinewidth\": 0, \"ticks\": \"\"}, \"colorscale\": [[0.0, \"#0d0887\"], [0.1111111111111111, \"#46039f\"], [0.2222222222222222, \"#7201a8\"], [0.3333333333333333, \"#9c179e\"], [0.4444444444444444, \"#bd3786\"], [0.5555555555555556, \"#d8576b\"], [0.6666666666666666, \"#ed7953\"], [0.7777777777777778, \"#fb9f3a\"], [0.8888888888888888, \"#fdca26\"], [1.0, \"#f0f921\"]], \"type\": \"heatmapgl\"}], \"histogram\": [{\"marker\": {\"colorbar\": {\"outlinewidth\": 0, \"ticks\": \"\"}}, \"type\": \"histogram\"}], \"histogram2d\": [{\"colorbar\": {\"outlinewidth\": 0, \"ticks\": \"\"}, \"colorscale\": [[0.0, \"#0d0887\"], [0.1111111111111111, \"#46039f\"], [0.2222222222222222, \"#7201a8\"], [0.3333333333333333, \"#9c179e\"], [0.4444444444444444, \"#bd3786\"], [0.5555555555555556, \"#d8576b\"], [0.6666666666666666, \"#ed7953\"], [0.7777777777777778, \"#fb9f3a\"], [0.8888888888888888, \"#fdca26\"], [1.0, \"#f0f921\"]], \"type\": \"histogram2d\"}], \"histogram2dcontour\": [{\"colorbar\": {\"outlinewidth\": 0, \"ticks\": \"\"}, \"colorscale\": [[0.0, \"#0d0887\"], [0.1111111111111111, \"#46039f\"], [0.2222222222222222, \"#7201a8\"], [0.3333333333333333, \"#9c179e\"], [0.4444444444444444, \"#bd3786\"], [0.5555555555555556, \"#d8576b\"], [0.6666666666666666, \"#ed7953\"], [0.7777777777777778, \"#fb9f3a\"], [0.8888888888888888, \"#fdca26\"], [1.0, \"#f0f921\"]], \"type\": \"histogram2dcontour\"}], \"mesh3d\": [{\"colorbar\": {\"outlinewidth\": 0, \"ticks\": \"\"}, \"type\": \"mesh3d\"}], \"parcoords\": [{\"line\": {\"colorbar\": {\"outlinewidth\": 0, \"ticks\": \"\"}}, \"type\": \"parcoords\"}], \"pie\": [{\"automargin\": true, \"type\": \"pie\"}], \"scatter\": [{\"marker\": {\"colorbar\": {\"outlinewidth\": 0, \"ticks\": \"\"}}, \"type\": \"scatter\"}], \"scatter3d\": [{\"line\": {\"colorbar\": {\"outlinewidth\": 0, \"ticks\": \"\"}}, \"marker\": {\"colorbar\": {\"outlinewidth\": 0, \"ticks\": \"\"}}, \"type\": \"scatter3d\"}], \"scattercarpet\": [{\"marker\": {\"colorbar\": {\"outlinewidth\": 0, \"ticks\": \"\"}}, \"type\": \"scattercarpet\"}], \"scattergeo\": [{\"marker\": {\"colorbar\": {\"outlinewidth\": 0, \"ticks\": \"\"}}, \"type\": \"scattergeo\"}], \"scattergl\": [{\"marker\": {\"colorbar\": {\"outlinewidth\": 0, \"ticks\": \"\"}}, \"type\": \"scattergl\"}], \"scattermapbox\": [{\"marker\": {\"colorbar\": {\"outlinewidth\": 0, \"ticks\": \"\"}}, \"type\": \"scattermapbox\"}], \"scatterpolar\": [{\"marker\": {\"colorbar\": {\"outlinewidth\": 0, \"ticks\": \"\"}}, \"type\": \"scatterpolar\"}], \"scatterpolargl\": [{\"marker\": {\"colorbar\": {\"outlinewidth\": 0, \"ticks\": \"\"}}, \"type\": \"scatterpolargl\"}], \"scatterternary\": [{\"marker\": {\"colorbar\": {\"outlinewidth\": 0, \"ticks\": \"\"}}, \"type\": \"scatterternary\"}], \"surface\": [{\"colorbar\": {\"outlinewidth\": 0, \"ticks\": \"\"}, \"colorscale\": [[0.0, \"#0d0887\"], [0.1111111111111111, \"#46039f\"], [0.2222222222222222, \"#7201a8\"], [0.3333333333333333, \"#9c179e\"], [0.4444444444444444, \"#bd3786\"], [0.5555555555555556, \"#d8576b\"], [0.6666666666666666, \"#ed7953\"], [0.7777777777777778, \"#fb9f3a\"], [0.8888888888888888, \"#fdca26\"], [1.0, \"#f0f921\"]], \"type\": \"surface\"}], \"table\": [{\"cells\": {\"fill\": {\"color\": \"#EBF0F8\"}, \"line\": {\"color\": \"white\"}}, \"header\": {\"fill\": {\"color\": \"#C8D4E3\"}, \"line\": {\"color\": \"white\"}}, \"type\": \"table\"}]}, \"layout\": {\"annotationdefaults\": {\"arrowcolor\": \"#2a3f5f\", \"arrowhead\": 0, \"arrowwidth\": 1}, \"coloraxis\": {\"colorbar\": {\"outlinewidth\": 0, \"ticks\": \"\"}}, \"colorscale\": {\"diverging\": [[0, \"#8e0152\"], [0.1, \"#c51b7d\"], [0.2, \"#de77ae\"], [0.3, \"#f1b6da\"], [0.4, \"#fde0ef\"], [0.5, \"#f7f7f7\"], [0.6, \"#e6f5d0\"], [0.7, \"#b8e186\"], [0.8, \"#7fbc41\"], [0.9, \"#4d9221\"], [1, \"#276419\"]], \"sequential\": [[0.0, \"#0d0887\"], [0.1111111111111111, \"#46039f\"], [0.2222222222222222, \"#7201a8\"], [0.3333333333333333, \"#9c179e\"], [0.4444444444444444, \"#bd3786\"], [0.5555555555555556, \"#d8576b\"], [0.6666666666666666, \"#ed7953\"], [0.7777777777777778, \"#fb9f3a\"], [0.8888888888888888, \"#fdca26\"], [1.0, \"#f0f921\"]], \"sequentialminus\": [[0.0, \"#0d0887\"], [0.1111111111111111, \"#46039f\"], [0.2222222222222222, \"#7201a8\"], [0.3333333333333333, \"#9c179e\"], [0.4444444444444444, \"#bd3786\"], [0.5555555555555556, \"#d8576b\"], [0.6666666666666666, \"#ed7953\"], [0.7777777777777778, \"#fb9f3a\"], [0.8888888888888888, \"#fdca26\"], [1.0, \"#f0f921\"]]}, \"colorway\": [\"#636efa\", \"#EF553B\", \"#00cc96\", \"#ab63fa\", \"#FFA15A\", \"#19d3f3\", \"#FF6692\", \"#B6E880\", \"#FF97FF\", \"#FECB52\"], \"font\": {\"color\": \"#2a3f5f\"}, \"geo\": {\"bgcolor\": \"white\", \"lakecolor\": \"white\", \"landcolor\": \"#E5ECF6\", \"showlakes\": true, \"showland\": true, \"subunitcolor\": \"white\"}, \"hoverlabel\": {\"align\": \"left\"}, \"hovermode\": \"closest\", \"mapbox\": {\"style\": \"light\"}, \"paper_bgcolor\": \"white\", \"plot_bgcolor\": \"#E5ECF6\", \"polar\": {\"angularaxis\": {\"gridcolor\": \"white\", \"linecolor\": \"white\", \"ticks\": \"\"}, \"bgcolor\": \"#E5ECF6\", \"radialaxis\": {\"gridcolor\": \"white\", \"linecolor\": \"white\", \"ticks\": \"\"}}, \"scene\": {\"xaxis\": {\"backgroundcolor\": \"#E5ECF6\", \"gridcolor\": \"white\", \"gridwidth\": 2, \"linecolor\": \"white\", \"showbackground\": true, \"ticks\": \"\", \"zerolinecolor\": \"white\"}, \"yaxis\": {\"backgroundcolor\": \"#E5ECF6\", \"gridcolor\": \"white\", \"gridwidth\": 2, \"linecolor\": \"white\", \"showbackground\": true, \"ticks\": \"\", \"zerolinecolor\": \"white\"}, \"zaxis\": {\"backgroundcolor\": \"#E5ECF6\", \"gridcolor\": \"white\", \"gridwidth\": 2, \"linecolor\": \"white\", \"showbackground\": true, \"ticks\": \"\", \"zerolinecolor\": \"white\"}}, \"shapedefaults\": {\"line\": {\"color\": \"#2a3f5f\"}}, \"ternary\": {\"aaxis\": {\"gridcolor\": \"white\", \"linecolor\": \"white\", \"ticks\": \"\"}, \"baxis\": {\"gridcolor\": \"white\", \"linecolor\": \"white\", \"ticks\": \"\"}, \"bgcolor\": \"#E5ECF6\", \"caxis\": {\"gridcolor\": \"white\", \"linecolor\": \"white\", \"ticks\": \"\"}}, \"title\": {\"x\": 0.05}, \"xaxis\": {\"automargin\": true, \"gridcolor\": \"white\", \"linecolor\": \"white\", \"ticks\": \"\", \"title\": {\"standoff\": 15}, \"zerolinecolor\": \"white\", \"zerolinewidth\": 2}, \"yaxis\": {\"automargin\": true, \"gridcolor\": \"white\", \"linecolor\": \"white\", \"ticks\": \"\", \"title\": {\"standoff\": 15}, \"zerolinecolor\": \"white\", \"zerolinewidth\": 2}}}, \"uniformtext\": {\"minsize\": 8, \"mode\": \"hide\"}, \"xaxis\": {\"anchor\": \"y\", \"domain\": [0.0, 1.0], \"title\": {\"text\": \"Amenities\"}}, \"yaxis\": {\"anchor\": \"x\", \"domain\": [0.0, 1.0], \"title\": {\"text\": \"Count of listing with amenities\"}}},\n",
       "                        {\"responsive\": true}\n",
       "                    ).then(function(){\n",
       "                            \n",
       "var gd = document.getElementById('61e6574e-e0eb-4fad-9cd2-b739d50cf629');\n",
       "var x = new MutationObserver(function (mutations, observer) {{\n",
       "        var display = window.getComputedStyle(gd).display;\n",
       "        if (!display || display === 'none') {{\n",
       "            console.log([gd, 'removed!']);\n",
       "            Plotly.purge(gd);\n",
       "            observer.disconnect();\n",
       "        }}\n",
       "}});\n",
       "\n",
       "// Listen for the removal of the full notebook cells\n",
       "var notebookContainer = gd.closest('#notebook-container');\n",
       "if (notebookContainer) {{\n",
       "    x.observe(notebookContainer, {childList: true});\n",
       "}}\n",
       "\n",
       "// Listen for the clearing of the current output cell\n",
       "var outputEl = gd.closest('.output');\n",
       "if (outputEl) {{\n",
       "    x.observe(outputEl, {childList: true});\n",
       "}}\n",
       "\n",
       "                        })\n",
       "                };\n",
       "                });\n",
       "            </script>\n",
       "        </div>"
      ]
     },
     "metadata": {},
     "output_type": "display_data"
    }
   ],
   "source": [
    "fig = px.bar( y=test['counts'].head(), x=test['amenities'].head(), text=test['counts'].head(),labels=dict(x=\"Amenities\", y=\"Count of listing with amenities\", color=\"Place\"))\n",
    "fig.update_traces(texttemplate='%{text:.2s}', textposition='outside')\n",
    "fig.update_layout(uniformtext_minsize=8, uniformtext_mode='hide')\n",
    "fig.show()"
   ]
  },
  {
   "cell_type": "markdown",
   "metadata": {},
   "source": [
    "we observed that wifi, kitchen, heating, essentials and smoke alarm are the 5 most common amenities in paris Airbnb Listing."
   ]
  }
 ],
 "metadata": {
  "kernelspec": {
   "display_name": "Python 3",
   "language": "python",
   "name": "python3"
  },
  "language_info": {
   "codemirror_mode": {
    "name": "ipython",
    "version": 3
   },
   "file_extension": ".py",
   "mimetype": "text/x-python",
   "name": "python",
   "nbconvert_exporter": "python",
   "pygments_lexer": "ipython3",
   "version": "3.7.1"
  }
 },
 "nbformat": 4,
 "nbformat_minor": 2
}
