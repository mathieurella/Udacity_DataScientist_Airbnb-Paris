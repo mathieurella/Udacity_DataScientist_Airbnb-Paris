{
 "cells": [
  {
   "cell_type": "markdown",
   "metadata": {},
   "source": [
    "# Airbnb Parisf\n",
    "## by Mathieu Rella"
   ]
  },
  {
   "cell_type": "markdown",
   "metadata": {},
   "source": [
    "# I. Business Understanding"
   ]
  },
  {
   "cell_type": "markdown",
   "metadata": {},
   "source": [
    "We will be exploring Airbnb paris data to try to find answers to some questions like :\n",
    "\n",
    "- Where is it good to rent on airbnb in paris ?\n",
    "- Which season is the more profitable for the host ?\n",
    "- What do really believe the guest of paris listing ?\n",
    "- Can we predict the price of a listing ?"
   ]
  },
  {
   "cell_type": "markdown",
   "metadata": {},
   "source": [
    "# II. Data Understanding"
   ]
  },
  {
   "cell_type": "code",
   "execution_count": 83,
   "metadata": {},
   "outputs": [
    {
     "data": {
      "text/html": [
       "        <script type=\"text/javascript\">\n",
       "        window.PlotlyConfig = {MathJaxConfig: 'local'};\n",
       "        if (window.MathJax) {MathJax.Hub.Config({SVG: {font: \"STIX-Web\"}});}\n",
       "        if (typeof require !== 'undefined') {\n",
       "        require.undef(\"plotly\");\n",
       "        requirejs.config({\n",
       "            paths: {\n",
       "                'plotly': ['https://cdn.plot.ly/plotly-latest.min']\n",
       "            }\n",
       "        });\n",
       "        require(['plotly'], function(Plotly) {\n",
       "            window._Plotly = Plotly;\n",
       "        });\n",
       "        }\n",
       "        </script>\n",
       "        "
      ]
     },
     "metadata": {},
     "output_type": "display_data"
    }
   ],
   "source": [
    "# import all packages and set plots to be embedded inline\n",
    "import numpy as np\n",
    "import pandas as pd\n",
    "import matplotlib.pyplot as plt\n",
    "import seaborn as sb\n",
    "import plotly.express as px\n",
    "import qgrid\n",
    "import plotly.graph_objects as go\n",
    "\n",
    "import plotly\n",
    "plotly.__version__\n",
    "import json\n",
    "from plotly.offline import download_plotlyjs, init_notebook_mode,  iplot\n",
    "init_notebook_mode(connected=True)\n",
    "\n",
    "from sklearn.linear_model import LinearRegression\n",
    "from sklearn.model_selection import train_test_split\n",
    "from sklearn.metrics import r2_score, mean_squared_error\n",
    "# Sklearn ML Modules\n",
    "from sklearn.preprocessing import MultiLabelBinarizer,LabelEncoder,OneHotEncoder,StandardScaler \n",
    "import sklearn.metrics as mtr\n",
    "import math\n",
    "\n",
    "%matplotlib inline\n",
    "\n",
    "# suppress warnings from final output\n",
    "import warnings\n",
    "warnings.simplefilter(\"ignore\")"
   ]
  },
  {
   "cell_type": "code",
   "execution_count": 84,
   "metadata": {},
   "outputs": [],
   "source": [
    "# load all the dataset into a pandas dataframe\n",
    "\n",
    "df_list = pd.read_csv('Data/listings.csv')\n",
    "df_rev = pd.read_csv('Data/Reviews.csv')\n",
    "df_cal = pd.read_csv('Data/calendar.csv')"
   ]
  },
  {
   "cell_type": "markdown",
   "metadata": {},
   "source": [
    "## 1. Listings Dataframe"
   ]
  },
  {
   "cell_type": "code",
   "execution_count": 85,
   "metadata": {},
   "outputs": [
    {
     "data": {
      "text/html": [
       "<div>\n",
       "<style scoped>\n",
       "    .dataframe tbody tr th:only-of-type {\n",
       "        vertical-align: middle;\n",
       "    }\n",
       "\n",
       "    .dataframe tbody tr th {\n",
       "        vertical-align: top;\n",
       "    }\n",
       "\n",
       "    .dataframe thead th {\n",
       "        text-align: right;\n",
       "    }\n",
       "</style>\n",
       "<table border=\"1\" class=\"dataframe\">\n",
       "  <thead>\n",
       "    <tr style=\"text-align: right;\">\n",
       "      <th></th>\n",
       "      <th>id</th>\n",
       "      <th>listing_url</th>\n",
       "      <th>scrape_id</th>\n",
       "      <th>last_scraped</th>\n",
       "      <th>name</th>\n",
       "      <th>description</th>\n",
       "      <th>neighborhood_overview</th>\n",
       "      <th>picture_url</th>\n",
       "      <th>host_id</th>\n",
       "      <th>host_url</th>\n",
       "      <th>...</th>\n",
       "      <th>review_scores_communication</th>\n",
       "      <th>review_scores_location</th>\n",
       "      <th>review_scores_value</th>\n",
       "      <th>license</th>\n",
       "      <th>instant_bookable</th>\n",
       "      <th>calculated_host_listings_count</th>\n",
       "      <th>calculated_host_listings_count_entire_homes</th>\n",
       "      <th>calculated_host_listings_count_private_rooms</th>\n",
       "      <th>calculated_host_listings_count_shared_rooms</th>\n",
       "      <th>reviews_per_month</th>\n",
       "    </tr>\n",
       "  </thead>\n",
       "  <tbody>\n",
       "    <tr>\n",
       "      <th>0</th>\n",
       "      <td>2577</td>\n",
       "      <td>https://www.airbnb.com/rooms/2577</td>\n",
       "      <td>20200911161645</td>\n",
       "      <td>2020-09-13</td>\n",
       "      <td>Loft for 4 by Canal Saint Martin</td>\n",
       "      <td>100 m2 loft (1100 sq feet) with high ceiling, ...</td>\n",
       "      <td>NaN</td>\n",
       "      <td>https://a0.muscache.com/pictures/09da057c-0120...</td>\n",
       "      <td>2827</td>\n",
       "      <td>https://www.airbnb.com/users/show/2827</td>\n",
       "      <td>...</td>\n",
       "      <td>10.0</td>\n",
       "      <td>10.0</td>\n",
       "      <td>10.0</td>\n",
       "      <td>NaN</td>\n",
       "      <td>t</td>\n",
       "      <td>1</td>\n",
       "      <td>1</td>\n",
       "      <td>0</td>\n",
       "      <td>0</td>\n",
       "      <td>0.05</td>\n",
       "    </tr>\n",
       "    <tr>\n",
       "      <th>1</th>\n",
       "      <td>3109</td>\n",
       "      <td>https://www.airbnb.com/rooms/3109</td>\n",
       "      <td>20200911161645</td>\n",
       "      <td>2020-09-13</td>\n",
       "      <td>zen and calm</td>\n",
       "      <td>&lt;b&gt;The space&lt;/b&gt;&lt;br /&gt;I bedroom appartment in ...</td>\n",
       "      <td>Good restaurants&lt;br /&gt;very close the Montparna...</td>\n",
       "      <td>https://a0.muscache.com/pictures/baeae9e2-cd53...</td>\n",
       "      <td>3631</td>\n",
       "      <td>https://www.airbnb.com/users/show/3631</td>\n",
       "      <td>...</td>\n",
       "      <td>10.0</td>\n",
       "      <td>10.0</td>\n",
       "      <td>10.0</td>\n",
       "      <td>NaN</td>\n",
       "      <td>f</td>\n",
       "      <td>1</td>\n",
       "      <td>1</td>\n",
       "      <td>0</td>\n",
       "      <td>0</td>\n",
       "      <td>0.20</td>\n",
       "    </tr>\n",
       "    <tr>\n",
       "      <th>2</th>\n",
       "      <td>4886</td>\n",
       "      <td>https://www.airbnb.com/rooms/4886</td>\n",
       "      <td>20200911161645</td>\n",
       "      <td>2020-09-13</td>\n",
       "      <td>Country-Style Studio Hip Area FREE CRUISE &amp; WIFI</td>\n",
       "      <td>Bright and Cozy Studio Apartment for  2 Guests...</td>\n",
       "      <td>2 Free River Cruise Tix with your booking !  M...</td>\n",
       "      <td>https://a0.muscache.com/pictures/395578/e7f46d...</td>\n",
       "      <td>6792</td>\n",
       "      <td>https://www.airbnb.com/users/show/6792</td>\n",
       "      <td>...</td>\n",
       "      <td>9.0</td>\n",
       "      <td>10.0</td>\n",
       "      <td>9.0</td>\n",
       "      <td>7511101570436</td>\n",
       "      <td>f</td>\n",
       "      <td>8</td>\n",
       "      <td>8</td>\n",
       "      <td>0</td>\n",
       "      <td>0</td>\n",
       "      <td>0.19</td>\n",
       "    </tr>\n",
       "  </tbody>\n",
       "</table>\n",
       "<p>3 rows × 74 columns</p>\n",
       "</div>"
      ],
      "text/plain": [
       "     id                        listing_url       scrape_id last_scraped  \\\n",
       "0  2577  https://www.airbnb.com/rooms/2577  20200911161645   2020-09-13   \n",
       "1  3109  https://www.airbnb.com/rooms/3109  20200911161645   2020-09-13   \n",
       "2  4886  https://www.airbnb.com/rooms/4886  20200911161645   2020-09-13   \n",
       "\n",
       "                                               name  \\\n",
       "0                  Loft for 4 by Canal Saint Martin   \n",
       "1                                      zen and calm   \n",
       "2  Country-Style Studio Hip Area FREE CRUISE & WIFI   \n",
       "\n",
       "                                         description  \\\n",
       "0  100 m2 loft (1100 sq feet) with high ceiling, ...   \n",
       "1  <b>The space</b><br />I bedroom appartment in ...   \n",
       "2  Bright and Cozy Studio Apartment for  2 Guests...   \n",
       "\n",
       "                               neighborhood_overview  \\\n",
       "0                                                NaN   \n",
       "1  Good restaurants<br />very close the Montparna...   \n",
       "2  2 Free River Cruise Tix with your booking !  M...   \n",
       "\n",
       "                                         picture_url  host_id  \\\n",
       "0  https://a0.muscache.com/pictures/09da057c-0120...     2827   \n",
       "1  https://a0.muscache.com/pictures/baeae9e2-cd53...     3631   \n",
       "2  https://a0.muscache.com/pictures/395578/e7f46d...     6792   \n",
       "\n",
       "                                 host_url        ...         \\\n",
       "0  https://www.airbnb.com/users/show/2827        ...          \n",
       "1  https://www.airbnb.com/users/show/3631        ...          \n",
       "2  https://www.airbnb.com/users/show/6792        ...          \n",
       "\n",
       "  review_scores_communication review_scores_location review_scores_value  \\\n",
       "0                        10.0                   10.0                10.0   \n",
       "1                        10.0                   10.0                10.0   \n",
       "2                         9.0                   10.0                 9.0   \n",
       "\n",
       "         license instant_bookable calculated_host_listings_count  \\\n",
       "0            NaN                t                              1   \n",
       "1            NaN                f                              1   \n",
       "2  7511101570436                f                              8   \n",
       "\n",
       "  calculated_host_listings_count_entire_homes  \\\n",
       "0                                           1   \n",
       "1                                           1   \n",
       "2                                           8   \n",
       "\n",
       "  calculated_host_listings_count_private_rooms  \\\n",
       "0                                            0   \n",
       "1                                            0   \n",
       "2                                            0   \n",
       "\n",
       "  calculated_host_listings_count_shared_rooms reviews_per_month  \n",
       "0                                           0              0.05  \n",
       "1                                           0              0.20  \n",
       "2                                           0              0.19  \n",
       "\n",
       "[3 rows x 74 columns]"
      ]
     },
     "execution_count": 85,
     "metadata": {},
     "output_type": "execute_result"
    }
   ],
   "source": [
    "df_list.head(3)"
   ]
  },
  {
   "cell_type": "code",
   "execution_count": 86,
   "metadata": {},
   "outputs": [
    {
     "data": {
      "text/plain": [
       "(67565, 74)"
      ]
     },
     "execution_count": 86,
     "metadata": {},
     "output_type": "execute_result"
    }
   ],
   "source": [
    "df_list.shape"
   ]
  },
  {
   "cell_type": "markdown",
   "metadata": {},
   "source": [
    "The Paris Airbnb listing dataframe is higly populated with 74 columns and 67 565 rows. Those rows seems to correspond to each listing in Paris."
   ]
  },
  {
   "cell_type": "markdown",
   "metadata": {},
   "source": [
    "   ####                  B. Checking Null Value"
   ]
  },
  {
   "cell_type": "code",
   "execution_count": 87,
   "metadata": {},
   "outputs": [
    {
     "data": {
      "text/plain": [
       "{'accommodates',\n",
       " 'amenities',\n",
       " 'availability_30',\n",
       " 'availability_365',\n",
       " 'availability_60',\n",
       " 'availability_90',\n",
       " 'calculated_host_listings_count',\n",
       " 'calculated_host_listings_count_entire_homes',\n",
       " 'calculated_host_listings_count_private_rooms',\n",
       " 'calculated_host_listings_count_shared_rooms',\n",
       " 'calendar_last_scraped',\n",
       " 'has_availability',\n",
       " 'host_id',\n",
       " 'host_url',\n",
       " 'host_verifications',\n",
       " 'id',\n",
       " 'instant_bookable',\n",
       " 'last_scraped',\n",
       " 'latitude',\n",
       " 'listing_url',\n",
       " 'longitude',\n",
       " 'maximum_nights',\n",
       " 'minimum_nights',\n",
       " 'neighbourhood_cleansed',\n",
       " 'number_of_reviews',\n",
       " 'number_of_reviews_l30d',\n",
       " 'number_of_reviews_ltm',\n",
       " 'price',\n",
       " 'property_type',\n",
       " 'room_type',\n",
       " 'scrape_id'}"
      ]
     },
     "execution_count": 87,
     "metadata": {},
     "output_type": "execute_result"
    }
   ],
   "source": [
    "set(df_list.columns[df_list.isnull().mean()==0])"
   ]
  },
  {
   "cell_type": "code",
   "execution_count": 88,
   "metadata": {},
   "outputs": [
    {
     "data": {
      "text/plain": [
       "{'bathrooms', 'calendar_updated', 'neighbourhood_group_cleansed'}"
      ]
     },
     "execution_count": 88,
     "metadata": {},
     "output_type": "execute_result"
    }
   ],
   "source": [
    "set(df_list.columns[df_list.isnull().mean()==1])"
   ]
  },
  {
   "cell_type": "code",
   "execution_count": 89,
   "metadata": {
    "scrolled": true
   },
   "outputs": [
    {
     "data": {
      "text/plain": [
       "id                                                  0\n",
       "listing_url                                         0\n",
       "scrape_id                                           0\n",
       "last_scraped                                        0\n",
       "name                                               64\n",
       "description                                      1374\n",
       "neighborhood_overview                           26467\n",
       "picture_url                                         1\n",
       "host_id                                             0\n",
       "host_url                                            0\n",
       "host_name                                          10\n",
       "host_since                                         10\n",
       "host_location                                     155\n",
       "host_about                                      32494\n",
       "host_response_time                              39784\n",
       "host_response_rate                              39784\n",
       "host_acceptance_rate                            25126\n",
       "host_is_superhost                                  10\n",
       "host_thumbnail_url                                 10\n",
       "host_picture_url                                   10\n",
       "host_neighbourhood                              14304\n",
       "host_listings_count                                10\n",
       "host_total_listings_count                          10\n",
       "host_verifications                                  0\n",
       "host_has_profile_pic                               10\n",
       "host_identity_verified                             10\n",
       "neighbourhood                                   26467\n",
       "neighbourhood_cleansed                              0\n",
       "neighbourhood_group_cleansed                    67565\n",
       "latitude                                            0\n",
       "                                                ...  \n",
       "minimum_maximum_nights                              2\n",
       "maximum_maximum_nights                              2\n",
       "minimum_nights_avg_ntm                              2\n",
       "maximum_nights_avg_ntm                              2\n",
       "calendar_updated                                67565\n",
       "has_availability                                    0\n",
       "availability_30                                     0\n",
       "availability_60                                     0\n",
       "availability_90                                     0\n",
       "availability_365                                    0\n",
       "calendar_last_scraped                               0\n",
       "number_of_reviews                                   0\n",
       "number_of_reviews_ltm                               0\n",
       "number_of_reviews_l30d                              0\n",
       "first_review                                    15323\n",
       "last_review                                     15323\n",
       "review_scores_rating                            16555\n",
       "review_scores_accuracy                          16604\n",
       "review_scores_cleanliness                       16594\n",
       "review_scores_checkin                           16620\n",
       "review_scores_communication                     16599\n",
       "review_scores_location                          16619\n",
       "review_scores_value                             16619\n",
       "license                                         45216\n",
       "instant_bookable                                    0\n",
       "calculated_host_listings_count                      0\n",
       "calculated_host_listings_count_entire_homes         0\n",
       "calculated_host_listings_count_private_rooms        0\n",
       "calculated_host_listings_count_shared_rooms         0\n",
       "reviews_per_month                               15323\n",
       "Length: 74, dtype: int64"
      ]
     },
     "execution_count": 89,
     "metadata": {},
     "output_type": "execute_result"
    }
   ],
   "source": [
    "df_list.isnull().sum()"
   ]
  },
  {
   "cell_type": "code",
   "execution_count": 90,
   "metadata": {
    "scrolled": false
   },
   "outputs": [
    {
     "name": "stdout",
     "output_type": "stream",
     "text": [
      "43\n"
     ]
    }
   ],
   "source": [
    "df_list_null = df_list.isnull().sum()\n",
    "print(df_list_null[df_list_null > 0].count())"
   ]
  },
  {
   "cell_type": "markdown",
   "metadata": {},
   "source": [
    "43 columns on 76 have missing value.\n",
    "3 of them are completely empty and need to be removed"
   ]
  },
  {
   "cell_type": "markdown",
   "metadata": {},
   "source": [
    "## 2. Review Dataframe"
   ]
  },
  {
   "cell_type": "code",
   "execution_count": 111,
   "metadata": {},
   "outputs": [
    {
     "data": {
      "text/html": [
       "<div>\n",
       "<style scoped>\n",
       "    .dataframe tbody tr th:only-of-type {\n",
       "        vertical-align: middle;\n",
       "    }\n",
       "\n",
       "    .dataframe tbody tr th {\n",
       "        vertical-align: top;\n",
       "    }\n",
       "\n",
       "    .dataframe thead th {\n",
       "        text-align: right;\n",
       "    }\n",
       "</style>\n",
       "<table border=\"1\" class=\"dataframe\">\n",
       "  <thead>\n",
       "    <tr style=\"text-align: right;\">\n",
       "      <th></th>\n",
       "      <th>listing_id</th>\n",
       "      <th>id</th>\n",
       "      <th>date</th>\n",
       "      <th>reviewer_id</th>\n",
       "      <th>reviewer_name</th>\n",
       "      <th>comments</th>\n",
       "    </tr>\n",
       "  </thead>\n",
       "  <tbody>\n",
       "    <tr>\n",
       "      <th>0</th>\n",
       "      <td>2577</td>\n",
       "      <td>366217274</td>\n",
       "      <td>2019-01-02</td>\n",
       "      <td>28047930</td>\n",
       "      <td>Kate</td>\n",
       "      <td>Beautiful apartment in a really handy location...</td>\n",
       "    </tr>\n",
       "    <tr>\n",
       "      <th>1</th>\n",
       "      <td>3109</td>\n",
       "      <td>123127969</td>\n",
       "      <td>2016-12-27</td>\n",
       "      <td>12389804</td>\n",
       "      <td>Sophie</td>\n",
       "      <td>The host canceled this reservation the day bef...</td>\n",
       "    </tr>\n",
       "    <tr>\n",
       "      <th>2</th>\n",
       "      <td>3109</td>\n",
       "      <td>123274144</td>\n",
       "      <td>2016-12-28</td>\n",
       "      <td>67553494</td>\n",
       "      <td>Tom'S</td>\n",
       "      <td>The host canceled this reservation 2 days befo...</td>\n",
       "    </tr>\n",
       "  </tbody>\n",
       "</table>\n",
       "</div>"
      ],
      "text/plain": [
       "   listing_id         id        date  reviewer_id reviewer_name  \\\n",
       "0        2577  366217274  2019-01-02     28047930          Kate   \n",
       "1        3109  123127969  2016-12-27     12389804        Sophie   \n",
       "2        3109  123274144  2016-12-28     67553494         Tom'S   \n",
       "\n",
       "                                            comments  \n",
       "0  Beautiful apartment in a really handy location...  \n",
       "1  The host canceled this reservation the day bef...  \n",
       "2  The host canceled this reservation 2 days befo...  "
      ]
     },
     "execution_count": 111,
     "metadata": {},
     "output_type": "execute_result"
    }
   ],
   "source": [
    "df_rev.head(3)"
   ]
  },
  {
   "cell_type": "code",
   "execution_count": 112,
   "metadata": {},
   "outputs": [
    {
     "data": {
      "text/plain": [
       "(1308133, 6)"
      ]
     },
     "execution_count": 112,
     "metadata": {},
     "output_type": "execute_result"
    }
   ],
   "source": [
    "df_rev.shape"
   ]
  },
  {
   "cell_type": "code",
   "execution_count": 113,
   "metadata": {},
   "outputs": [
    {
     "name": "stdout",
     "output_type": "stream",
     "text": [
      "<class 'pandas.core.frame.DataFrame'>\n",
      "RangeIndex: 1308133 entries, 0 to 1308132\n",
      "Data columns (total 6 columns):\n",
      "listing_id       1308133 non-null int64\n",
      "id               1308133 non-null int64\n",
      "date             1308133 non-null object\n",
      "reviewer_id      1308133 non-null int64\n",
      "reviewer_name    1308133 non-null object\n",
      "comments         1307602 non-null object\n",
      "dtypes: int64(3), object(3)\n",
      "memory usage: 59.9+ MB\n"
     ]
    }
   ],
   "source": [
    "df_rev.info()"
   ]
  },
  {
   "cell_type": "markdown",
   "metadata": {},
   "source": [
    "Considering the higly populated Paris Airbnb listing dataframe, it's seems quite normal to see that much review with 1 308 133 rows and 6 columns"
   ]
  },
  {
   "cell_type": "markdown",
   "metadata": {},
   "source": [
    "   ####                  B. Checking Null Value"
   ]
  },
  {
   "cell_type": "code",
   "execution_count": 122,
   "metadata": {},
   "outputs": [
    {
     "data": {
      "text/plain": [
       "{'comments',\n",
       " 'date',\n",
       " 'id',\n",
       " 'listing_id',\n",
       " 'neighbourhood',\n",
       " 'polarity_sentiment',\n",
       " 'reviewer_id',\n",
       " 'reviewer_name',\n",
       " 'textBlob_polarity_analysis'}"
      ]
     },
     "execution_count": 122,
     "metadata": {},
     "output_type": "execute_result"
    }
   ],
   "source": [
    "set(df_rev.columns[df_rev.isnull().mean()==0])"
   ]
  },
  {
   "cell_type": "code",
   "execution_count": 123,
   "metadata": {
    "scrolled": false
   },
   "outputs": [
    {
     "data": {
      "text/plain": [
       "listing_id                    0\n",
       "id                            0\n",
       "date                          0\n",
       "reviewer_id                   0\n",
       "reviewer_name                 0\n",
       "comments                      0\n",
       "polarity_sentiment            0\n",
       "textBlob_polarity_analysis    0\n",
       "neighbourhood                 0\n",
       "dtype: int64"
      ]
     },
     "execution_count": 123,
     "metadata": {},
     "output_type": "execute_result"
    }
   ],
   "source": [
    "df_rev.isnull().sum()"
   ]
  },
  {
   "cell_type": "markdown",
   "metadata": {},
   "source": [
    "The comment features is the only one with missing values : 531\n",
    "Wich does not seem representative according the total number of rows of over 1 million."
   ]
  },
  {
   "cell_type": "markdown",
   "metadata": {},
   "source": [
    "## 3. Calendar Dataframe"
   ]
  },
  {
   "cell_type": "markdown",
   "metadata": {},
   "source": [
    "   ####                  A. Calendar Overview"
   ]
  },
  {
   "cell_type": "code",
   "execution_count": 124,
   "metadata": {},
   "outputs": [
    {
     "data": {
      "text/html": [
       "<div>\n",
       "<style scoped>\n",
       "    .dataframe tbody tr th:only-of-type {\n",
       "        vertical-align: middle;\n",
       "    }\n",
       "\n",
       "    .dataframe tbody tr th {\n",
       "        vertical-align: top;\n",
       "    }\n",
       "\n",
       "    .dataframe thead th {\n",
       "        text-align: right;\n",
       "    }\n",
       "</style>\n",
       "<table border=\"1\" class=\"dataframe\">\n",
       "  <thead>\n",
       "    <tr style=\"text-align: right;\">\n",
       "      <th></th>\n",
       "      <th>listing_id</th>\n",
       "      <th>date</th>\n",
       "      <th>available</th>\n",
       "      <th>price</th>\n",
       "      <th>adjusted_price</th>\n",
       "      <th>minimum_nights</th>\n",
       "      <th>maximum_nights</th>\n",
       "    </tr>\n",
       "  </thead>\n",
       "  <tbody>\n",
       "    <tr>\n",
       "      <th>0</th>\n",
       "      <td>2577</td>\n",
       "      <td>2020-09-13</td>\n",
       "      <td>f</td>\n",
       "      <td>$125.00</td>\n",
       "      <td>$125.00</td>\n",
       "      <td>3.0</td>\n",
       "      <td>1125.0</td>\n",
       "    </tr>\n",
       "    <tr>\n",
       "      <th>1</th>\n",
       "      <td>24260</td>\n",
       "      <td>2020-09-12</td>\n",
       "      <td>f</td>\n",
       "      <td>$76.00</td>\n",
       "      <td>$76.00</td>\n",
       "      <td>10.0</td>\n",
       "      <td>180.0</td>\n",
       "    </tr>\n",
       "    <tr>\n",
       "      <th>2</th>\n",
       "      <td>24260</td>\n",
       "      <td>2020-09-13</td>\n",
       "      <td>f</td>\n",
       "      <td>$76.00</td>\n",
       "      <td>$76.00</td>\n",
       "      <td>10.0</td>\n",
       "      <td>180.0</td>\n",
       "    </tr>\n",
       "  </tbody>\n",
       "</table>\n",
       "</div>"
      ],
      "text/plain": [
       "   listing_id        date available    price adjusted_price  minimum_nights  \\\n",
       "0        2577  2020-09-13         f  $125.00        $125.00             3.0   \n",
       "1       24260  2020-09-12         f   $76.00         $76.00            10.0   \n",
       "2       24260  2020-09-13         f   $76.00         $76.00            10.0   \n",
       "\n",
       "   maximum_nights  \n",
       "0          1125.0  \n",
       "1           180.0  \n",
       "2           180.0  "
      ]
     },
     "execution_count": 124,
     "metadata": {},
     "output_type": "execute_result"
    }
   ],
   "source": [
    "df_cal.head(3)"
   ]
  },
  {
   "cell_type": "code",
   "execution_count": 125,
   "metadata": {},
   "outputs": [
    {
     "data": {
      "text/plain": [
       "(24661709, 7)"
      ]
     },
     "execution_count": 125,
     "metadata": {},
     "output_type": "execute_result"
    }
   ],
   "source": [
    "df_cal.shape"
   ]
  },
  {
   "cell_type": "code",
   "execution_count": 126,
   "metadata": {},
   "outputs": [
    {
     "name": "stdout",
     "output_type": "stream",
     "text": [
      "<class 'pandas.core.frame.DataFrame'>\n",
      "RangeIndex: 24661709 entries, 0 to 24661708\n",
      "Data columns (total 7 columns):\n",
      "listing_id        int64\n",
      "date              object\n",
      "available         object\n",
      "price             object\n",
      "adjusted_price    object\n",
      "minimum_nights    float64\n",
      "maximum_nights    float64\n",
      "dtypes: float64(2), int64(1), object(4)\n",
      "memory usage: 1.3+ GB\n"
     ]
    }
   ],
   "source": [
    "df_cal.info()"
   ]
  },
  {
   "cell_type": "markdown",
   "metadata": {},
   "source": [
    "The calendar Dataframe seems to references all the day each listing is not available"
   ]
  },
  {
   "cell_type": "markdown",
   "metadata": {},
   "source": [
    "   ####                  B. Checking Null Value"
   ]
  },
  {
   "cell_type": "code",
   "execution_count": 127,
   "metadata": {},
   "outputs": [
    {
     "data": {
      "text/plain": [
       "{'adjusted_price', 'available', 'date', 'listing_id', 'price'}"
      ]
     },
     "execution_count": 127,
     "metadata": {},
     "output_type": "execute_result"
    }
   ],
   "source": [
    "set(df_cal.columns[df_cal.isnull().mean()==0])"
   ]
  },
  {
   "cell_type": "code",
   "execution_count": 128,
   "metadata": {
    "scrolled": true
   },
   "outputs": [
    {
     "data": {
      "text/plain": [
       "listing_id           0\n",
       "date                 0\n",
       "available            0\n",
       "price                0\n",
       "adjusted_price       0\n",
       "minimum_nights    1110\n",
       "maximum_nights    1110\n",
       "dtype: int64"
      ]
     },
     "execution_count": 128,
     "metadata": {},
     "output_type": "execute_result"
    }
   ],
   "source": [
    "df_cal.isnull().sum()"
   ]
  },
  {
   "cell_type": "markdown",
   "metadata": {},
   "source": [
    "The minimum_night and maximum_night features appears to have the same number of null values : 1 110.\n",
    "Wich does not seem representative according the total number of rows of over 2 million.\n",
    "It doesn't need data Preparation."
   ]
  },
  {
   "cell_type": "code",
   "execution_count": 132,
   "metadata": {
    "scrolled": true
   },
   "outputs": [
    {
     "data": {
      "text/html": [
       "<div>\n",
       "<style scoped>\n",
       "    .dataframe tbody tr th:only-of-type {\n",
       "        vertical-align: middle;\n",
       "    }\n",
       "\n",
       "    .dataframe tbody tr th {\n",
       "        vertical-align: top;\n",
       "    }\n",
       "\n",
       "    .dataframe thead th {\n",
       "        text-align: right;\n",
       "    }\n",
       "</style>\n",
       "<table border=\"1\" class=\"dataframe\">\n",
       "  <thead>\n",
       "    <tr style=\"text-align: right;\">\n",
       "      <th></th>\n",
       "      <th>listing_id</th>\n",
       "      <th>date</th>\n",
       "      <th>available</th>\n",
       "      <th>price</th>\n",
       "      <th>adjusted_price</th>\n",
       "      <th>minimum_nights</th>\n",
       "      <th>maximum_nights</th>\n",
       "      <th>year</th>\n",
       "      <th>month</th>\n",
       "    </tr>\n",
       "  </thead>\n",
       "  <tbody>\n",
       "    <tr>\n",
       "      <th>0</th>\n",
       "      <td>2577</td>\n",
       "      <td>2020-09-13</td>\n",
       "      <td>False</td>\n",
       "      <td>125</td>\n",
       "      <td>125</td>\n",
       "      <td>3.0</td>\n",
       "      <td>1125.0</td>\n",
       "      <td>2020</td>\n",
       "      <td>9</td>\n",
       "    </tr>\n",
       "    <tr>\n",
       "      <th>1</th>\n",
       "      <td>24260</td>\n",
       "      <td>2020-09-12</td>\n",
       "      <td>False</td>\n",
       "      <td>76</td>\n",
       "      <td>76</td>\n",
       "      <td>10.0</td>\n",
       "      <td>180.0</td>\n",
       "      <td>2020</td>\n",
       "      <td>9</td>\n",
       "    </tr>\n",
       "    <tr>\n",
       "      <th>2</th>\n",
       "      <td>24260</td>\n",
       "      <td>2020-09-13</td>\n",
       "      <td>False</td>\n",
       "      <td>76</td>\n",
       "      <td>76</td>\n",
       "      <td>10.0</td>\n",
       "      <td>180.0</td>\n",
       "      <td>2020</td>\n",
       "      <td>9</td>\n",
       "    </tr>\n",
       "    <tr>\n",
       "      <th>3</th>\n",
       "      <td>24260</td>\n",
       "      <td>2020-09-14</td>\n",
       "      <td>False</td>\n",
       "      <td>76</td>\n",
       "      <td>76</td>\n",
       "      <td>10.0</td>\n",
       "      <td>180.0</td>\n",
       "      <td>2020</td>\n",
       "      <td>9</td>\n",
       "    </tr>\n",
       "    <tr>\n",
       "      <th>4</th>\n",
       "      <td>24260</td>\n",
       "      <td>2020-09-15</td>\n",
       "      <td>False</td>\n",
       "      <td>76</td>\n",
       "      <td>76</td>\n",
       "      <td>10.0</td>\n",
       "      <td>180.0</td>\n",
       "      <td>2020</td>\n",
       "      <td>9</td>\n",
       "    </tr>\n",
       "  </tbody>\n",
       "</table>\n",
       "</div>"
      ],
      "text/plain": [
       "   listing_id       date  available  price  adjusted_price  minimum_nights  \\\n",
       "0        2577 2020-09-13      False    125             125             3.0   \n",
       "1       24260 2020-09-12      False     76              76            10.0   \n",
       "2       24260 2020-09-13      False     76              76            10.0   \n",
       "3       24260 2020-09-14      False     76              76            10.0   \n",
       "4       24260 2020-09-15      False     76              76            10.0   \n",
       "\n",
       "   maximum_nights  year  month  \n",
       "0          1125.0  2020      9  \n",
       "1           180.0  2020      9  \n",
       "2           180.0  2020      9  \n",
       "3           180.0  2020      9  \n",
       "4           180.0  2020      9  "
      ]
     },
     "execution_count": 132,
     "metadata": {},
     "output_type": "execute_result"
    }
   ],
   "source": [
    "df_cal.head()"
   ]
  }
 ],
 "metadata": {
  "kernelspec": {
   "display_name": "Python 3",
   "language": "python",
   "name": "python3"
  },
  "language_info": {
   "codemirror_mode": {
    "name": "ipython",
    "version": 3
   },
   "file_extension": ".py",
   "mimetype": "text/x-python",
   "name": "python",
   "nbconvert_exporter": "python",
   "pygments_lexer": "ipython3",
   "version": "3.7.1"
  }
 },
 "nbformat": 4,
 "nbformat_minor": 2
}
