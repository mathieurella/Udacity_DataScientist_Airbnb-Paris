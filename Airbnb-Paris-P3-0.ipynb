{
 "cells": [
  {
   "cell_type": "markdown",
   "metadata": {},
   "source": [
    "# Airbnb Paris\n",
    "## by Mathieu Rella"
   ]
  },
  {
   "cell_type": "markdown",
   "metadata": {},
   "source": [
    "# I. Business Understanding"
   ]
  },
  {
   "cell_type": "markdown",
   "metadata": {},
   "source": [
    "We will be exploring Airbnb paris data to try to find answers to some questions like :\n",
    "\n",
    "- Where is it good to rent on airbnb in paris ?\n",
    "- Which season is the more profitable for the host ?\n",
    "- What do really believe the guest of paris listing ?\n",
    "- Can we predict the price of a listing ?"
   ]
  },
  {
   "cell_type": "code",
   "execution_count": 152,
   "metadata": {},
   "outputs": [
    {
     "data": {
      "text/html": [
       "        <script type=\"text/javascript\">\n",
       "        window.PlotlyConfig = {MathJaxConfig: 'local'};\n",
       "        if (window.MathJax) {MathJax.Hub.Config({SVG: {font: \"STIX-Web\"}});}\n",
       "        if (typeof require !== 'undefined') {\n",
       "        require.undef(\"plotly\");\n",
       "        requirejs.config({\n",
       "            paths: {\n",
       "                'plotly': ['https://cdn.plot.ly/plotly-latest.min']\n",
       "            }\n",
       "        });\n",
       "        require(['plotly'], function(Plotly) {\n",
       "            window._Plotly = Plotly;\n",
       "        });\n",
       "        }\n",
       "        </script>\n",
       "        "
      ]
     },
     "metadata": {},
     "output_type": "display_data"
    }
   ],
   "source": [
    "# import all packages and set plots to be embedded inline\n",
    "import numpy as np\n",
    "import pandas as pd\n",
    "import matplotlib.pyplot as plt\n",
    "import seaborn as sb\n",
    "import plotly.express as px\n",
    "import qgrid\n",
    "import plotly.graph_objects as go\n",
    "\n",
    "import plotly\n",
    "plotly.__version__\n",
    "import json\n",
    "from plotly.offline import download_plotlyjs, init_notebook_mode,  iplot\n",
    "init_notebook_mode(connected=True)\n",
    "\n",
    "from sklearn.linear_model import LinearRegression\n",
    "from sklearn.model_selection import train_test_split\n",
    "from sklearn.metrics import r2_score, mean_squared_error\n",
    "# Sklearn ML Modules\n",
    "from sklearn.preprocessing import MultiLabelBinarizer,LabelEncoder,OneHotEncoder,StandardScaler \n",
    "import sklearn.metrics as mtr\n",
    "import math\n",
    "\n",
    "%matplotlib inline\n",
    "\n",
    "# suppress warnings from final output\n",
    "import warnings\n",
    "warnings.simplefilter(\"ignore\")"
   ]
  },
  {
   "cell_type": "code",
   "execution_count": 153,
   "metadata": {},
   "outputs": [],
   "source": [
    "# load all the dataset into a pandas dataframe\n",
    "\n",
    "df_list = pd.read_csv('Data/listings.csv')\n",
    "df_rev = pd.read_csv('Data/Reviews.csv')\n",
    "df_cal = pd.read_csv('Data/calendar.csv')"
   ]
  },
  {
   "cell_type": "markdown",
   "metadata": {},
   "source": [
    "#### F. Sentiment analysis\n",
    "\n",
    "For this section i'm going to use Textblob, a Python library for processing textual data such as the comment column of the df_rev."
   ]
  },
  {
   "cell_type": "code",
   "execution_count": 154,
   "metadata": {},
   "outputs": [
    {
     "ename": "HTTPError",
     "evalue": "HTTP Error 429: Too Many Requests",
     "output_type": "error",
     "traceback": [
      "\u001b[0;31m---------------------------------------------------------------------------\u001b[0m",
      "\u001b[0;31mHTTPError\u001b[0m                                 Traceback (most recent call last)",
      "\u001b[0;32m<ipython-input-154-51c0815ec5f7>\u001b[0m in \u001b[0;36m<module>\u001b[0;34m\u001b[0m\n\u001b[1;32m     16\u001b[0m \u001b[0;34m\u001b[0m\u001b[0m\n\u001b[1;32m     17\u001b[0m \u001b[0;34m\u001b[0m\u001b[0m\n\u001b[0;32m---> 18\u001b[0;31m \u001b[0mdf_rev\u001b[0m\u001b[0;34m[\u001b[0m\u001b[0;34m'comments'\u001b[0m\u001b[0;34m]\u001b[0m \u001b[0;34m=\u001b[0m \u001b[0mdf_rev\u001b[0m\u001b[0;34m[\u001b[0m\u001b[0;34m'comments'\u001b[0m\u001b[0;34m]\u001b[0m\u001b[0;34m.\u001b[0m\u001b[0mapply\u001b[0m\u001b[0;34m(\u001b[0m\u001b[0mtranslate_comment\u001b[0m\u001b[0;34m)\u001b[0m\u001b[0;34m\u001b[0m\u001b[0;34m\u001b[0m\u001b[0m\n\u001b[0m\u001b[1;32m     19\u001b[0m \u001b[0;34m\u001b[0m\u001b[0m\n\u001b[1;32m     20\u001b[0m \u001b[0;32mfor\u001b[0m \u001b[0mi\u001b[0m \u001b[0;32min\u001b[0m \u001b[0mrange\u001b[0m\u001b[0;34m(\u001b[0m\u001b[0mlen\u001b[0m\u001b[0;34m(\u001b[0m\u001b[0mdf_rev\u001b[0m\u001b[0;34m[\u001b[0m\u001b[0;34m'comments'\u001b[0m\u001b[0;34m]\u001b[0m\u001b[0;34m)\u001b[0m\u001b[0;34m)\u001b[0m\u001b[0;34m:\u001b[0m\u001b[0;34m\u001b[0m\u001b[0;34m\u001b[0m\u001b[0m\n",
      "\u001b[0;32m~/anaconda3/lib/python3.7/site-packages/pandas/core/series.py\u001b[0m in \u001b[0;36mapply\u001b[0;34m(self, func, convert_dtype, args, **kwds)\u001b[0m\n\u001b[1;32m   3192\u001b[0m             \u001b[0;32melse\u001b[0m\u001b[0;34m:\u001b[0m\u001b[0;34m\u001b[0m\u001b[0;34m\u001b[0m\u001b[0m\n\u001b[1;32m   3193\u001b[0m                 \u001b[0mvalues\u001b[0m \u001b[0;34m=\u001b[0m \u001b[0mself\u001b[0m\u001b[0;34m.\u001b[0m\u001b[0mastype\u001b[0m\u001b[0;34m(\u001b[0m\u001b[0mobject\u001b[0m\u001b[0;34m)\u001b[0m\u001b[0;34m.\u001b[0m\u001b[0mvalues\u001b[0m\u001b[0;34m\u001b[0m\u001b[0;34m\u001b[0m\u001b[0m\n\u001b[0;32m-> 3194\u001b[0;31m                 \u001b[0mmapped\u001b[0m \u001b[0;34m=\u001b[0m \u001b[0mlib\u001b[0m\u001b[0;34m.\u001b[0m\u001b[0mmap_infer\u001b[0m\u001b[0;34m(\u001b[0m\u001b[0mvalues\u001b[0m\u001b[0;34m,\u001b[0m \u001b[0mf\u001b[0m\u001b[0;34m,\u001b[0m \u001b[0mconvert\u001b[0m\u001b[0;34m=\u001b[0m\u001b[0mconvert_dtype\u001b[0m\u001b[0;34m)\u001b[0m\u001b[0;34m\u001b[0m\u001b[0;34m\u001b[0m\u001b[0m\n\u001b[0m\u001b[1;32m   3195\u001b[0m \u001b[0;34m\u001b[0m\u001b[0m\n\u001b[1;32m   3196\u001b[0m         \u001b[0;32mif\u001b[0m \u001b[0mlen\u001b[0m\u001b[0;34m(\u001b[0m\u001b[0mmapped\u001b[0m\u001b[0;34m)\u001b[0m \u001b[0;32mand\u001b[0m \u001b[0misinstance\u001b[0m\u001b[0;34m(\u001b[0m\u001b[0mmapped\u001b[0m\u001b[0;34m[\u001b[0m\u001b[0;36m0\u001b[0m\u001b[0;34m]\u001b[0m\u001b[0;34m,\u001b[0m \u001b[0mSeries\u001b[0m\u001b[0;34m)\u001b[0m\u001b[0;34m:\u001b[0m\u001b[0;34m\u001b[0m\u001b[0;34m\u001b[0m\u001b[0m\n",
      "\u001b[0;32mpandas/_libs/src/inference.pyx\u001b[0m in \u001b[0;36mpandas._libs.lib.map_infer\u001b[0;34m()\u001b[0m\n",
      "\u001b[0;32m<ipython-input-154-51c0815ec5f7>\u001b[0m in \u001b[0;36mtranslate_comment\u001b[0;34m(x)\u001b[0m\n\u001b[1;32m     10\u001b[0m     \u001b[0;32mtry\u001b[0m\u001b[0;34m:\u001b[0m\u001b[0;34m\u001b[0m\u001b[0;34m\u001b[0m\u001b[0m\n\u001b[1;32m     11\u001b[0m         \u001b[0;31m# Try to translate the string version of the comment\u001b[0m\u001b[0;34m\u001b[0m\u001b[0;34m\u001b[0m\u001b[0;34m\u001b[0m\u001b[0m\n\u001b[0;32m---> 12\u001b[0;31m         \u001b[0;32mreturn\u001b[0m \u001b[0mTextBlob\u001b[0m\u001b[0;34m(\u001b[0m\u001b[0mstr\u001b[0m\u001b[0;34m(\u001b[0m\u001b[0mx\u001b[0m\u001b[0;34m)\u001b[0m\u001b[0;34m)\u001b[0m\u001b[0;34m.\u001b[0m\u001b[0mtranslate\u001b[0m\u001b[0;34m(\u001b[0m\u001b[0mto\u001b[0m\u001b[0;34m=\u001b[0m\u001b[0;34m'en'\u001b[0m\u001b[0;34m)\u001b[0m\u001b[0;34m\u001b[0m\u001b[0;34m\u001b[0m\u001b[0m\n\u001b[0m\u001b[1;32m     13\u001b[0m     \u001b[0;32mexcept\u001b[0m \u001b[0mNotTranslated\u001b[0m\u001b[0;34m:\u001b[0m\u001b[0;34m\u001b[0m\u001b[0;34m\u001b[0m\u001b[0m\n\u001b[1;32m     14\u001b[0m         \u001b[0;31m# If the output is the same as the input just return the TextBlob version of the input\u001b[0m\u001b[0;34m\u001b[0m\u001b[0;34m\u001b[0m\u001b[0;34m\u001b[0m\u001b[0m\n",
      "\u001b[0;32m~/anaconda3/lib/python3.7/site-packages/textblob/blob.py\u001b[0m in \u001b[0;36mtranslate\u001b[0;34m(self, from_lang, to)\u001b[0m\n\u001b[1;32m    545\u001b[0m         \"\"\"\n\u001b[1;32m    546\u001b[0m         return self.__class__(self.translator.translate(self.raw,\n\u001b[0;32m--> 547\u001b[0;31m                               from_lang=from_lang, to_lang=to))\n\u001b[0m\u001b[1;32m    548\u001b[0m \u001b[0;34m\u001b[0m\u001b[0m\n\u001b[1;32m    549\u001b[0m     \u001b[0;32mdef\u001b[0m \u001b[0mdetect_language\u001b[0m\u001b[0;34m(\u001b[0m\u001b[0mself\u001b[0m\u001b[0;34m)\u001b[0m\u001b[0;34m:\u001b[0m\u001b[0;34m\u001b[0m\u001b[0;34m\u001b[0m\u001b[0m\n",
      "\u001b[0;32m~/anaconda3/lib/python3.7/site-packages/textblob/translate.py\u001b[0m in \u001b[0;36mtranslate\u001b[0;34m(self, source, from_lang, to_lang, host, type_)\u001b[0m\n\u001b[1;32m     52\u001b[0m             \u001b[0mtk\u001b[0m\u001b[0;34m=\u001b[0m\u001b[0m_calculate_tk\u001b[0m\u001b[0;34m(\u001b[0m\u001b[0msource\u001b[0m\u001b[0;34m)\u001b[0m\u001b[0;34m,\u001b[0m\u001b[0;34m\u001b[0m\u001b[0;34m\u001b[0m\u001b[0m\n\u001b[1;32m     53\u001b[0m         )\n\u001b[0;32m---> 54\u001b[0;31m         \u001b[0mresponse\u001b[0m \u001b[0;34m=\u001b[0m \u001b[0mself\u001b[0m\u001b[0;34m.\u001b[0m\u001b[0m_request\u001b[0m\u001b[0;34m(\u001b[0m\u001b[0murl\u001b[0m\u001b[0;34m,\u001b[0m \u001b[0mhost\u001b[0m\u001b[0;34m=\u001b[0m\u001b[0mhost\u001b[0m\u001b[0;34m,\u001b[0m \u001b[0mtype_\u001b[0m\u001b[0;34m=\u001b[0m\u001b[0mtype_\u001b[0m\u001b[0;34m,\u001b[0m \u001b[0mdata\u001b[0m\u001b[0;34m=\u001b[0m\u001b[0mdata\u001b[0m\u001b[0;34m)\u001b[0m\u001b[0;34m\u001b[0m\u001b[0;34m\u001b[0m\u001b[0m\n\u001b[0m\u001b[1;32m     55\u001b[0m         \u001b[0mresult\u001b[0m \u001b[0;34m=\u001b[0m \u001b[0mjson\u001b[0m\u001b[0;34m.\u001b[0m\u001b[0mloads\u001b[0m\u001b[0;34m(\u001b[0m\u001b[0mresponse\u001b[0m\u001b[0;34m)\u001b[0m\u001b[0;34m\u001b[0m\u001b[0;34m\u001b[0m\u001b[0m\n\u001b[1;32m     56\u001b[0m         \u001b[0;32mif\u001b[0m \u001b[0misinstance\u001b[0m\u001b[0;34m(\u001b[0m\u001b[0mresult\u001b[0m\u001b[0;34m,\u001b[0m \u001b[0mlist\u001b[0m\u001b[0;34m)\u001b[0m\u001b[0;34m:\u001b[0m\u001b[0;34m\u001b[0m\u001b[0;34m\u001b[0m\u001b[0m\n",
      "\u001b[0;32m~/anaconda3/lib/python3.7/site-packages/textblob/translate.py\u001b[0m in \u001b[0;36m_request\u001b[0;34m(self, url, host, type_, data)\u001b[0m\n\u001b[1;32m     90\u001b[0m         \u001b[0;32mif\u001b[0m \u001b[0mhost\u001b[0m \u001b[0;32mor\u001b[0m \u001b[0mtype_\u001b[0m\u001b[0;34m:\u001b[0m\u001b[0;34m\u001b[0m\u001b[0;34m\u001b[0m\u001b[0m\n\u001b[1;32m     91\u001b[0m             \u001b[0mreq\u001b[0m\u001b[0;34m.\u001b[0m\u001b[0mset_proxy\u001b[0m\u001b[0;34m(\u001b[0m\u001b[0mhost\u001b[0m\u001b[0;34m=\u001b[0m\u001b[0mhost\u001b[0m\u001b[0;34m,\u001b[0m \u001b[0mtype\u001b[0m\u001b[0;34m=\u001b[0m\u001b[0mtype_\u001b[0m\u001b[0;34m)\u001b[0m\u001b[0;34m\u001b[0m\u001b[0;34m\u001b[0m\u001b[0m\n\u001b[0;32m---> 92\u001b[0;31m         \u001b[0mresp\u001b[0m \u001b[0;34m=\u001b[0m \u001b[0mrequest\u001b[0m\u001b[0;34m.\u001b[0m\u001b[0murlopen\u001b[0m\u001b[0;34m(\u001b[0m\u001b[0mreq\u001b[0m\u001b[0;34m)\u001b[0m\u001b[0;34m\u001b[0m\u001b[0;34m\u001b[0m\u001b[0m\n\u001b[0m\u001b[1;32m     93\u001b[0m         \u001b[0mcontent\u001b[0m \u001b[0;34m=\u001b[0m \u001b[0mresp\u001b[0m\u001b[0;34m.\u001b[0m\u001b[0mread\u001b[0m\u001b[0;34m(\u001b[0m\u001b[0;34m)\u001b[0m\u001b[0;34m\u001b[0m\u001b[0;34m\u001b[0m\u001b[0m\n\u001b[1;32m     94\u001b[0m         \u001b[0;32mreturn\u001b[0m \u001b[0mcontent\u001b[0m\u001b[0;34m.\u001b[0m\u001b[0mdecode\u001b[0m\u001b[0;34m(\u001b[0m\u001b[0;34m'utf-8'\u001b[0m\u001b[0;34m)\u001b[0m\u001b[0;34m\u001b[0m\u001b[0;34m\u001b[0m\u001b[0m\n",
      "\u001b[0;32m~/anaconda3/lib/python3.7/urllib/request.py\u001b[0m in \u001b[0;36murlopen\u001b[0;34m(url, data, timeout, cafile, capath, cadefault, context)\u001b[0m\n\u001b[1;32m    220\u001b[0m     \u001b[0;32melse\u001b[0m\u001b[0;34m:\u001b[0m\u001b[0;34m\u001b[0m\u001b[0;34m\u001b[0m\u001b[0m\n\u001b[1;32m    221\u001b[0m         \u001b[0mopener\u001b[0m \u001b[0;34m=\u001b[0m \u001b[0m_opener\u001b[0m\u001b[0;34m\u001b[0m\u001b[0;34m\u001b[0m\u001b[0m\n\u001b[0;32m--> 222\u001b[0;31m     \u001b[0;32mreturn\u001b[0m \u001b[0mopener\u001b[0m\u001b[0;34m.\u001b[0m\u001b[0mopen\u001b[0m\u001b[0;34m(\u001b[0m\u001b[0murl\u001b[0m\u001b[0;34m,\u001b[0m \u001b[0mdata\u001b[0m\u001b[0;34m,\u001b[0m \u001b[0mtimeout\u001b[0m\u001b[0;34m)\u001b[0m\u001b[0;34m\u001b[0m\u001b[0;34m\u001b[0m\u001b[0m\n\u001b[0m\u001b[1;32m    223\u001b[0m \u001b[0;34m\u001b[0m\u001b[0m\n\u001b[1;32m    224\u001b[0m \u001b[0;32mdef\u001b[0m \u001b[0minstall_opener\u001b[0m\u001b[0;34m(\u001b[0m\u001b[0mopener\u001b[0m\u001b[0;34m)\u001b[0m\u001b[0;34m:\u001b[0m\u001b[0;34m\u001b[0m\u001b[0;34m\u001b[0m\u001b[0m\n",
      "\u001b[0;32m~/anaconda3/lib/python3.7/urllib/request.py\u001b[0m in \u001b[0;36mopen\u001b[0;34m(self, fullurl, data, timeout)\u001b[0m\n\u001b[1;32m    529\u001b[0m         \u001b[0;32mfor\u001b[0m \u001b[0mprocessor\u001b[0m \u001b[0;32min\u001b[0m \u001b[0mself\u001b[0m\u001b[0;34m.\u001b[0m\u001b[0mprocess_response\u001b[0m\u001b[0;34m.\u001b[0m\u001b[0mget\u001b[0m\u001b[0;34m(\u001b[0m\u001b[0mprotocol\u001b[0m\u001b[0;34m,\u001b[0m \u001b[0;34m[\u001b[0m\u001b[0;34m]\u001b[0m\u001b[0;34m)\u001b[0m\u001b[0;34m:\u001b[0m\u001b[0;34m\u001b[0m\u001b[0;34m\u001b[0m\u001b[0m\n\u001b[1;32m    530\u001b[0m             \u001b[0mmeth\u001b[0m \u001b[0;34m=\u001b[0m \u001b[0mgetattr\u001b[0m\u001b[0;34m(\u001b[0m\u001b[0mprocessor\u001b[0m\u001b[0;34m,\u001b[0m \u001b[0mmeth_name\u001b[0m\u001b[0;34m)\u001b[0m\u001b[0;34m\u001b[0m\u001b[0;34m\u001b[0m\u001b[0m\n\u001b[0;32m--> 531\u001b[0;31m             \u001b[0mresponse\u001b[0m \u001b[0;34m=\u001b[0m \u001b[0mmeth\u001b[0m\u001b[0;34m(\u001b[0m\u001b[0mreq\u001b[0m\u001b[0;34m,\u001b[0m \u001b[0mresponse\u001b[0m\u001b[0;34m)\u001b[0m\u001b[0;34m\u001b[0m\u001b[0;34m\u001b[0m\u001b[0m\n\u001b[0m\u001b[1;32m    532\u001b[0m \u001b[0;34m\u001b[0m\u001b[0m\n\u001b[1;32m    533\u001b[0m         \u001b[0;32mreturn\u001b[0m \u001b[0mresponse\u001b[0m\u001b[0;34m\u001b[0m\u001b[0;34m\u001b[0m\u001b[0m\n",
      "\u001b[0;32m~/anaconda3/lib/python3.7/urllib/request.py\u001b[0m in \u001b[0;36mhttp_response\u001b[0;34m(self, request, response)\u001b[0m\n\u001b[1;32m    639\u001b[0m         \u001b[0;32mif\u001b[0m \u001b[0;32mnot\u001b[0m \u001b[0;34m(\u001b[0m\u001b[0;36m200\u001b[0m \u001b[0;34m<=\u001b[0m \u001b[0mcode\u001b[0m \u001b[0;34m<\u001b[0m \u001b[0;36m300\u001b[0m\u001b[0;34m)\u001b[0m\u001b[0;34m:\u001b[0m\u001b[0;34m\u001b[0m\u001b[0;34m\u001b[0m\u001b[0m\n\u001b[1;32m    640\u001b[0m             response = self.parent.error(\n\u001b[0;32m--> 641\u001b[0;31m                 'http', request, response, code, msg, hdrs)\n\u001b[0m\u001b[1;32m    642\u001b[0m \u001b[0;34m\u001b[0m\u001b[0m\n\u001b[1;32m    643\u001b[0m         \u001b[0;32mreturn\u001b[0m \u001b[0mresponse\u001b[0m\u001b[0;34m\u001b[0m\u001b[0;34m\u001b[0m\u001b[0m\n",
      "\u001b[0;32m~/anaconda3/lib/python3.7/urllib/request.py\u001b[0m in \u001b[0;36merror\u001b[0;34m(self, proto, *args)\u001b[0m\n\u001b[1;32m    561\u001b[0m             \u001b[0mhttp_err\u001b[0m \u001b[0;34m=\u001b[0m \u001b[0;36m0\u001b[0m\u001b[0;34m\u001b[0m\u001b[0;34m\u001b[0m\u001b[0m\n\u001b[1;32m    562\u001b[0m         \u001b[0margs\u001b[0m \u001b[0;34m=\u001b[0m \u001b[0;34m(\u001b[0m\u001b[0mdict\u001b[0m\u001b[0;34m,\u001b[0m \u001b[0mproto\u001b[0m\u001b[0;34m,\u001b[0m \u001b[0mmeth_name\u001b[0m\u001b[0;34m)\u001b[0m \u001b[0;34m+\u001b[0m \u001b[0margs\u001b[0m\u001b[0;34m\u001b[0m\u001b[0;34m\u001b[0m\u001b[0m\n\u001b[0;32m--> 563\u001b[0;31m         \u001b[0mresult\u001b[0m \u001b[0;34m=\u001b[0m \u001b[0mself\u001b[0m\u001b[0;34m.\u001b[0m\u001b[0m_call_chain\u001b[0m\u001b[0;34m(\u001b[0m\u001b[0;34m*\u001b[0m\u001b[0margs\u001b[0m\u001b[0;34m)\u001b[0m\u001b[0;34m\u001b[0m\u001b[0;34m\u001b[0m\u001b[0m\n\u001b[0m\u001b[1;32m    564\u001b[0m         \u001b[0;32mif\u001b[0m \u001b[0mresult\u001b[0m\u001b[0;34m:\u001b[0m\u001b[0;34m\u001b[0m\u001b[0;34m\u001b[0m\u001b[0m\n\u001b[1;32m    565\u001b[0m             \u001b[0;32mreturn\u001b[0m \u001b[0mresult\u001b[0m\u001b[0;34m\u001b[0m\u001b[0;34m\u001b[0m\u001b[0m\n",
      "\u001b[0;32m~/anaconda3/lib/python3.7/urllib/request.py\u001b[0m in \u001b[0;36m_call_chain\u001b[0;34m(self, chain, kind, meth_name, *args)\u001b[0m\n\u001b[1;32m    501\u001b[0m         \u001b[0;32mfor\u001b[0m \u001b[0mhandler\u001b[0m \u001b[0;32min\u001b[0m \u001b[0mhandlers\u001b[0m\u001b[0;34m:\u001b[0m\u001b[0;34m\u001b[0m\u001b[0;34m\u001b[0m\u001b[0m\n\u001b[1;32m    502\u001b[0m             \u001b[0mfunc\u001b[0m \u001b[0;34m=\u001b[0m \u001b[0mgetattr\u001b[0m\u001b[0;34m(\u001b[0m\u001b[0mhandler\u001b[0m\u001b[0;34m,\u001b[0m \u001b[0mmeth_name\u001b[0m\u001b[0;34m)\u001b[0m\u001b[0;34m\u001b[0m\u001b[0;34m\u001b[0m\u001b[0m\n\u001b[0;32m--> 503\u001b[0;31m             \u001b[0mresult\u001b[0m \u001b[0;34m=\u001b[0m \u001b[0mfunc\u001b[0m\u001b[0;34m(\u001b[0m\u001b[0;34m*\u001b[0m\u001b[0margs\u001b[0m\u001b[0;34m)\u001b[0m\u001b[0;34m\u001b[0m\u001b[0;34m\u001b[0m\u001b[0m\n\u001b[0m\u001b[1;32m    504\u001b[0m             \u001b[0;32mif\u001b[0m \u001b[0mresult\u001b[0m \u001b[0;32mis\u001b[0m \u001b[0;32mnot\u001b[0m \u001b[0;32mNone\u001b[0m\u001b[0;34m:\u001b[0m\u001b[0;34m\u001b[0m\u001b[0;34m\u001b[0m\u001b[0m\n\u001b[1;32m    505\u001b[0m                 \u001b[0;32mreturn\u001b[0m \u001b[0mresult\u001b[0m\u001b[0;34m\u001b[0m\u001b[0;34m\u001b[0m\u001b[0m\n",
      "\u001b[0;32m~/anaconda3/lib/python3.7/urllib/request.py\u001b[0m in \u001b[0;36mhttp_error_302\u001b[0;34m(self, req, fp, code, msg, headers)\u001b[0m\n\u001b[1;32m    753\u001b[0m         \u001b[0mfp\u001b[0m\u001b[0;34m.\u001b[0m\u001b[0mclose\u001b[0m\u001b[0;34m(\u001b[0m\u001b[0;34m)\u001b[0m\u001b[0;34m\u001b[0m\u001b[0;34m\u001b[0m\u001b[0m\n\u001b[1;32m    754\u001b[0m \u001b[0;34m\u001b[0m\u001b[0m\n\u001b[0;32m--> 755\u001b[0;31m         \u001b[0;32mreturn\u001b[0m \u001b[0mself\u001b[0m\u001b[0;34m.\u001b[0m\u001b[0mparent\u001b[0m\u001b[0;34m.\u001b[0m\u001b[0mopen\u001b[0m\u001b[0;34m(\u001b[0m\u001b[0mnew\u001b[0m\u001b[0;34m,\u001b[0m \u001b[0mtimeout\u001b[0m\u001b[0;34m=\u001b[0m\u001b[0mreq\u001b[0m\u001b[0;34m.\u001b[0m\u001b[0mtimeout\u001b[0m\u001b[0;34m)\u001b[0m\u001b[0;34m\u001b[0m\u001b[0;34m\u001b[0m\u001b[0m\n\u001b[0m\u001b[1;32m    756\u001b[0m \u001b[0;34m\u001b[0m\u001b[0m\n\u001b[1;32m    757\u001b[0m     \u001b[0mhttp_error_301\u001b[0m \u001b[0;34m=\u001b[0m \u001b[0mhttp_error_303\u001b[0m \u001b[0;34m=\u001b[0m \u001b[0mhttp_error_307\u001b[0m \u001b[0;34m=\u001b[0m \u001b[0mhttp_error_302\u001b[0m\u001b[0;34m\u001b[0m\u001b[0;34m\u001b[0m\u001b[0m\n",
      "\u001b[0;32m~/anaconda3/lib/python3.7/urllib/request.py\u001b[0m in \u001b[0;36mopen\u001b[0;34m(self, fullurl, data, timeout)\u001b[0m\n\u001b[1;32m    529\u001b[0m         \u001b[0;32mfor\u001b[0m \u001b[0mprocessor\u001b[0m \u001b[0;32min\u001b[0m \u001b[0mself\u001b[0m\u001b[0;34m.\u001b[0m\u001b[0mprocess_response\u001b[0m\u001b[0;34m.\u001b[0m\u001b[0mget\u001b[0m\u001b[0;34m(\u001b[0m\u001b[0mprotocol\u001b[0m\u001b[0;34m,\u001b[0m \u001b[0;34m[\u001b[0m\u001b[0;34m]\u001b[0m\u001b[0;34m)\u001b[0m\u001b[0;34m:\u001b[0m\u001b[0;34m\u001b[0m\u001b[0;34m\u001b[0m\u001b[0m\n\u001b[1;32m    530\u001b[0m             \u001b[0mmeth\u001b[0m \u001b[0;34m=\u001b[0m \u001b[0mgetattr\u001b[0m\u001b[0;34m(\u001b[0m\u001b[0mprocessor\u001b[0m\u001b[0;34m,\u001b[0m \u001b[0mmeth_name\u001b[0m\u001b[0;34m)\u001b[0m\u001b[0;34m\u001b[0m\u001b[0;34m\u001b[0m\u001b[0m\n\u001b[0;32m--> 531\u001b[0;31m             \u001b[0mresponse\u001b[0m \u001b[0;34m=\u001b[0m \u001b[0mmeth\u001b[0m\u001b[0;34m(\u001b[0m\u001b[0mreq\u001b[0m\u001b[0;34m,\u001b[0m \u001b[0mresponse\u001b[0m\u001b[0;34m)\u001b[0m\u001b[0;34m\u001b[0m\u001b[0;34m\u001b[0m\u001b[0m\n\u001b[0m\u001b[1;32m    532\u001b[0m \u001b[0;34m\u001b[0m\u001b[0m\n\u001b[1;32m    533\u001b[0m         \u001b[0;32mreturn\u001b[0m \u001b[0mresponse\u001b[0m\u001b[0;34m\u001b[0m\u001b[0;34m\u001b[0m\u001b[0m\n",
      "\u001b[0;32m~/anaconda3/lib/python3.7/urllib/request.py\u001b[0m in \u001b[0;36mhttp_response\u001b[0;34m(self, request, response)\u001b[0m\n\u001b[1;32m    639\u001b[0m         \u001b[0;32mif\u001b[0m \u001b[0;32mnot\u001b[0m \u001b[0;34m(\u001b[0m\u001b[0;36m200\u001b[0m \u001b[0;34m<=\u001b[0m \u001b[0mcode\u001b[0m \u001b[0;34m<\u001b[0m \u001b[0;36m300\u001b[0m\u001b[0;34m)\u001b[0m\u001b[0;34m:\u001b[0m\u001b[0;34m\u001b[0m\u001b[0;34m\u001b[0m\u001b[0m\n\u001b[1;32m    640\u001b[0m             response = self.parent.error(\n\u001b[0;32m--> 641\u001b[0;31m                 'http', request, response, code, msg, hdrs)\n\u001b[0m\u001b[1;32m    642\u001b[0m \u001b[0;34m\u001b[0m\u001b[0m\n\u001b[1;32m    643\u001b[0m         \u001b[0;32mreturn\u001b[0m \u001b[0mresponse\u001b[0m\u001b[0;34m\u001b[0m\u001b[0;34m\u001b[0m\u001b[0m\n",
      "\u001b[0;32m~/anaconda3/lib/python3.7/urllib/request.py\u001b[0m in \u001b[0;36merror\u001b[0;34m(self, proto, *args)\u001b[0m\n\u001b[1;32m    567\u001b[0m         \u001b[0;32mif\u001b[0m \u001b[0mhttp_err\u001b[0m\u001b[0;34m:\u001b[0m\u001b[0;34m\u001b[0m\u001b[0;34m\u001b[0m\u001b[0m\n\u001b[1;32m    568\u001b[0m             \u001b[0margs\u001b[0m \u001b[0;34m=\u001b[0m \u001b[0;34m(\u001b[0m\u001b[0mdict\u001b[0m\u001b[0;34m,\u001b[0m \u001b[0;34m'default'\u001b[0m\u001b[0;34m,\u001b[0m \u001b[0;34m'http_error_default'\u001b[0m\u001b[0;34m)\u001b[0m \u001b[0;34m+\u001b[0m \u001b[0morig_args\u001b[0m\u001b[0;34m\u001b[0m\u001b[0;34m\u001b[0m\u001b[0m\n\u001b[0;32m--> 569\u001b[0;31m             \u001b[0;32mreturn\u001b[0m \u001b[0mself\u001b[0m\u001b[0;34m.\u001b[0m\u001b[0m_call_chain\u001b[0m\u001b[0;34m(\u001b[0m\u001b[0;34m*\u001b[0m\u001b[0margs\u001b[0m\u001b[0;34m)\u001b[0m\u001b[0;34m\u001b[0m\u001b[0;34m\u001b[0m\u001b[0m\n\u001b[0m\u001b[1;32m    570\u001b[0m \u001b[0;34m\u001b[0m\u001b[0m\n\u001b[1;32m    571\u001b[0m \u001b[0;31m# XXX probably also want an abstract factory that knows when it makes\u001b[0m\u001b[0;34m\u001b[0m\u001b[0;34m\u001b[0m\u001b[0;34m\u001b[0m\u001b[0m\n",
      "\u001b[0;32m~/anaconda3/lib/python3.7/urllib/request.py\u001b[0m in \u001b[0;36m_call_chain\u001b[0;34m(self, chain, kind, meth_name, *args)\u001b[0m\n\u001b[1;32m    501\u001b[0m         \u001b[0;32mfor\u001b[0m \u001b[0mhandler\u001b[0m \u001b[0;32min\u001b[0m \u001b[0mhandlers\u001b[0m\u001b[0;34m:\u001b[0m\u001b[0;34m\u001b[0m\u001b[0;34m\u001b[0m\u001b[0m\n\u001b[1;32m    502\u001b[0m             \u001b[0mfunc\u001b[0m \u001b[0;34m=\u001b[0m \u001b[0mgetattr\u001b[0m\u001b[0;34m(\u001b[0m\u001b[0mhandler\u001b[0m\u001b[0;34m,\u001b[0m \u001b[0mmeth_name\u001b[0m\u001b[0;34m)\u001b[0m\u001b[0;34m\u001b[0m\u001b[0;34m\u001b[0m\u001b[0m\n\u001b[0;32m--> 503\u001b[0;31m             \u001b[0mresult\u001b[0m \u001b[0;34m=\u001b[0m \u001b[0mfunc\u001b[0m\u001b[0;34m(\u001b[0m\u001b[0;34m*\u001b[0m\u001b[0margs\u001b[0m\u001b[0;34m)\u001b[0m\u001b[0;34m\u001b[0m\u001b[0;34m\u001b[0m\u001b[0m\n\u001b[0m\u001b[1;32m    504\u001b[0m             \u001b[0;32mif\u001b[0m \u001b[0mresult\u001b[0m \u001b[0;32mis\u001b[0m \u001b[0;32mnot\u001b[0m \u001b[0;32mNone\u001b[0m\u001b[0;34m:\u001b[0m\u001b[0;34m\u001b[0m\u001b[0;34m\u001b[0m\u001b[0m\n\u001b[1;32m    505\u001b[0m                 \u001b[0;32mreturn\u001b[0m \u001b[0mresult\u001b[0m\u001b[0;34m\u001b[0m\u001b[0;34m\u001b[0m\u001b[0m\n",
      "\u001b[0;32m~/anaconda3/lib/python3.7/urllib/request.py\u001b[0m in \u001b[0;36mhttp_error_default\u001b[0;34m(self, req, fp, code, msg, hdrs)\u001b[0m\n\u001b[1;32m    647\u001b[0m \u001b[0;32mclass\u001b[0m \u001b[0mHTTPDefaultErrorHandler\u001b[0m\u001b[0;34m(\u001b[0m\u001b[0mBaseHandler\u001b[0m\u001b[0;34m)\u001b[0m\u001b[0;34m:\u001b[0m\u001b[0;34m\u001b[0m\u001b[0;34m\u001b[0m\u001b[0m\n\u001b[1;32m    648\u001b[0m     \u001b[0;32mdef\u001b[0m \u001b[0mhttp_error_default\u001b[0m\u001b[0;34m(\u001b[0m\u001b[0mself\u001b[0m\u001b[0;34m,\u001b[0m \u001b[0mreq\u001b[0m\u001b[0;34m,\u001b[0m \u001b[0mfp\u001b[0m\u001b[0;34m,\u001b[0m \u001b[0mcode\u001b[0m\u001b[0;34m,\u001b[0m \u001b[0mmsg\u001b[0m\u001b[0;34m,\u001b[0m \u001b[0mhdrs\u001b[0m\u001b[0;34m)\u001b[0m\u001b[0;34m:\u001b[0m\u001b[0;34m\u001b[0m\u001b[0;34m\u001b[0m\u001b[0m\n\u001b[0;32m--> 649\u001b[0;31m         \u001b[0;32mraise\u001b[0m \u001b[0mHTTPError\u001b[0m\u001b[0;34m(\u001b[0m\u001b[0mreq\u001b[0m\u001b[0;34m.\u001b[0m\u001b[0mfull_url\u001b[0m\u001b[0;34m,\u001b[0m \u001b[0mcode\u001b[0m\u001b[0;34m,\u001b[0m \u001b[0mmsg\u001b[0m\u001b[0;34m,\u001b[0m \u001b[0mhdrs\u001b[0m\u001b[0;34m,\u001b[0m \u001b[0mfp\u001b[0m\u001b[0;34m)\u001b[0m\u001b[0;34m\u001b[0m\u001b[0;34m\u001b[0m\u001b[0m\n\u001b[0m\u001b[1;32m    650\u001b[0m \u001b[0;34m\u001b[0m\u001b[0m\n\u001b[1;32m    651\u001b[0m \u001b[0;32mclass\u001b[0m \u001b[0mHTTPRedirectHandler\u001b[0m\u001b[0;34m(\u001b[0m\u001b[0mBaseHandler\u001b[0m\u001b[0;34m)\u001b[0m\u001b[0;34m:\u001b[0m\u001b[0;34m\u001b[0m\u001b[0;34m\u001b[0m\u001b[0m\n",
      "\u001b[0;31mHTTPError\u001b[0m: HTTP Error 429: Too Many Requests"
     ]
    }
   ],
   "source": [
    "# Transform the types of the comments columns\n",
    "df_rev['comments'] = df_rev['comments'].astype('str')\n",
    "from textblob import TextBlob\n",
    "from googletrans import Translator\n",
    "translator = Translator()\n",
    "from textblob.exceptions import NotTranslated\n",
    "from time import sleep\n",
    "\n",
    "def translate_comment(x):\n",
    "    try:\n",
    "        # Try to translate the string version of the comment\n",
    "        return TextBlob(str(x)).translate(to='en')\n",
    "    except NotTranslated:\n",
    "        # If the output is the same as the input just return the TextBlob version of the input\n",
    "        return TextBlob(str(x))\n",
    "\n",
    "\n",
    "df_rev['comments'] = df_rev['comments'].apply(translate_comment)\n",
    "\n",
    "for i in range(len(df_rev['comments'])):\n",
    "    # Translate one comment at a time\n",
    "    df_rev['comments'].iloc[i] = translate_comment(df_rev['comments'].iloc[i])\n",
    "\n",
    "# Sleep for a quarter of second\n",
    "    sleep(1)"
   ]
  },
  {
   "cell_type": "code",
   "execution_count": 155,
   "metadata": {},
   "outputs": [],
   "source": [
    "# Text analysis using textblob \n",
    "\n",
    "def sentiment_polarity_calc(text):\n",
    "    try:\n",
    "        return TextBlob(text).sentiment.polarity\n",
    "    except:\n",
    "        return None\n",
    "\n",
    "df_rev['polarity_sentiment'] = df_rev['comments'].apply(sentiment_polarity_calc)"
   ]
  },
  {
   "cell_type": "markdown",
   "metadata": {},
   "source": [
    "From this sentiment analysis, textblob rated between[-1:1] all the comment\n",
    "    - Rated -1 to 0 it's considered as a negative comments\n",
    "    - 0 means it's a neutral comment or did not achieve to rate it\n",
    "    - 0 to 1 the comment is considered as positive\n",
    "let's check if textblob made is job well."
   ]
  },
  {
   "cell_type": "code",
   "execution_count": 156,
   "metadata": {},
   "outputs": [
    {
     "data": {
      "text/html": [
       "<div>\n",
       "<style scoped>\n",
       "    .dataframe tbody tr th:only-of-type {\n",
       "        vertical-align: middle;\n",
       "    }\n",
       "\n",
       "    .dataframe tbody tr th {\n",
       "        vertical-align: top;\n",
       "    }\n",
       "\n",
       "    .dataframe thead th {\n",
       "        text-align: right;\n",
       "    }\n",
       "</style>\n",
       "<table border=\"1\" class=\"dataframe\">\n",
       "  <thead>\n",
       "    <tr style=\"text-align: right;\">\n",
       "      <th></th>\n",
       "      <th>listing_id</th>\n",
       "      <th>id</th>\n",
       "      <th>date</th>\n",
       "      <th>reviewer_id</th>\n",
       "      <th>reviewer_name</th>\n",
       "      <th>comments</th>\n",
       "      <th>polarity_sentiment</th>\n",
       "    </tr>\n",
       "  </thead>\n",
       "  <tbody>\n",
       "    <tr>\n",
       "      <th>748187</th>\n",
       "      <td>16011380</td>\n",
       "      <td>206787232</td>\n",
       "      <td>2017-10-27</td>\n",
       "      <td>6269557</td>\n",
       "      <td>Romain</td>\n",
       "      <td>Perfect</td>\n",
       "      <td>1.0</td>\n",
       "    </tr>\n",
       "    <tr>\n",
       "      <th>1069595</th>\n",
       "      <td>27004700</td>\n",
       "      <td>647616281</td>\n",
       "      <td>2020-08-07</td>\n",
       "      <td>159003555</td>\n",
       "      <td>Annemieke</td>\n",
       "      <td>Very happy about the service and the hotel!</td>\n",
       "      <td>1.0</td>\n",
       "    </tr>\n",
       "    <tr>\n",
       "      <th>419464</th>\n",
       "      <td>6332449</td>\n",
       "      <td>142762670</td>\n",
       "      <td>2017-04-09</td>\n",
       "      <td>56683279</td>\n",
       "      <td>Laetitia</td>\n",
       "      <td>Perfect !</td>\n",
       "      <td>1.0</td>\n",
       "    </tr>\n",
       "    <tr>\n",
       "      <th>808809</th>\n",
       "      <td>17874801</td>\n",
       "      <td>585190141</td>\n",
       "      <td>2019-12-31</td>\n",
       "      <td>303696325</td>\n",
       "      <td>Priscila</td>\n",
       "      <td>Great!</td>\n",
       "      <td>1.0</td>\n",
       "    </tr>\n",
       "    <tr>\n",
       "      <th>897468</th>\n",
       "      <td>20599898</td>\n",
       "      <td>238617405</td>\n",
       "      <td>2018-02-26</td>\n",
       "      <td>156290654</td>\n",
       "      <td>Jundan</td>\n",
       "      <td>The best Airbnb in the district Bourse (2).</td>\n",
       "      <td>1.0</td>\n",
       "    </tr>\n",
       "    <tr>\n",
       "      <th>1196854</th>\n",
       "      <td>33936690</td>\n",
       "      <td>445494981</td>\n",
       "      <td>2019-04-29</td>\n",
       "      <td>129377934</td>\n",
       "      <td>Sylviane</td>\n",
       "      <td>SOLINE nous a réservé un excellent accueil. L'...</td>\n",
       "      <td>1.0</td>\n",
       "    </tr>\n",
       "    <tr>\n",
       "      <th>1038938</th>\n",
       "      <td>25754484</td>\n",
       "      <td>492357388</td>\n",
       "      <td>2019-07-21</td>\n",
       "      <td>149781677</td>\n",
       "      <td>Baptiste</td>\n",
       "      <td>Hôte très sympathique et accueillante. Nous av...</td>\n",
       "      <td>1.0</td>\n",
       "    </tr>\n",
       "    <tr>\n",
       "      <th>1196857</th>\n",
       "      <td>33937777</td>\n",
       "      <td>457418601</td>\n",
       "      <td>2019-05-24</td>\n",
       "      <td>51192410</td>\n",
       "      <td>Jérôme</td>\n",
       "      <td>Logement idéal pour affaire et loisir... empla...</td>\n",
       "      <td>1.0</td>\n",
       "    </tr>\n",
       "    <tr>\n",
       "      <th>808805</th>\n",
       "      <td>17874801</td>\n",
       "      <td>569631114</td>\n",
       "      <td>2019-11-27</td>\n",
       "      <td>291066073</td>\n",
       "      <td>Thomas</td>\n",
       "      <td>Great !</td>\n",
       "      <td>1.0</td>\n",
       "    </tr>\n",
       "    <tr>\n",
       "      <th>419349</th>\n",
       "      <td>6330946</td>\n",
       "      <td>43134376</td>\n",
       "      <td>2015-08-17</td>\n",
       "      <td>38853315</td>\n",
       "      <td>Damien</td>\n",
       "      <td>Séjour très agréable! Très belle chambre au cœ...</td>\n",
       "      <td>1.0</td>\n",
       "    </tr>\n",
       "  </tbody>\n",
       "</table>\n",
       "</div>"
      ],
      "text/plain": [
       "         listing_id         id        date  reviewer_id reviewer_name  \\\n",
       "748187     16011380  206787232  2017-10-27      6269557        Romain   \n",
       "1069595    27004700  647616281  2020-08-07    159003555     Annemieke   \n",
       "419464      6332449  142762670  2017-04-09     56683279      Laetitia   \n",
       "808809     17874801  585190141  2019-12-31    303696325      Priscila   \n",
       "897468     20599898  238617405  2018-02-26    156290654        Jundan   \n",
       "1196854    33936690  445494981  2019-04-29    129377934      Sylviane   \n",
       "1038938    25754484  492357388  2019-07-21    149781677      Baptiste   \n",
       "1196857    33937777  457418601  2019-05-24     51192410        Jérôme   \n",
       "808805     17874801  569631114  2019-11-27    291066073        Thomas   \n",
       "419349      6330946   43134376  2015-08-17     38853315        Damien   \n",
       "\n",
       "                                                  comments  polarity_sentiment  \n",
       "748187                                             Perfect                 1.0  \n",
       "1069595        Very happy about the service and the hotel!                 1.0  \n",
       "419464                                          Perfect !                  1.0  \n",
       "808809                                              Great!                 1.0  \n",
       "897468         The best Airbnb in the district Bourse (2).                 1.0  \n",
       "1196854  SOLINE nous a réservé un excellent accueil. L'...                 1.0  \n",
       "1038938  Hôte très sympathique et accueillante. Nous av...                 1.0  \n",
       "1196857  Logement idéal pour affaire et loisir... empla...                 1.0  \n",
       "808805                                             Great !                 1.0  \n",
       "419349   Séjour très agréable! Très belle chambre au cœ...                 1.0  "
      ]
     },
     "execution_count": 156,
     "metadata": {},
     "output_type": "execute_result"
    }
   ],
   "source": [
    "# sorted df_rev by the best polarity sentiment\n",
    "df_rev = df_rev.sort_values(by='polarity_sentiment',ascending=False)\n",
    "df_rev.head(10)"
   ]
  },
  {
   "cell_type": "code",
   "execution_count": 157,
   "metadata": {},
   "outputs": [
    {
     "data": {
      "text/html": [
       "<div>\n",
       "<style scoped>\n",
       "    .dataframe tbody tr th:only-of-type {\n",
       "        vertical-align: middle;\n",
       "    }\n",
       "\n",
       "    .dataframe tbody tr th {\n",
       "        vertical-align: top;\n",
       "    }\n",
       "\n",
       "    .dataframe thead th {\n",
       "        text-align: right;\n",
       "    }\n",
       "</style>\n",
       "<table border=\"1\" class=\"dataframe\">\n",
       "  <thead>\n",
       "    <tr style=\"text-align: right;\">\n",
       "      <th></th>\n",
       "      <th>listing_id</th>\n",
       "      <th>id</th>\n",
       "      <th>date</th>\n",
       "      <th>reviewer_id</th>\n",
       "      <th>reviewer_name</th>\n",
       "      <th>comments</th>\n",
       "      <th>polarity_sentiment</th>\n",
       "    </tr>\n",
       "  </thead>\n",
       "  <tbody>\n",
       "    <tr>\n",
       "      <th>1075209</th>\n",
       "      <td>27164208</td>\n",
       "      <td>644512470</td>\n",
       "      <td>2020-07-31</td>\n",
       "      <td>6868907</td>\n",
       "      <td>Jean Philippe</td>\n",
       "      <td>Il y a plusieurs annonces pour les mêmes chamb...</td>\n",
       "      <td>-1.0</td>\n",
       "    </tr>\n",
       "    <tr>\n",
       "      <th>333017</th>\n",
       "      <td>4430281</td>\n",
       "      <td>71538570</td>\n",
       "      <td>2016-04-26</td>\n",
       "      <td>43931818</td>\n",
       "      <td>Nicolas</td>\n",
       "      <td>J'ai séjourné deux nuits chez (Website hidden ...</td>\n",
       "      <td>-1.0</td>\n",
       "    </tr>\n",
       "    <tr>\n",
       "      <th>102257</th>\n",
       "      <td>847825</td>\n",
       "      <td>526775997</td>\n",
       "      <td>2019-09-09</td>\n",
       "      <td>258193208</td>\n",
       "      <td>Peter</td>\n",
       "      <td>Die Wohnung hat eine tolle Lage, Moulin Rouge ...</td>\n",
       "      <td>-1.0</td>\n",
       "    </tr>\n",
       "    <tr>\n",
       "      <th>1252617</th>\n",
       "      <td>37238894</td>\n",
       "      <td>504171060</td>\n",
       "      <td>2019-08-07</td>\n",
       "      <td>53170995</td>\n",
       "      <td>Vyns</td>\n",
       "      <td>Merci à Mathilde d'avoir été compréhensive, ma...</td>\n",
       "      <td>-1.0</td>\n",
       "    </tr>\n",
       "    <tr>\n",
       "      <th>990354</th>\n",
       "      <td>23676144</td>\n",
       "      <td>404804510</td>\n",
       "      <td>2019-01-25</td>\n",
       "      <td>10178761</td>\n",
       "      <td>Sonia</td>\n",
       "      <td>Très arrangeant malgré notre retard à l’ arriv...</td>\n",
       "      <td>-1.0</td>\n",
       "    </tr>\n",
       "    <tr>\n",
       "      <th>1022315</th>\n",
       "      <td>24889487</td>\n",
       "      <td>527231824</td>\n",
       "      <td>2019-09-10</td>\n",
       "      <td>93189181</td>\n",
       "      <td>Fawaz</td>\n",
       "      <td>Worst than the expectations!</td>\n",
       "      <td>-1.0</td>\n",
       "    </tr>\n",
       "    <tr>\n",
       "      <th>455914</th>\n",
       "      <td>7098493</td>\n",
       "      <td>83262423</td>\n",
       "      <td>2016-07-02</td>\n",
       "      <td>5779347</td>\n",
       "      <td>Aurelie</td>\n",
       "      <td>Bon séjour, l'appartement correspond bien au p...</td>\n",
       "      <td>-1.0</td>\n",
       "    </tr>\n",
       "    <tr>\n",
       "      <th>468251</th>\n",
       "      <td>7378106</td>\n",
       "      <td>645553442</td>\n",
       "      <td>2020-08-02</td>\n",
       "      <td>157366961</td>\n",
       "      <td>Stefan</td>\n",
       "      <td>Que fais-tu, si tu arrives à Paris pendant l’é...</td>\n",
       "      <td>-1.0</td>\n",
       "    </tr>\n",
       "    <tr>\n",
       "      <th>590093</th>\n",
       "      <td>11542239</td>\n",
       "      <td>193088366</td>\n",
       "      <td>2017-09-12</td>\n",
       "      <td>34681875</td>\n",
       "      <td>Chloé Quynh</td>\n",
       "      <td>Die Unterkunft ist zwar sehr klein, jedoch rel...</td>\n",
       "      <td>-1.0</td>\n",
       "    </tr>\n",
       "    <tr>\n",
       "      <th>671549</th>\n",
       "      <td>13648143</td>\n",
       "      <td>208797834</td>\n",
       "      <td>2017-11-03</td>\n",
       "      <td>134217735</td>\n",
       "      <td>Aino Inga</td>\n",
       "      <td>Die Wohnung war klein aber fein! Alles sauber,...</td>\n",
       "      <td>-1.0</td>\n",
       "    </tr>\n",
       "  </tbody>\n",
       "</table>\n",
       "</div>"
      ],
      "text/plain": [
       "         listing_id         id        date  reviewer_id  reviewer_name  \\\n",
       "1075209    27164208  644512470  2020-07-31      6868907  Jean Philippe   \n",
       "333017      4430281   71538570  2016-04-26     43931818        Nicolas   \n",
       "102257       847825  526775997  2019-09-09    258193208          Peter   \n",
       "1252617    37238894  504171060  2019-08-07     53170995           Vyns   \n",
       "990354     23676144  404804510  2019-01-25     10178761          Sonia   \n",
       "1022315    24889487  527231824  2019-09-10     93189181          Fawaz   \n",
       "455914      7098493   83262423  2016-07-02      5779347        Aurelie   \n",
       "468251      7378106  645553442  2020-08-02    157366961         Stefan   \n",
       "590093     11542239  193088366  2017-09-12     34681875    Chloé Quynh   \n",
       "671549     13648143  208797834  2017-11-03    134217735      Aino Inga   \n",
       "\n",
       "                                                  comments  polarity_sentiment  \n",
       "1075209  Il y a plusieurs annonces pour les mêmes chamb...                -1.0  \n",
       "333017   J'ai séjourné deux nuits chez (Website hidden ...                -1.0  \n",
       "102257   Die Wohnung hat eine tolle Lage, Moulin Rouge ...                -1.0  \n",
       "1252617  Merci à Mathilde d'avoir été compréhensive, ma...                -1.0  \n",
       "990354   Très arrangeant malgré notre retard à l’ arriv...                -1.0  \n",
       "1022315                       Worst than the expectations!                -1.0  \n",
       "455914   Bon séjour, l'appartement correspond bien au p...                -1.0  \n",
       "468251   Que fais-tu, si tu arrives à Paris pendant l’é...                -1.0  \n",
       "590093   Die Unterkunft ist zwar sehr klein, jedoch rel...                -1.0  \n",
       "671549   Die Wohnung war klein aber fein! Alles sauber,...                -1.0  "
      ]
     },
     "execution_count": 157,
     "metadata": {},
     "output_type": "execute_result"
    }
   ],
   "source": [
    "# Worst polarity sentiment\n",
    "df_rev.tail(10)"
   ]
  },
  {
   "cell_type": "code",
   "execution_count": 158,
   "metadata": {},
   "outputs": [
    {
     "data": {
      "text/plain": [
       "\"Que fais-tu, si tu arrives à Paris pendant l’été de la crise de Covid-19 et qu'il fait vraiment chaud ?\\n\\nTu vas voir Cécile, qui t'accueille avec un sourire et une bouteille d’eau dans son appartement. Tes soucis seront vite oubliés et ton séjour à Paris peut commencer.\\n\\nL'appartement est bien équipé, bien situé et la base idéale pour explorer Paris. Le métro et une rue avec une pharmacie, un supermarché, des restaurants et des cafés sont juste à quelques pas de l'appartement. Le Centre Pompidou est également à seulement quelques minutes à pied.\\n\\nJ'ai rencontré Cécile en tant qu'hôte; très sympathique, serviable et chaleureuse. Elle a même pensée à fournir des masques de protection et un désinfectant pour les mains. Aussi, un ami pouvait laisser sa valise avec Cécile jusqu'à l'enregistrement sur son AirBnB plus tard le jour d'arrivée.\\n\\nEncore une fois merci beaucoup Cécile ! À bientôt !\""
      ]
     },
     "execution_count": 158,
     "metadata": {},
     "output_type": "execute_result"
    }
   ],
   "source": [
    "df_rev.iloc[-3,5]"
   ]
  },
  {
   "cell_type": "markdown",
   "metadata": {},
   "source": [
    "textblob seems to not work as efficiently as expected for language other than english, i can witness some discrepancy from french reviewer that shouldn't earn negative polarity score even if that seems a minority.\n",
    "We need to normalize those score as positive, negative or neutral to make the task easier"
   ]
  },
  {
   "cell_type": "code",
   "execution_count": 159,
   "metadata": {},
   "outputs": [],
   "source": [
    "def getAnalysis(score):\n",
    " if score < 0:\n",
    "  return 'Negative'\n",
    " elif score == 0:\n",
    "  return 'Neutral'\n",
    " else:\n",
    "  return 'Positive'\n",
    "\n",
    "df_rev['textBlob_polarity_analysis'] = df_rev['polarity_sentiment'].apply(getAnalysis)"
   ]
  },
  {
   "cell_type": "code",
   "execution_count": 160,
   "metadata": {},
   "outputs": [
    {
     "data": {
      "text/html": [
       "<div>\n",
       "<style scoped>\n",
       "    .dataframe tbody tr th:only-of-type {\n",
       "        vertical-align: middle;\n",
       "    }\n",
       "\n",
       "    .dataframe tbody tr th {\n",
       "        vertical-align: top;\n",
       "    }\n",
       "\n",
       "    .dataframe thead th {\n",
       "        text-align: right;\n",
       "    }\n",
       "</style>\n",
       "<table border=\"1\" class=\"dataframe\">\n",
       "  <thead>\n",
       "    <tr style=\"text-align: right;\">\n",
       "      <th></th>\n",
       "      <th>listing_id</th>\n",
       "      <th>id</th>\n",
       "      <th>date</th>\n",
       "      <th>reviewer_id</th>\n",
       "      <th>reviewer_name</th>\n",
       "      <th>comments</th>\n",
       "      <th>polarity_sentiment</th>\n",
       "      <th>textBlob_polarity_analysis</th>\n",
       "      <th>neighbourhood</th>\n",
       "    </tr>\n",
       "  </thead>\n",
       "  <tbody>\n",
       "    <tr>\n",
       "      <th>748187</th>\n",
       "      <td>16011380</td>\n",
       "      <td>206787232</td>\n",
       "      <td>2017-10-27</td>\n",
       "      <td>6269557</td>\n",
       "      <td>Romain</td>\n",
       "      <td>Perfect</td>\n",
       "      <td>1.0</td>\n",
       "      <td>Positive</td>\n",
       "      <td>Palais-Bourbon</td>\n",
       "    </tr>\n",
       "    <tr>\n",
       "      <th>1069595</th>\n",
       "      <td>27004700</td>\n",
       "      <td>647616281</td>\n",
       "      <td>2020-08-07</td>\n",
       "      <td>159003555</td>\n",
       "      <td>Annemieke</td>\n",
       "      <td>Very happy about the service and the hotel!</td>\n",
       "      <td>1.0</td>\n",
       "      <td>Positive</td>\n",
       "      <td>Palais-Bourbon</td>\n",
       "    </tr>\n",
       "    <tr>\n",
       "      <th>419464</th>\n",
       "      <td>6332449</td>\n",
       "      <td>142762670</td>\n",
       "      <td>2017-04-09</td>\n",
       "      <td>56683279</td>\n",
       "      <td>Laetitia</td>\n",
       "      <td>Perfect !</td>\n",
       "      <td>1.0</td>\n",
       "      <td>Positive</td>\n",
       "      <td>Opéra</td>\n",
       "    </tr>\n",
       "    <tr>\n",
       "      <th>808809</th>\n",
       "      <td>17874801</td>\n",
       "      <td>585190141</td>\n",
       "      <td>2019-12-31</td>\n",
       "      <td>303696325</td>\n",
       "      <td>Priscila</td>\n",
       "      <td>Great!</td>\n",
       "      <td>1.0</td>\n",
       "      <td>Positive</td>\n",
       "      <td>Buttes-Montmartre</td>\n",
       "    </tr>\n",
       "    <tr>\n",
       "      <th>897468</th>\n",
       "      <td>20599898</td>\n",
       "      <td>238617405</td>\n",
       "      <td>2018-02-26</td>\n",
       "      <td>156290654</td>\n",
       "      <td>Jundan</td>\n",
       "      <td>The best Airbnb in the district Bourse (2).</td>\n",
       "      <td>1.0</td>\n",
       "      <td>Positive</td>\n",
       "      <td>Bourse</td>\n",
       "    </tr>\n",
       "    <tr>\n",
       "      <th>1196854</th>\n",
       "      <td>33936690</td>\n",
       "      <td>445494981</td>\n",
       "      <td>2019-04-29</td>\n",
       "      <td>129377934</td>\n",
       "      <td>Sylviane</td>\n",
       "      <td>SOLINE nous a réservé un excellent accueil. L'...</td>\n",
       "      <td>1.0</td>\n",
       "      <td>Positive</td>\n",
       "      <td>Popincourt</td>\n",
       "    </tr>\n",
       "    <tr>\n",
       "      <th>1038938</th>\n",
       "      <td>25754484</td>\n",
       "      <td>492357388</td>\n",
       "      <td>2019-07-21</td>\n",
       "      <td>149781677</td>\n",
       "      <td>Baptiste</td>\n",
       "      <td>Hôte très sympathique et accueillante. Nous av...</td>\n",
       "      <td>1.0</td>\n",
       "      <td>Positive</td>\n",
       "      <td>Vaugirard</td>\n",
       "    </tr>\n",
       "    <tr>\n",
       "      <th>1196857</th>\n",
       "      <td>33937777</td>\n",
       "      <td>457418601</td>\n",
       "      <td>2019-05-24</td>\n",
       "      <td>51192410</td>\n",
       "      <td>Jérôme</td>\n",
       "      <td>Logement idéal pour affaire et loisir... empla...</td>\n",
       "      <td>1.0</td>\n",
       "      <td>Positive</td>\n",
       "      <td>Passy</td>\n",
       "    </tr>\n",
       "    <tr>\n",
       "      <th>808805</th>\n",
       "      <td>17874801</td>\n",
       "      <td>569631114</td>\n",
       "      <td>2019-11-27</td>\n",
       "      <td>291066073</td>\n",
       "      <td>Thomas</td>\n",
       "      <td>Great !</td>\n",
       "      <td>1.0</td>\n",
       "      <td>Positive</td>\n",
       "      <td>Buttes-Montmartre</td>\n",
       "    </tr>\n",
       "    <tr>\n",
       "      <th>419349</th>\n",
       "      <td>6330946</td>\n",
       "      <td>43134376</td>\n",
       "      <td>2015-08-17</td>\n",
       "      <td>38853315</td>\n",
       "      <td>Damien</td>\n",
       "      <td>Séjour très agréable! Très belle chambre au cœ...</td>\n",
       "      <td>1.0</td>\n",
       "      <td>Positive</td>\n",
       "      <td>Reuilly</td>\n",
       "    </tr>\n",
       "    <tr>\n",
       "      <th>1038933</th>\n",
       "      <td>25754484</td>\n",
       "      <td>417759570</td>\n",
       "      <td>2019-02-28</td>\n",
       "      <td>41364789</td>\n",
       "      <td>Laurence</td>\n",
       "      <td>excellent séjour chez Anne. Appartement sympat...</td>\n",
       "      <td>1.0</td>\n",
       "      <td>Positive</td>\n",
       "      <td>Vaugirard</td>\n",
       "    </tr>\n",
       "    <tr>\n",
       "      <th>621908</th>\n",
       "      <td>12537003</td>\n",
       "      <td>114149676</td>\n",
       "      <td>2016-11-16</td>\n",
       "      <td>50641610</td>\n",
       "      <td>Xuanmin</td>\n",
       "      <td>Excellent</td>\n",
       "      <td>1.0</td>\n",
       "      <td>Positive</td>\n",
       "      <td>Entrepôt</td>\n",
       "    </tr>\n",
       "    <tr>\n",
       "      <th>1196882</th>\n",
       "      <td>33937777</td>\n",
       "      <td>586695547</td>\n",
       "      <td>2020-01-02</td>\n",
       "      <td>11293145</td>\n",
       "      <td>Anastasya</td>\n",
       "      <td>Great stay!</td>\n",
       "      <td>1.0</td>\n",
       "      <td>Positive</td>\n",
       "      <td>Passy</td>\n",
       "    </tr>\n",
       "    <tr>\n",
       "      <th>1038926</th>\n",
       "      <td>25754484</td>\n",
       "      <td>302012641</td>\n",
       "      <td>2018-08-05</td>\n",
       "      <td>77767086</td>\n",
       "      <td>Luis</td>\n",
       "      <td>everything went perfect.</td>\n",
       "      <td>1.0</td>\n",
       "      <td>Positive</td>\n",
       "      <td>Vaugirard</td>\n",
       "    </tr>\n",
       "    <tr>\n",
       "      <th>621929</th>\n",
       "      <td>12537003</td>\n",
       "      <td>140881900</td>\n",
       "      <td>2017-04-01</td>\n",
       "      <td>106540972</td>\n",
       "      <td>Regina</td>\n",
       "      <td>Perfect organisation! Great infrastructure!</td>\n",
       "      <td>1.0</td>\n",
       "      <td>Positive</td>\n",
       "      <td>Entrepôt</td>\n",
       "    </tr>\n",
       "    <tr>\n",
       "      <th>419273</th>\n",
       "      <td>6324741</td>\n",
       "      <td>493359754</td>\n",
       "      <td>2019-07-22</td>\n",
       "      <td>242825939</td>\n",
       "      <td>Andrea</td>\n",
       "      <td>Great location!</td>\n",
       "      <td>1.0</td>\n",
       "      <td>Positive</td>\n",
       "      <td>Hôtel-de-Ville</td>\n",
       "    </tr>\n",
       "    <tr>\n",
       "      <th>621951</th>\n",
       "      <td>12537003</td>\n",
       "      <td>171865244</td>\n",
       "      <td>2017-07-19</td>\n",
       "      <td>11519847</td>\n",
       "      <td>Sarah</td>\n",
       "      <td>Laurant war sehr gastfreundlich und gut erreic...</td>\n",
       "      <td>1.0</td>\n",
       "      <td>Positive</td>\n",
       "      <td>Entrepôt</td>\n",
       "    </tr>\n",
       "    <tr>\n",
       "      <th>1069566</th>\n",
       "      <td>27004700</td>\n",
       "      <td>638880652</td>\n",
       "      <td>2020-07-17</td>\n",
       "      <td>36162288</td>\n",
       "      <td>Daniela</td>\n",
       "      <td>Excellent</td>\n",
       "      <td>1.0</td>\n",
       "      <td>Positive</td>\n",
       "      <td>Palais-Bourbon</td>\n",
       "    </tr>\n",
       "    <tr>\n",
       "      <th>70616</th>\n",
       "      <td>608289</td>\n",
       "      <td>404226150</td>\n",
       "      <td>2019-01-23</td>\n",
       "      <td>2842427</td>\n",
       "      <td>Yannis</td>\n",
       "      <td>All was great. Thank you for your hospitality!</td>\n",
       "      <td>1.0</td>\n",
       "      <td>Positive</td>\n",
       "      <td>Buttes-Montmartre</td>\n",
       "    </tr>\n",
       "    <tr>\n",
       "      <th>808752</th>\n",
       "      <td>17874801</td>\n",
       "      <td>449239681</td>\n",
       "      <td>2019-05-06</td>\n",
       "      <td>116554450</td>\n",
       "      <td>Isabelle</td>\n",
       "      <td>Excellent accueil. Chambre et salle de bain co...</td>\n",
       "      <td>1.0</td>\n",
       "      <td>Positive</td>\n",
       "      <td>Buttes-Montmartre</td>\n",
       "    </tr>\n",
       "    <tr>\n",
       "      <th>1069579</th>\n",
       "      <td>27004700</td>\n",
       "      <td>642735402</td>\n",
       "      <td>2020-07-26</td>\n",
       "      <td>322267533</td>\n",
       "      <td>Oceane</td>\n",
       "      <td>Excellent hôtel je recommande, on a été très b...</td>\n",
       "      <td>1.0</td>\n",
       "      <td>Positive</td>\n",
       "      <td>Palais-Bourbon</td>\n",
       "    </tr>\n",
       "    <tr>\n",
       "      <th>19845</th>\n",
       "      <td>185575</td>\n",
       "      <td>28382353</td>\n",
       "      <td>2015-03-23</td>\n",
       "      <td>25755151</td>\n",
       "      <td>Merce</td>\n",
       "      <td>Nuestra estancia en casa de Heidi estuvo muy b...</td>\n",
       "      <td>1.0</td>\n",
       "      <td>Positive</td>\n",
       "      <td>Buttes-Montmartre</td>\n",
       "    </tr>\n",
       "    <tr>\n",
       "      <th>808748</th>\n",
       "      <td>17874801</td>\n",
       "      <td>442815220</td>\n",
       "      <td>2019-04-24</td>\n",
       "      <td>156872240</td>\n",
       "      <td>Alexandre</td>\n",
       "      <td>Excellent rapport/qualité prix</td>\n",
       "      <td>1.0</td>\n",
       "      <td>Positive</td>\n",
       "      <td>Buttes-Montmartre</td>\n",
       "    </tr>\n",
       "    <tr>\n",
       "      <th>622060</th>\n",
       "      <td>12537003</td>\n",
       "      <td>335389887</td>\n",
       "      <td>2018-10-12</td>\n",
       "      <td>17981507</td>\n",
       "      <td>Jeff</td>\n",
       "      <td>Great Location!</td>\n",
       "      <td>1.0</td>\n",
       "      <td>Positive</td>\n",
       "      <td>Entrepôt</td>\n",
       "    </tr>\n",
       "    <tr>\n",
       "      <th>1038906</th>\n",
       "      <td>25733624</td>\n",
       "      <td>286841786</td>\n",
       "      <td>2018-07-07</td>\n",
       "      <td>96693709</td>\n",
       "      <td>Edith</td>\n",
       "      <td>L'appartement est idéal, très spacieux, bien é...</td>\n",
       "      <td>1.0</td>\n",
       "      <td>Positive</td>\n",
       "      <td>Gobelins</td>\n",
       "    </tr>\n",
       "    <tr>\n",
       "      <th>897582</th>\n",
       "      <td>20601295</td>\n",
       "      <td>292526816</td>\n",
       "      <td>2018-07-18</td>\n",
       "      <td>200347622</td>\n",
       "      <td>Pascal</td>\n",
       "      <td>Bel appartement bien agencé proche des commerc...</td>\n",
       "      <td>1.0</td>\n",
       "      <td>Positive</td>\n",
       "      <td>Ménilmontant</td>\n",
       "    </tr>\n",
       "    <tr>\n",
       "      <th>419174</th>\n",
       "      <td>6324741</td>\n",
       "      <td>167509002</td>\n",
       "      <td>2017-07-07</td>\n",
       "      <td>81109530</td>\n",
       "      <td>Beatriz</td>\n",
       "      <td>Great location!!</td>\n",
       "      <td>1.0</td>\n",
       "      <td>Positive</td>\n",
       "      <td>Hôtel-de-Ville</td>\n",
       "    </tr>\n",
       "    <tr>\n",
       "      <th>105722</th>\n",
       "      <td>868765</td>\n",
       "      <td>153210168</td>\n",
       "      <td>2017-05-20</td>\n",
       "      <td>28198148</td>\n",
       "      <td>Sj</td>\n",
       "      <td>Everything was perfect! Mathilde is a great ho...</td>\n",
       "      <td>1.0</td>\n",
       "      <td>Positive</td>\n",
       "      <td>Opéra</td>\n",
       "    </tr>\n",
       "    <tr>\n",
       "      <th>419503</th>\n",
       "      <td>6332449</td>\n",
       "      <td>216503892</td>\n",
       "      <td>2017-12-04</td>\n",
       "      <td>1497878</td>\n",
       "      <td>Léna</td>\n",
       "      <td>Excellent séjour, petit coin de tranquillité a...</td>\n",
       "      <td>1.0</td>\n",
       "      <td>Positive</td>\n",
       "      <td>Opéra</td>\n",
       "    </tr>\n",
       "    <tr>\n",
       "      <th>70637</th>\n",
       "      <td>608289</td>\n",
       "      <td>479547644</td>\n",
       "      <td>2019-07-01</td>\n",
       "      <td>6643360</td>\n",
       "      <td>Elizabeth</td>\n",
       "      <td>Gaelle’s apartment is truly an incredible plac...</td>\n",
       "      <td>1.0</td>\n",
       "      <td>Positive</td>\n",
       "      <td>Buttes-Montmartre</td>\n",
       "    </tr>\n",
       "    <tr>\n",
       "      <th>...</th>\n",
       "      <td>...</td>\n",
       "      <td>...</td>\n",
       "      <td>...</td>\n",
       "      <td>...</td>\n",
       "      <td>...</td>\n",
       "      <td>...</td>\n",
       "      <td>...</td>\n",
       "      <td>...</td>\n",
       "      <td>...</td>\n",
       "    </tr>\n",
       "    <tr>\n",
       "      <th>539358</th>\n",
       "      <td>9554216</td>\n",
       "      <td>147954141</td>\n",
       "      <td>2017-04-29</td>\n",
       "      <td>5431328</td>\n",
       "      <td>Vero</td>\n",
       "      <td>La ubicación de este lugar es maravillosa, a s...</td>\n",
       "      <td>-1.0</td>\n",
       "      <td>Negative</td>\n",
       "      <td>Hôtel-de-Ville</td>\n",
       "    </tr>\n",
       "    <tr>\n",
       "      <th>102383</th>\n",
       "      <td>850588</td>\n",
       "      <td>61150285</td>\n",
       "      <td>2016-02-01</td>\n",
       "      <td>32402202</td>\n",
       "      <td>Laszlo</td>\n",
       "      <td>Den letzten Monat meines Auslandssemester habe...</td>\n",
       "      <td>-1.0</td>\n",
       "      <td>Negative</td>\n",
       "      <td>Ménilmontant</td>\n",
       "    </tr>\n",
       "    <tr>\n",
       "      <th>1300604</th>\n",
       "      <td>42620494</td>\n",
       "      <td>639734527</td>\n",
       "      <td>2020-07-19</td>\n",
       "      <td>331763359</td>\n",
       "      <td>Noemi Sinforosa</td>\n",
       "      <td>La casa es funcional y tiene todo lo necesario...</td>\n",
       "      <td>-1.0</td>\n",
       "      <td>Negative</td>\n",
       "      <td>Vaugirard</td>\n",
       "    </tr>\n",
       "    <tr>\n",
       "      <th>232684</th>\n",
       "      <td>2549471</td>\n",
       "      <td>28570872</td>\n",
       "      <td>2015-03-26</td>\n",
       "      <td>3847622</td>\n",
       "      <td>Marion</td>\n",
       "      <td>L'appartement de Benjamin est très bien situé ...</td>\n",
       "      <td>-1.0</td>\n",
       "      <td>Negative</td>\n",
       "      <td>Vaugirard</td>\n",
       "    </tr>\n",
       "    <tr>\n",
       "      <th>656056</th>\n",
       "      <td>13320676</td>\n",
       "      <td>615696897</td>\n",
       "      <td>2020-03-08</td>\n",
       "      <td>173346536</td>\n",
       "      <td>Johanna</td>\n",
       "      <td>Excellente adresse. L’appartement est conforta...</td>\n",
       "      <td>-1.0</td>\n",
       "      <td>Negative</td>\n",
       "      <td>Buttes-Montmartre</td>\n",
       "    </tr>\n",
       "    <tr>\n",
       "      <th>520805</th>\n",
       "      <td>8932010</td>\n",
       "      <td>648559787</td>\n",
       "      <td>2020-08-09</td>\n",
       "      <td>352460617</td>\n",
       "      <td>Nada</td>\n",
       "      <td>Logement bien situé mais pas terrible niveau p...</td>\n",
       "      <td>-1.0</td>\n",
       "      <td>Negative</td>\n",
       "      <td>Bourse</td>\n",
       "    </tr>\n",
       "    <tr>\n",
       "      <th>856414</th>\n",
       "      <td>19280804</td>\n",
       "      <td>291077828</td>\n",
       "      <td>2018-07-15</td>\n",
       "      <td>61437017</td>\n",
       "      <td>Aurélie</td>\n",
       "      <td>Appartement type bourgeois refait à neuf! Très...</td>\n",
       "      <td>-1.0</td>\n",
       "      <td>Negative</td>\n",
       "      <td>Gobelins</td>\n",
       "    </tr>\n",
       "    <tr>\n",
       "      <th>399109</th>\n",
       "      <td>5867571</td>\n",
       "      <td>291609921</td>\n",
       "      <td>2018-07-16</td>\n",
       "      <td>155771755</td>\n",
       "      <td>Charles</td>\n",
       "      <td>Bon accueil de Tatiana, qui prend le temps de ...</td>\n",
       "      <td>-1.0</td>\n",
       "      <td>Negative</td>\n",
       "      <td>Ménilmontant</td>\n",
       "    </tr>\n",
       "    <tr>\n",
       "      <th>240888</th>\n",
       "      <td>2691775</td>\n",
       "      <td>12892526</td>\n",
       "      <td>2014-05-13</td>\n",
       "      <td>12672553</td>\n",
       "      <td>Isabelle</td>\n",
       "      <td>Belle appartement très bien située à côté du c...</td>\n",
       "      <td>-1.0</td>\n",
       "      <td>Negative</td>\n",
       "      <td>Temple</td>\n",
       "    </tr>\n",
       "    <tr>\n",
       "      <th>545787</th>\n",
       "      <td>9775224</td>\n",
       "      <td>532111667</td>\n",
       "      <td>2019-09-19</td>\n",
       "      <td>218756451</td>\n",
       "      <td>Dominik</td>\n",
       "      <td>Die Wohnung von Vincent ist sehr stilvoll eing...</td>\n",
       "      <td>-1.0</td>\n",
       "      <td>Negative</td>\n",
       "      <td>Entrepôt</td>\n",
       "    </tr>\n",
       "    <tr>\n",
       "      <th>790096</th>\n",
       "      <td>17324176</td>\n",
       "      <td>271472295</td>\n",
       "      <td>2018-06-01</td>\n",
       "      <td>23187313</td>\n",
       "      <td>Geraldine</td>\n",
       "      <td>Hôtel vraiment très bien placé, très proche de...</td>\n",
       "      <td>-1.0</td>\n",
       "      <td>Negative</td>\n",
       "      <td>Opéra</td>\n",
       "    </tr>\n",
       "    <tr>\n",
       "      <th>915946</th>\n",
       "      <td>21148072</td>\n",
       "      <td>647265982</td>\n",
       "      <td>2020-08-06</td>\n",
       "      <td>1191074</td>\n",
       "      <td>Elisabeth</td>\n",
       "      <td>ATTENTION il ne s’agit pas du tout d.une locat...</td>\n",
       "      <td>-1.0</td>\n",
       "      <td>Negative</td>\n",
       "      <td>Luxembourg</td>\n",
       "    </tr>\n",
       "    <tr>\n",
       "      <th>731979</th>\n",
       "      <td>15479532</td>\n",
       "      <td>557601043</td>\n",
       "      <td>2019-11-01</td>\n",
       "      <td>304095020</td>\n",
       "      <td>Helene</td>\n",
       "      <td>Si vous cherchez un appartement en plein cœur ...</td>\n",
       "      <td>-1.0</td>\n",
       "      <td>Negative</td>\n",
       "      <td>Élysée</td>\n",
       "    </tr>\n",
       "    <tr>\n",
       "      <th>8798</th>\n",
       "      <td>57207</td>\n",
       "      <td>7435493</td>\n",
       "      <td>2013-09-20</td>\n",
       "      <td>7889360</td>\n",
       "      <td>Chaelin</td>\n",
       "      <td>최악\\r\\n방에서는 담배냄새 엄청나고\\r\\n로비에서는 찌린내....\\r\\n방도좁고\\...</td>\n",
       "      <td>-1.0</td>\n",
       "      <td>Negative</td>\n",
       "      <td>Vaugirard</td>\n",
       "    </tr>\n",
       "    <tr>\n",
       "      <th>716088</th>\n",
       "      <td>15031417</td>\n",
       "      <td>105102711</td>\n",
       "      <td>2016-09-30</td>\n",
       "      <td>44140546</td>\n",
       "      <td>Suzanne</td>\n",
       "      <td>expérience horrible, je ne suis même pas resté...</td>\n",
       "      <td>-1.0</td>\n",
       "      <td>Negative</td>\n",
       "      <td>Vaugirard</td>\n",
       "    </tr>\n",
       "    <tr>\n",
       "      <th>74028</th>\n",
       "      <td>636035</td>\n",
       "      <td>186814288</td>\n",
       "      <td>2017-08-25</td>\n",
       "      <td>143470107</td>\n",
       "      <td>Stefano</td>\n",
       "      <td>Very dirty place!!!</td>\n",
       "      <td>-1.0</td>\n",
       "      <td>Negative</td>\n",
       "      <td>Ménilmontant</td>\n",
       "    </tr>\n",
       "    <tr>\n",
       "      <th>1208469</th>\n",
       "      <td>34623498</td>\n",
       "      <td>557460651</td>\n",
       "      <td>2019-11-01</td>\n",
       "      <td>232140091</td>\n",
       "      <td>Joffrey</td>\n",
       "      <td>Jonathan a été très accueillant et compréhensi...</td>\n",
       "      <td>-1.0</td>\n",
       "      <td>Negative</td>\n",
       "      <td>Reuilly</td>\n",
       "    </tr>\n",
       "    <tr>\n",
       "      <th>1271794</th>\n",
       "      <td>38946279</td>\n",
       "      <td>579728575</td>\n",
       "      <td>2019-12-21</td>\n",
       "      <td>97585283</td>\n",
       "      <td>Moustapha</td>\n",
       "      <td>Do yourself a favor and do not come here. Ever...</td>\n",
       "      <td>-1.0</td>\n",
       "      <td>Negative</td>\n",
       "      <td>Vaugirard</td>\n",
       "    </tr>\n",
       "    <tr>\n",
       "      <th>737045</th>\n",
       "      <td>15653582</td>\n",
       "      <td>644092110</td>\n",
       "      <td>2020-07-30</td>\n",
       "      <td>199408174</td>\n",
       "      <td>Sarah</td>\n",
       "      <td>- Schimmelbefall &amp; starker Schmutz -\\nZu mir: ...</td>\n",
       "      <td>-1.0</td>\n",
       "      <td>Negative</td>\n",
       "      <td>Vaugirard</td>\n",
       "    </tr>\n",
       "    <tr>\n",
       "      <th>270086</th>\n",
       "      <td>3261736</td>\n",
       "      <td>181039903</td>\n",
       "      <td>2017-08-12</td>\n",
       "      <td>15786900</td>\n",
       "      <td>Diana</td>\n",
       "      <td>L'appartement de Chantal est petit, comme elle...</td>\n",
       "      <td>-1.0</td>\n",
       "      <td>Negative</td>\n",
       "      <td>Hôtel-de-Ville</td>\n",
       "    </tr>\n",
       "    <tr>\n",
       "      <th>1075209</th>\n",
       "      <td>27164208</td>\n",
       "      <td>644512470</td>\n",
       "      <td>2020-07-31</td>\n",
       "      <td>6868907</td>\n",
       "      <td>Jean Philippe</td>\n",
       "      <td>Il y a plusieurs annonces pour les mêmes chamb...</td>\n",
       "      <td>-1.0</td>\n",
       "      <td>Negative</td>\n",
       "      <td>Luxembourg</td>\n",
       "    </tr>\n",
       "    <tr>\n",
       "      <th>333017</th>\n",
       "      <td>4430281</td>\n",
       "      <td>71538570</td>\n",
       "      <td>2016-04-26</td>\n",
       "      <td>43931818</td>\n",
       "      <td>Nicolas</td>\n",
       "      <td>J'ai séjourné deux nuits chez (Website hidden ...</td>\n",
       "      <td>-1.0</td>\n",
       "      <td>Negative</td>\n",
       "      <td>Buttes-Montmartre</td>\n",
       "    </tr>\n",
       "    <tr>\n",
       "      <th>102257</th>\n",
       "      <td>847825</td>\n",
       "      <td>526775997</td>\n",
       "      <td>2019-09-09</td>\n",
       "      <td>258193208</td>\n",
       "      <td>Peter</td>\n",
       "      <td>Die Wohnung hat eine tolle Lage, Moulin Rouge ...</td>\n",
       "      <td>-1.0</td>\n",
       "      <td>Negative</td>\n",
       "      <td>Opéra</td>\n",
       "    </tr>\n",
       "    <tr>\n",
       "      <th>1252617</th>\n",
       "      <td>37238894</td>\n",
       "      <td>504171060</td>\n",
       "      <td>2019-08-07</td>\n",
       "      <td>53170995</td>\n",
       "      <td>Vyns</td>\n",
       "      <td>Merci à Mathilde d'avoir été compréhensive, ma...</td>\n",
       "      <td>-1.0</td>\n",
       "      <td>Negative</td>\n",
       "      <td>Gobelins</td>\n",
       "    </tr>\n",
       "    <tr>\n",
       "      <th>990354</th>\n",
       "      <td>23676144</td>\n",
       "      <td>404804510</td>\n",
       "      <td>2019-01-25</td>\n",
       "      <td>10178761</td>\n",
       "      <td>Sonia</td>\n",
       "      <td>Très arrangeant malgré notre retard à l’ arriv...</td>\n",
       "      <td>-1.0</td>\n",
       "      <td>Negative</td>\n",
       "      <td>Observatoire</td>\n",
       "    </tr>\n",
       "    <tr>\n",
       "      <th>1022315</th>\n",
       "      <td>24889487</td>\n",
       "      <td>527231824</td>\n",
       "      <td>2019-09-10</td>\n",
       "      <td>93189181</td>\n",
       "      <td>Fawaz</td>\n",
       "      <td>Worst than the expectations!</td>\n",
       "      <td>-1.0</td>\n",
       "      <td>Negative</td>\n",
       "      <td>Élysée</td>\n",
       "    </tr>\n",
       "    <tr>\n",
       "      <th>455914</th>\n",
       "      <td>7098493</td>\n",
       "      <td>83262423</td>\n",
       "      <td>2016-07-02</td>\n",
       "      <td>5779347</td>\n",
       "      <td>Aurelie</td>\n",
       "      <td>Bon séjour, l'appartement correspond bien au p...</td>\n",
       "      <td>-1.0</td>\n",
       "      <td>Negative</td>\n",
       "      <td>Vaugirard</td>\n",
       "    </tr>\n",
       "    <tr>\n",
       "      <th>468251</th>\n",
       "      <td>7378106</td>\n",
       "      <td>645553442</td>\n",
       "      <td>2020-08-02</td>\n",
       "      <td>157366961</td>\n",
       "      <td>Stefan</td>\n",
       "      <td>Que fais-tu, si tu arrives à Paris pendant l’é...</td>\n",
       "      <td>-1.0</td>\n",
       "      <td>Negative</td>\n",
       "      <td>Bourse</td>\n",
       "    </tr>\n",
       "    <tr>\n",
       "      <th>590093</th>\n",
       "      <td>11542239</td>\n",
       "      <td>193088366</td>\n",
       "      <td>2017-09-12</td>\n",
       "      <td>34681875</td>\n",
       "      <td>Chloé Quynh</td>\n",
       "      <td>Die Unterkunft ist zwar sehr klein, jedoch rel...</td>\n",
       "      <td>-1.0</td>\n",
       "      <td>Negative</td>\n",
       "      <td>Observatoire</td>\n",
       "    </tr>\n",
       "    <tr>\n",
       "      <th>671549</th>\n",
       "      <td>13648143</td>\n",
       "      <td>208797834</td>\n",
       "      <td>2017-11-03</td>\n",
       "      <td>134217735</td>\n",
       "      <td>Aino Inga</td>\n",
       "      <td>Die Wohnung war klein aber fein! Alles sauber,...</td>\n",
       "      <td>-1.0</td>\n",
       "      <td>Negative</td>\n",
       "      <td>Vaugirard</td>\n",
       "    </tr>\n",
       "  </tbody>\n",
       "</table>\n",
       "<p>1308133 rows × 9 columns</p>\n",
       "</div>"
      ],
      "text/plain": [
       "         listing_id         id        date  reviewer_id    reviewer_name  \\\n",
       "748187     16011380  206787232  2017-10-27      6269557           Romain   \n",
       "1069595    27004700  647616281  2020-08-07    159003555        Annemieke   \n",
       "419464      6332449  142762670  2017-04-09     56683279         Laetitia   \n",
       "808809     17874801  585190141  2019-12-31    303696325         Priscila   \n",
       "897468     20599898  238617405  2018-02-26    156290654           Jundan   \n",
       "1196854    33936690  445494981  2019-04-29    129377934         Sylviane   \n",
       "1038938    25754484  492357388  2019-07-21    149781677         Baptiste   \n",
       "1196857    33937777  457418601  2019-05-24     51192410           Jérôme   \n",
       "808805     17874801  569631114  2019-11-27    291066073           Thomas   \n",
       "419349      6330946   43134376  2015-08-17     38853315           Damien   \n",
       "1038933    25754484  417759570  2019-02-28     41364789         Laurence   \n",
       "621908     12537003  114149676  2016-11-16     50641610          Xuanmin   \n",
       "1196882    33937777  586695547  2020-01-02     11293145        Anastasya   \n",
       "1038926    25754484  302012641  2018-08-05     77767086             Luis   \n",
       "621929     12537003  140881900  2017-04-01    106540972           Regina   \n",
       "419273      6324741  493359754  2019-07-22    242825939           Andrea   \n",
       "621951     12537003  171865244  2017-07-19     11519847            Sarah   \n",
       "1069566    27004700  638880652  2020-07-17     36162288          Daniela   \n",
       "70616        608289  404226150  2019-01-23      2842427           Yannis   \n",
       "808752     17874801  449239681  2019-05-06    116554450         Isabelle   \n",
       "1069579    27004700  642735402  2020-07-26    322267533           Oceane   \n",
       "19845        185575   28382353  2015-03-23     25755151            Merce   \n",
       "808748     17874801  442815220  2019-04-24    156872240        Alexandre   \n",
       "622060     12537003  335389887  2018-10-12     17981507             Jeff   \n",
       "1038906    25733624  286841786  2018-07-07     96693709            Edith   \n",
       "897582     20601295  292526816  2018-07-18    200347622           Pascal   \n",
       "419174      6324741  167509002  2017-07-07     81109530          Beatriz   \n",
       "105722       868765  153210168  2017-05-20     28198148               Sj   \n",
       "419503      6332449  216503892  2017-12-04      1497878             Léna   \n",
       "70637        608289  479547644  2019-07-01      6643360        Elizabeth   \n",
       "...             ...        ...         ...          ...              ...   \n",
       "539358      9554216  147954141  2017-04-29      5431328             Vero   \n",
       "102383       850588   61150285  2016-02-01     32402202           Laszlo   \n",
       "1300604    42620494  639734527  2020-07-19    331763359  Noemi Sinforosa   \n",
       "232684      2549471   28570872  2015-03-26      3847622           Marion   \n",
       "656056     13320676  615696897  2020-03-08    173346536          Johanna   \n",
       "520805      8932010  648559787  2020-08-09    352460617             Nada   \n",
       "856414     19280804  291077828  2018-07-15     61437017          Aurélie   \n",
       "399109      5867571  291609921  2018-07-16    155771755          Charles   \n",
       "240888      2691775   12892526  2014-05-13     12672553         Isabelle   \n",
       "545787      9775224  532111667  2019-09-19    218756451          Dominik   \n",
       "790096     17324176  271472295  2018-06-01     23187313        Geraldine   \n",
       "915946     21148072  647265982  2020-08-06      1191074        Elisabeth   \n",
       "731979     15479532  557601043  2019-11-01    304095020           Helene   \n",
       "8798          57207    7435493  2013-09-20      7889360          Chaelin   \n",
       "716088     15031417  105102711  2016-09-30     44140546          Suzanne   \n",
       "74028        636035  186814288  2017-08-25    143470107          Stefano   \n",
       "1208469    34623498  557460651  2019-11-01    232140091          Joffrey   \n",
       "1271794    38946279  579728575  2019-12-21     97585283        Moustapha   \n",
       "737045     15653582  644092110  2020-07-30    199408174            Sarah   \n",
       "270086      3261736  181039903  2017-08-12     15786900            Diana   \n",
       "1075209    27164208  644512470  2020-07-31      6868907    Jean Philippe   \n",
       "333017      4430281   71538570  2016-04-26     43931818          Nicolas   \n",
       "102257       847825  526775997  2019-09-09    258193208            Peter   \n",
       "1252617    37238894  504171060  2019-08-07     53170995             Vyns   \n",
       "990354     23676144  404804510  2019-01-25     10178761            Sonia   \n",
       "1022315    24889487  527231824  2019-09-10     93189181            Fawaz   \n",
       "455914      7098493   83262423  2016-07-02      5779347          Aurelie   \n",
       "468251      7378106  645553442  2020-08-02    157366961           Stefan   \n",
       "590093     11542239  193088366  2017-09-12     34681875      Chloé Quynh   \n",
       "671549     13648143  208797834  2017-11-03    134217735        Aino Inga   \n",
       "\n",
       "                                                  comments  \\\n",
       "748187                                             Perfect   \n",
       "1069595        Very happy about the service and the hotel!   \n",
       "419464                                          Perfect !    \n",
       "808809                                              Great!   \n",
       "897468         The best Airbnb in the district Bourse (2).   \n",
       "1196854  SOLINE nous a réservé un excellent accueil. L'...   \n",
       "1038938  Hôte très sympathique et accueillante. Nous av...   \n",
       "1196857  Logement idéal pour affaire et loisir... empla...   \n",
       "808805                                             Great !   \n",
       "419349   Séjour très agréable! Très belle chambre au cœ...   \n",
       "1038933  excellent séjour chez Anne. Appartement sympat...   \n",
       "621908                                          Excellent    \n",
       "1196882                                        Great stay!   \n",
       "1038926                           everything went perfect.   \n",
       "621929         Perfect organisation! Great infrastructure!   \n",
       "419273                                     Great location!   \n",
       "621951   Laurant war sehr gastfreundlich und gut erreic...   \n",
       "1069566                                          Excellent   \n",
       "70616       All was great. Thank you for your hospitality!   \n",
       "808752   Excellent accueil. Chambre et salle de bain co...   \n",
       "1069579  Excellent hôtel je recommande, on a été très b...   \n",
       "19845    Nuestra estancia en casa de Heidi estuvo muy b...   \n",
       "808748                      Excellent rapport/qualité prix   \n",
       "622060                                     Great Location!   \n",
       "1038906  L'appartement est idéal, très spacieux, bien é...   \n",
       "897582   Bel appartement bien agencé proche des commerc...   \n",
       "419174                                    Great location!!   \n",
       "105722   Everything was perfect! Mathilde is a great ho...   \n",
       "419503   Excellent séjour, petit coin de tranquillité a...   \n",
       "70637    Gaelle’s apartment is truly an incredible plac...   \n",
       "...                                                    ...   \n",
       "539358   La ubicación de este lugar es maravillosa, a s...   \n",
       "102383   Den letzten Monat meines Auslandssemester habe...   \n",
       "1300604  La casa es funcional y tiene todo lo necesario...   \n",
       "232684   L'appartement de Benjamin est très bien situé ...   \n",
       "656056   Excellente adresse. L’appartement est conforta...   \n",
       "520805   Logement bien situé mais pas terrible niveau p...   \n",
       "856414   Appartement type bourgeois refait à neuf! Très...   \n",
       "399109   Bon accueil de Tatiana, qui prend le temps de ...   \n",
       "240888   Belle appartement très bien située à côté du c...   \n",
       "545787   Die Wohnung von Vincent ist sehr stilvoll eing...   \n",
       "790096   Hôtel vraiment très bien placé, très proche de...   \n",
       "915946   ATTENTION il ne s’agit pas du tout d.une locat...   \n",
       "731979   Si vous cherchez un appartement en plein cœur ...   \n",
       "8798     최악\\r\\n방에서는 담배냄새 엄청나고\\r\\n로비에서는 찌린내....\\r\\n방도좁고\\...   \n",
       "716088   expérience horrible, je ne suis même pas resté...   \n",
       "74028                                  Very dirty place!!!   \n",
       "1208469  Jonathan a été très accueillant et compréhensi...   \n",
       "1271794  Do yourself a favor and do not come here. Ever...   \n",
       "737045   - Schimmelbefall & starker Schmutz -\\nZu mir: ...   \n",
       "270086   L'appartement de Chantal est petit, comme elle...   \n",
       "1075209  Il y a plusieurs annonces pour les mêmes chamb...   \n",
       "333017   J'ai séjourné deux nuits chez (Website hidden ...   \n",
       "102257   Die Wohnung hat eine tolle Lage, Moulin Rouge ...   \n",
       "1252617  Merci à Mathilde d'avoir été compréhensive, ma...   \n",
       "990354   Très arrangeant malgré notre retard à l’ arriv...   \n",
       "1022315                       Worst than the expectations!   \n",
       "455914   Bon séjour, l'appartement correspond bien au p...   \n",
       "468251   Que fais-tu, si tu arrives à Paris pendant l’é...   \n",
       "590093   Die Unterkunft ist zwar sehr klein, jedoch rel...   \n",
       "671549   Die Wohnung war klein aber fein! Alles sauber,...   \n",
       "\n",
       "         polarity_sentiment textBlob_polarity_analysis      neighbourhood  \n",
       "748187                  1.0                   Positive     Palais-Bourbon  \n",
       "1069595                 1.0                   Positive     Palais-Bourbon  \n",
       "419464                  1.0                   Positive              Opéra  \n",
       "808809                  1.0                   Positive  Buttes-Montmartre  \n",
       "897468                  1.0                   Positive             Bourse  \n",
       "1196854                 1.0                   Positive         Popincourt  \n",
       "1038938                 1.0                   Positive          Vaugirard  \n",
       "1196857                 1.0                   Positive              Passy  \n",
       "808805                  1.0                   Positive  Buttes-Montmartre  \n",
       "419349                  1.0                   Positive            Reuilly  \n",
       "1038933                 1.0                   Positive          Vaugirard  \n",
       "621908                  1.0                   Positive           Entrepôt  \n",
       "1196882                 1.0                   Positive              Passy  \n",
       "1038926                 1.0                   Positive          Vaugirard  \n",
       "621929                  1.0                   Positive           Entrepôt  \n",
       "419273                  1.0                   Positive     Hôtel-de-Ville  \n",
       "621951                  1.0                   Positive           Entrepôt  \n",
       "1069566                 1.0                   Positive     Palais-Bourbon  \n",
       "70616                   1.0                   Positive  Buttes-Montmartre  \n",
       "808752                  1.0                   Positive  Buttes-Montmartre  \n",
       "1069579                 1.0                   Positive     Palais-Bourbon  \n",
       "19845                   1.0                   Positive  Buttes-Montmartre  \n",
       "808748                  1.0                   Positive  Buttes-Montmartre  \n",
       "622060                  1.0                   Positive           Entrepôt  \n",
       "1038906                 1.0                   Positive           Gobelins  \n",
       "897582                  1.0                   Positive       Ménilmontant  \n",
       "419174                  1.0                   Positive     Hôtel-de-Ville  \n",
       "105722                  1.0                   Positive              Opéra  \n",
       "419503                  1.0                   Positive              Opéra  \n",
       "70637                   1.0                   Positive  Buttes-Montmartre  \n",
       "...                     ...                        ...                ...  \n",
       "539358                 -1.0                   Negative     Hôtel-de-Ville  \n",
       "102383                 -1.0                   Negative       Ménilmontant  \n",
       "1300604                -1.0                   Negative          Vaugirard  \n",
       "232684                 -1.0                   Negative          Vaugirard  \n",
       "656056                 -1.0                   Negative  Buttes-Montmartre  \n",
       "520805                 -1.0                   Negative             Bourse  \n",
       "856414                 -1.0                   Negative           Gobelins  \n",
       "399109                 -1.0                   Negative       Ménilmontant  \n",
       "240888                 -1.0                   Negative             Temple  \n",
       "545787                 -1.0                   Negative           Entrepôt  \n",
       "790096                 -1.0                   Negative              Opéra  \n",
       "915946                 -1.0                   Negative         Luxembourg  \n",
       "731979                 -1.0                   Negative             Élysée  \n",
       "8798                   -1.0                   Negative          Vaugirard  \n",
       "716088                 -1.0                   Negative          Vaugirard  \n",
       "74028                  -1.0                   Negative       Ménilmontant  \n",
       "1208469                -1.0                   Negative            Reuilly  \n",
       "1271794                -1.0                   Negative          Vaugirard  \n",
       "737045                 -1.0                   Negative          Vaugirard  \n",
       "270086                 -1.0                   Negative     Hôtel-de-Ville  \n",
       "1075209                -1.0                   Negative         Luxembourg  \n",
       "333017                 -1.0                   Negative  Buttes-Montmartre  \n",
       "102257                 -1.0                   Negative              Opéra  \n",
       "1252617                -1.0                   Negative           Gobelins  \n",
       "990354                 -1.0                   Negative       Observatoire  \n",
       "1022315                -1.0                   Negative             Élysée  \n",
       "455914                 -1.0                   Negative          Vaugirard  \n",
       "468251                 -1.0                   Negative             Bourse  \n",
       "590093                 -1.0                   Negative       Observatoire  \n",
       "671549                 -1.0                   Negative          Vaugirard  \n",
       "\n",
       "[1308133 rows x 9 columns]"
      ]
     },
     "execution_count": 160,
     "metadata": {},
     "output_type": "execute_result"
    }
   ],
   "source": [
    "# Add neighbourhood column based on the id of df_list\n",
    "df_rev['neighbourhood'] = df_rev.listing_id.map(df_list.set_index('id')['neighbourhood_cleansed'].to_dict())\n",
    "df_rev"
   ]
  },
  {
   "cell_type": "code",
   "execution_count": 161,
   "metadata": {
    "scrolled": false
   },
   "outputs": [
    {
     "data": {
      "application/vnd.plotly.v1+json": {
       "config": {
        "plotlyServerURL": "https://plot.ly"
       },
       "data": [
        {
         "alignmentgroup": "True",
         "hovertemplate": "neighbourhood=%{x}<br>polarity_sentiment=%{y}<extra></extra>",
         "legendgroup": "",
         "marker": {
          "color": "#636efa"
         },
         "name": "",
         "offsetgroup": "",
         "orientation": "v",
         "showlegend": false,
         "textposition": "auto",
         "type": "bar",
         "x": [
          "Hôtel-de-Ville",
          "Temple",
          "Louvre",
          "Palais-Bourbon",
          "Luxembourg",
          "Bourse",
          "Panthéon",
          "Élysée",
          "Opéra",
          "Entrepôt",
          "Passy",
          "Buttes-Montmartre",
          "Popincourt",
          "Vaugirard",
          "Batignolles-Monceau",
          "Buttes-Chaumont",
          "Ménilmontant",
          "Reuilly",
          "Observatoire",
          "Gobelins"
         ],
         "xaxis": "x",
         "y": [
          0.33844973317152555,
          0.33139623703051757,
          0.32788220199118673,
          0.3265912696082085,
          0.3244029207527528,
          0.3084996086378989,
          0.3055741888100586,
          0.3055651723768623,
          0.3020962859609545,
          0.2938290287206942,
          0.2934032246882398,
          0.2886428787482231,
          0.28582240061187997,
          0.27340444857257645,
          0.27001780882517074,
          0.2568977405293223,
          0.2521830484790986,
          0.24821031714806177,
          0.24714289166265932,
          0.24487839731559038
         ],
         "yaxis": "y"
        }
       ],
       "layout": {
        "barmode": "relative",
        "legend": {
         "tracegroupgap": 0
        },
        "margin": {
         "t": 60
        },
        "template": {
         "data": {
          "bar": [
           {
            "error_x": {
             "color": "#2a3f5f"
            },
            "error_y": {
             "color": "#2a3f5f"
            },
            "marker": {
             "line": {
              "color": "#E5ECF6",
              "width": 0.5
             }
            },
            "type": "bar"
           }
          ],
          "barpolar": [
           {
            "marker": {
             "line": {
              "color": "#E5ECF6",
              "width": 0.5
             }
            },
            "type": "barpolar"
           }
          ],
          "carpet": [
           {
            "aaxis": {
             "endlinecolor": "#2a3f5f",
             "gridcolor": "white",
             "linecolor": "white",
             "minorgridcolor": "white",
             "startlinecolor": "#2a3f5f"
            },
            "baxis": {
             "endlinecolor": "#2a3f5f",
             "gridcolor": "white",
             "linecolor": "white",
             "minorgridcolor": "white",
             "startlinecolor": "#2a3f5f"
            },
            "type": "carpet"
           }
          ],
          "choropleth": [
           {
            "colorbar": {
             "outlinewidth": 0,
             "ticks": ""
            },
            "type": "choropleth"
           }
          ],
          "contour": [
           {
            "colorbar": {
             "outlinewidth": 0,
             "ticks": ""
            },
            "colorscale": [
             [
              0,
              "#0d0887"
             ],
             [
              0.1111111111111111,
              "#46039f"
             ],
             [
              0.2222222222222222,
              "#7201a8"
             ],
             [
              0.3333333333333333,
              "#9c179e"
             ],
             [
              0.4444444444444444,
              "#bd3786"
             ],
             [
              0.5555555555555556,
              "#d8576b"
             ],
             [
              0.6666666666666666,
              "#ed7953"
             ],
             [
              0.7777777777777778,
              "#fb9f3a"
             ],
             [
              0.8888888888888888,
              "#fdca26"
             ],
             [
              1,
              "#f0f921"
             ]
            ],
            "type": "contour"
           }
          ],
          "contourcarpet": [
           {
            "colorbar": {
             "outlinewidth": 0,
             "ticks": ""
            },
            "type": "contourcarpet"
           }
          ],
          "heatmap": [
           {
            "colorbar": {
             "outlinewidth": 0,
             "ticks": ""
            },
            "colorscale": [
             [
              0,
              "#0d0887"
             ],
             [
              0.1111111111111111,
              "#46039f"
             ],
             [
              0.2222222222222222,
              "#7201a8"
             ],
             [
              0.3333333333333333,
              "#9c179e"
             ],
             [
              0.4444444444444444,
              "#bd3786"
             ],
             [
              0.5555555555555556,
              "#d8576b"
             ],
             [
              0.6666666666666666,
              "#ed7953"
             ],
             [
              0.7777777777777778,
              "#fb9f3a"
             ],
             [
              0.8888888888888888,
              "#fdca26"
             ],
             [
              1,
              "#f0f921"
             ]
            ],
            "type": "heatmap"
           }
          ],
          "heatmapgl": [
           {
            "colorbar": {
             "outlinewidth": 0,
             "ticks": ""
            },
            "colorscale": [
             [
              0,
              "#0d0887"
             ],
             [
              0.1111111111111111,
              "#46039f"
             ],
             [
              0.2222222222222222,
              "#7201a8"
             ],
             [
              0.3333333333333333,
              "#9c179e"
             ],
             [
              0.4444444444444444,
              "#bd3786"
             ],
             [
              0.5555555555555556,
              "#d8576b"
             ],
             [
              0.6666666666666666,
              "#ed7953"
             ],
             [
              0.7777777777777778,
              "#fb9f3a"
             ],
             [
              0.8888888888888888,
              "#fdca26"
             ],
             [
              1,
              "#f0f921"
             ]
            ],
            "type": "heatmapgl"
           }
          ],
          "histogram": [
           {
            "marker": {
             "colorbar": {
              "outlinewidth": 0,
              "ticks": ""
             }
            },
            "type": "histogram"
           }
          ],
          "histogram2d": [
           {
            "colorbar": {
             "outlinewidth": 0,
             "ticks": ""
            },
            "colorscale": [
             [
              0,
              "#0d0887"
             ],
             [
              0.1111111111111111,
              "#46039f"
             ],
             [
              0.2222222222222222,
              "#7201a8"
             ],
             [
              0.3333333333333333,
              "#9c179e"
             ],
             [
              0.4444444444444444,
              "#bd3786"
             ],
             [
              0.5555555555555556,
              "#d8576b"
             ],
             [
              0.6666666666666666,
              "#ed7953"
             ],
             [
              0.7777777777777778,
              "#fb9f3a"
             ],
             [
              0.8888888888888888,
              "#fdca26"
             ],
             [
              1,
              "#f0f921"
             ]
            ],
            "type": "histogram2d"
           }
          ],
          "histogram2dcontour": [
           {
            "colorbar": {
             "outlinewidth": 0,
             "ticks": ""
            },
            "colorscale": [
             [
              0,
              "#0d0887"
             ],
             [
              0.1111111111111111,
              "#46039f"
             ],
             [
              0.2222222222222222,
              "#7201a8"
             ],
             [
              0.3333333333333333,
              "#9c179e"
             ],
             [
              0.4444444444444444,
              "#bd3786"
             ],
             [
              0.5555555555555556,
              "#d8576b"
             ],
             [
              0.6666666666666666,
              "#ed7953"
             ],
             [
              0.7777777777777778,
              "#fb9f3a"
             ],
             [
              0.8888888888888888,
              "#fdca26"
             ],
             [
              1,
              "#f0f921"
             ]
            ],
            "type": "histogram2dcontour"
           }
          ],
          "mesh3d": [
           {
            "colorbar": {
             "outlinewidth": 0,
             "ticks": ""
            },
            "type": "mesh3d"
           }
          ],
          "parcoords": [
           {
            "line": {
             "colorbar": {
              "outlinewidth": 0,
              "ticks": ""
             }
            },
            "type": "parcoords"
           }
          ],
          "pie": [
           {
            "automargin": true,
            "type": "pie"
           }
          ],
          "scatter": [
           {
            "marker": {
             "colorbar": {
              "outlinewidth": 0,
              "ticks": ""
             }
            },
            "type": "scatter"
           }
          ],
          "scatter3d": [
           {
            "line": {
             "colorbar": {
              "outlinewidth": 0,
              "ticks": ""
             }
            },
            "marker": {
             "colorbar": {
              "outlinewidth": 0,
              "ticks": ""
             }
            },
            "type": "scatter3d"
           }
          ],
          "scattercarpet": [
           {
            "marker": {
             "colorbar": {
              "outlinewidth": 0,
              "ticks": ""
             }
            },
            "type": "scattercarpet"
           }
          ],
          "scattergeo": [
           {
            "marker": {
             "colorbar": {
              "outlinewidth": 0,
              "ticks": ""
             }
            },
            "type": "scattergeo"
           }
          ],
          "scattergl": [
           {
            "marker": {
             "colorbar": {
              "outlinewidth": 0,
              "ticks": ""
             }
            },
            "type": "scattergl"
           }
          ],
          "scattermapbox": [
           {
            "marker": {
             "colorbar": {
              "outlinewidth": 0,
              "ticks": ""
             }
            },
            "type": "scattermapbox"
           }
          ],
          "scatterpolar": [
           {
            "marker": {
             "colorbar": {
              "outlinewidth": 0,
              "ticks": ""
             }
            },
            "type": "scatterpolar"
           }
          ],
          "scatterpolargl": [
           {
            "marker": {
             "colorbar": {
              "outlinewidth": 0,
              "ticks": ""
             }
            },
            "type": "scatterpolargl"
           }
          ],
          "scatterternary": [
           {
            "marker": {
             "colorbar": {
              "outlinewidth": 0,
              "ticks": ""
             }
            },
            "type": "scatterternary"
           }
          ],
          "surface": [
           {
            "colorbar": {
             "outlinewidth": 0,
             "ticks": ""
            },
            "colorscale": [
             [
              0,
              "#0d0887"
             ],
             [
              0.1111111111111111,
              "#46039f"
             ],
             [
              0.2222222222222222,
              "#7201a8"
             ],
             [
              0.3333333333333333,
              "#9c179e"
             ],
             [
              0.4444444444444444,
              "#bd3786"
             ],
             [
              0.5555555555555556,
              "#d8576b"
             ],
             [
              0.6666666666666666,
              "#ed7953"
             ],
             [
              0.7777777777777778,
              "#fb9f3a"
             ],
             [
              0.8888888888888888,
              "#fdca26"
             ],
             [
              1,
              "#f0f921"
             ]
            ],
            "type": "surface"
           }
          ],
          "table": [
           {
            "cells": {
             "fill": {
              "color": "#EBF0F8"
             },
             "line": {
              "color": "white"
             }
            },
            "header": {
             "fill": {
              "color": "#C8D4E3"
             },
             "line": {
              "color": "white"
             }
            },
            "type": "table"
           }
          ]
         },
         "layout": {
          "annotationdefaults": {
           "arrowcolor": "#2a3f5f",
           "arrowhead": 0,
           "arrowwidth": 1
          },
          "coloraxis": {
           "colorbar": {
            "outlinewidth": 0,
            "ticks": ""
           }
          },
          "colorscale": {
           "diverging": [
            [
             0,
             "#8e0152"
            ],
            [
             0.1,
             "#c51b7d"
            ],
            [
             0.2,
             "#de77ae"
            ],
            [
             0.3,
             "#f1b6da"
            ],
            [
             0.4,
             "#fde0ef"
            ],
            [
             0.5,
             "#f7f7f7"
            ],
            [
             0.6,
             "#e6f5d0"
            ],
            [
             0.7,
             "#b8e186"
            ],
            [
             0.8,
             "#7fbc41"
            ],
            [
             0.9,
             "#4d9221"
            ],
            [
             1,
             "#276419"
            ]
           ],
           "sequential": [
            [
             0,
             "#0d0887"
            ],
            [
             0.1111111111111111,
             "#46039f"
            ],
            [
             0.2222222222222222,
             "#7201a8"
            ],
            [
             0.3333333333333333,
             "#9c179e"
            ],
            [
             0.4444444444444444,
             "#bd3786"
            ],
            [
             0.5555555555555556,
             "#d8576b"
            ],
            [
             0.6666666666666666,
             "#ed7953"
            ],
            [
             0.7777777777777778,
             "#fb9f3a"
            ],
            [
             0.8888888888888888,
             "#fdca26"
            ],
            [
             1,
             "#f0f921"
            ]
           ],
           "sequentialminus": [
            [
             0,
             "#0d0887"
            ],
            [
             0.1111111111111111,
             "#46039f"
            ],
            [
             0.2222222222222222,
             "#7201a8"
            ],
            [
             0.3333333333333333,
             "#9c179e"
            ],
            [
             0.4444444444444444,
             "#bd3786"
            ],
            [
             0.5555555555555556,
             "#d8576b"
            ],
            [
             0.6666666666666666,
             "#ed7953"
            ],
            [
             0.7777777777777778,
             "#fb9f3a"
            ],
            [
             0.8888888888888888,
             "#fdca26"
            ],
            [
             1,
             "#f0f921"
            ]
           ]
          },
          "colorway": [
           "#636efa",
           "#EF553B",
           "#00cc96",
           "#ab63fa",
           "#FFA15A",
           "#19d3f3",
           "#FF6692",
           "#B6E880",
           "#FF97FF",
           "#FECB52"
          ],
          "font": {
           "color": "#2a3f5f"
          },
          "geo": {
           "bgcolor": "white",
           "lakecolor": "white",
           "landcolor": "#E5ECF6",
           "showlakes": true,
           "showland": true,
           "subunitcolor": "white"
          },
          "hoverlabel": {
           "align": "left"
          },
          "hovermode": "closest",
          "mapbox": {
           "style": "light"
          },
          "paper_bgcolor": "white",
          "plot_bgcolor": "#E5ECF6",
          "polar": {
           "angularaxis": {
            "gridcolor": "white",
            "linecolor": "white",
            "ticks": ""
           },
           "bgcolor": "#E5ECF6",
           "radialaxis": {
            "gridcolor": "white",
            "linecolor": "white",
            "ticks": ""
           }
          },
          "scene": {
           "xaxis": {
            "backgroundcolor": "#E5ECF6",
            "gridcolor": "white",
            "gridwidth": 2,
            "linecolor": "white",
            "showbackground": true,
            "ticks": "",
            "zerolinecolor": "white"
           },
           "yaxis": {
            "backgroundcolor": "#E5ECF6",
            "gridcolor": "white",
            "gridwidth": 2,
            "linecolor": "white",
            "showbackground": true,
            "ticks": "",
            "zerolinecolor": "white"
           },
           "zaxis": {
            "backgroundcolor": "#E5ECF6",
            "gridcolor": "white",
            "gridwidth": 2,
            "linecolor": "white",
            "showbackground": true,
            "ticks": "",
            "zerolinecolor": "white"
           }
          },
          "shapedefaults": {
           "line": {
            "color": "#2a3f5f"
           }
          },
          "ternary": {
           "aaxis": {
            "gridcolor": "white",
            "linecolor": "white",
            "ticks": ""
           },
           "baxis": {
            "gridcolor": "white",
            "linecolor": "white",
            "ticks": ""
           },
           "bgcolor": "#E5ECF6",
           "caxis": {
            "gridcolor": "white",
            "linecolor": "white",
            "ticks": ""
           }
          },
          "title": {
           "x": 0.05
          },
          "xaxis": {
           "automargin": true,
           "gridcolor": "white",
           "linecolor": "white",
           "ticks": "",
           "title": {
            "standoff": 15
           },
           "zerolinecolor": "white",
           "zerolinewidth": 2
          },
          "yaxis": {
           "automargin": true,
           "gridcolor": "white",
           "linecolor": "white",
           "ticks": "",
           "title": {
            "standoff": 15
           },
           "zerolinecolor": "white",
           "zerolinewidth": 2
          }
         }
        },
        "xaxis": {
         "anchor": "y",
         "domain": [
          0,
          1
         ],
         "title": {
          "text": "neighbourhood"
         }
        },
        "yaxis": {
         "anchor": "x",
         "domain": [
          0,
          1
         ],
         "title": {
          "text": "polarity_sentiment"
         }
        }
       }
      },
      "text/html": [
       "<div>\n",
       "        \n",
       "        \n",
       "            <div id=\"d63fbbd0-fed4-47df-8c66-ae7b5317e65d\" class=\"plotly-graph-div\" style=\"height:525px; width:100%;\"></div>\n",
       "            <script type=\"text/javascript\">\n",
       "                require([\"plotly\"], function(Plotly) {\n",
       "                    window.PLOTLYENV=window.PLOTLYENV || {};\n",
       "                    \n",
       "                if (document.getElementById(\"d63fbbd0-fed4-47df-8c66-ae7b5317e65d\")) {\n",
       "                    Plotly.newPlot(\n",
       "                        'd63fbbd0-fed4-47df-8c66-ae7b5317e65d',\n",
       "                        [{\"alignmentgroup\": \"True\", \"hovertemplate\": \"neighbourhood=%{x}<br>polarity_sentiment=%{y}<extra></extra>\", \"legendgroup\": \"\", \"marker\": {\"color\": \"#636efa\"}, \"name\": \"\", \"offsetgroup\": \"\", \"orientation\": \"v\", \"showlegend\": false, \"textposition\": \"auto\", \"type\": \"bar\", \"x\": [\"H\\u00f4tel-de-Ville\", \"Temple\", \"Louvre\", \"Palais-Bourbon\", \"Luxembourg\", \"Bourse\", \"Panth\\u00e9on\", \"\\u00c9lys\\u00e9e\", \"Op\\u00e9ra\", \"Entrep\\u00f4t\", \"Passy\", \"Buttes-Montmartre\", \"Popincourt\", \"Vaugirard\", \"Batignolles-Monceau\", \"Buttes-Chaumont\", \"M\\u00e9nilmontant\", \"Reuilly\", \"Observatoire\", \"Gobelins\"], \"xaxis\": \"x\", \"y\": [0.33844973317152555, 0.33139623703051757, 0.32788220199118673, 0.3265912696082085, 0.3244029207527528, 0.3084996086378989, 0.3055741888100586, 0.3055651723768623, 0.3020962859609545, 0.2938290287206942, 0.2934032246882398, 0.2886428787482231, 0.28582240061187997, 0.27340444857257645, 0.27001780882517074, 0.2568977405293223, 0.2521830484790986, 0.24821031714806177, 0.24714289166265932, 0.24487839731559038], \"yaxis\": \"y\"}],\n",
       "                        {\"barmode\": \"relative\", \"legend\": {\"tracegroupgap\": 0}, \"margin\": {\"t\": 60}, \"template\": {\"data\": {\"bar\": [{\"error_x\": {\"color\": \"#2a3f5f\"}, \"error_y\": {\"color\": \"#2a3f5f\"}, \"marker\": {\"line\": {\"color\": \"#E5ECF6\", \"width\": 0.5}}, \"type\": \"bar\"}], \"barpolar\": [{\"marker\": {\"line\": {\"color\": \"#E5ECF6\", \"width\": 0.5}}, \"type\": \"barpolar\"}], \"carpet\": [{\"aaxis\": {\"endlinecolor\": \"#2a3f5f\", \"gridcolor\": \"white\", \"linecolor\": \"white\", \"minorgridcolor\": \"white\", \"startlinecolor\": \"#2a3f5f\"}, \"baxis\": {\"endlinecolor\": \"#2a3f5f\", \"gridcolor\": \"white\", \"linecolor\": \"white\", \"minorgridcolor\": \"white\", \"startlinecolor\": \"#2a3f5f\"}, \"type\": \"carpet\"}], \"choropleth\": [{\"colorbar\": {\"outlinewidth\": 0, \"ticks\": \"\"}, \"type\": \"choropleth\"}], \"contour\": [{\"colorbar\": {\"outlinewidth\": 0, \"ticks\": \"\"}, \"colorscale\": [[0.0, \"#0d0887\"], [0.1111111111111111, \"#46039f\"], [0.2222222222222222, \"#7201a8\"], [0.3333333333333333, \"#9c179e\"], [0.4444444444444444, \"#bd3786\"], [0.5555555555555556, \"#d8576b\"], [0.6666666666666666, \"#ed7953\"], [0.7777777777777778, \"#fb9f3a\"], [0.8888888888888888, \"#fdca26\"], [1.0, \"#f0f921\"]], \"type\": \"contour\"}], \"contourcarpet\": [{\"colorbar\": {\"outlinewidth\": 0, \"ticks\": \"\"}, \"type\": \"contourcarpet\"}], \"heatmap\": [{\"colorbar\": {\"outlinewidth\": 0, \"ticks\": \"\"}, \"colorscale\": [[0.0, \"#0d0887\"], [0.1111111111111111, \"#46039f\"], [0.2222222222222222, \"#7201a8\"], [0.3333333333333333, \"#9c179e\"], [0.4444444444444444, \"#bd3786\"], [0.5555555555555556, \"#d8576b\"], [0.6666666666666666, \"#ed7953\"], [0.7777777777777778, \"#fb9f3a\"], [0.8888888888888888, \"#fdca26\"], [1.0, \"#f0f921\"]], \"type\": \"heatmap\"}], \"heatmapgl\": [{\"colorbar\": {\"outlinewidth\": 0, \"ticks\": \"\"}, \"colorscale\": [[0.0, \"#0d0887\"], [0.1111111111111111, \"#46039f\"], [0.2222222222222222, \"#7201a8\"], [0.3333333333333333, \"#9c179e\"], [0.4444444444444444, \"#bd3786\"], [0.5555555555555556, \"#d8576b\"], [0.6666666666666666, \"#ed7953\"], [0.7777777777777778, \"#fb9f3a\"], [0.8888888888888888, \"#fdca26\"], [1.0, \"#f0f921\"]], \"type\": \"heatmapgl\"}], \"histogram\": [{\"marker\": {\"colorbar\": {\"outlinewidth\": 0, \"ticks\": \"\"}}, \"type\": \"histogram\"}], \"histogram2d\": [{\"colorbar\": {\"outlinewidth\": 0, \"ticks\": \"\"}, \"colorscale\": [[0.0, \"#0d0887\"], [0.1111111111111111, \"#46039f\"], [0.2222222222222222, \"#7201a8\"], [0.3333333333333333, \"#9c179e\"], [0.4444444444444444, \"#bd3786\"], [0.5555555555555556, \"#d8576b\"], [0.6666666666666666, \"#ed7953\"], [0.7777777777777778, \"#fb9f3a\"], [0.8888888888888888, \"#fdca26\"], [1.0, \"#f0f921\"]], \"type\": \"histogram2d\"}], \"histogram2dcontour\": [{\"colorbar\": {\"outlinewidth\": 0, \"ticks\": \"\"}, \"colorscale\": [[0.0, \"#0d0887\"], [0.1111111111111111, \"#46039f\"], [0.2222222222222222, \"#7201a8\"], [0.3333333333333333, \"#9c179e\"], [0.4444444444444444, \"#bd3786\"], [0.5555555555555556, \"#d8576b\"], [0.6666666666666666, \"#ed7953\"], [0.7777777777777778, \"#fb9f3a\"], [0.8888888888888888, \"#fdca26\"], [1.0, \"#f0f921\"]], \"type\": \"histogram2dcontour\"}], \"mesh3d\": [{\"colorbar\": {\"outlinewidth\": 0, \"ticks\": \"\"}, \"type\": \"mesh3d\"}], \"parcoords\": [{\"line\": {\"colorbar\": {\"outlinewidth\": 0, \"ticks\": \"\"}}, \"type\": \"parcoords\"}], \"pie\": [{\"automargin\": true, \"type\": \"pie\"}], \"scatter\": [{\"marker\": {\"colorbar\": {\"outlinewidth\": 0, \"ticks\": \"\"}}, \"type\": \"scatter\"}], \"scatter3d\": [{\"line\": {\"colorbar\": {\"outlinewidth\": 0, \"ticks\": \"\"}}, \"marker\": {\"colorbar\": {\"outlinewidth\": 0, \"ticks\": \"\"}}, \"type\": \"scatter3d\"}], \"scattercarpet\": [{\"marker\": {\"colorbar\": {\"outlinewidth\": 0, \"ticks\": \"\"}}, \"type\": \"scattercarpet\"}], \"scattergeo\": [{\"marker\": {\"colorbar\": {\"outlinewidth\": 0, \"ticks\": \"\"}}, \"type\": \"scattergeo\"}], \"scattergl\": [{\"marker\": {\"colorbar\": {\"outlinewidth\": 0, \"ticks\": \"\"}}, \"type\": \"scattergl\"}], \"scattermapbox\": [{\"marker\": {\"colorbar\": {\"outlinewidth\": 0, \"ticks\": \"\"}}, \"type\": \"scattermapbox\"}], \"scatterpolar\": [{\"marker\": {\"colorbar\": {\"outlinewidth\": 0, \"ticks\": \"\"}}, \"type\": \"scatterpolar\"}], \"scatterpolargl\": [{\"marker\": {\"colorbar\": {\"outlinewidth\": 0, \"ticks\": \"\"}}, \"type\": \"scatterpolargl\"}], \"scatterternary\": [{\"marker\": {\"colorbar\": {\"outlinewidth\": 0, \"ticks\": \"\"}}, \"type\": \"scatterternary\"}], \"surface\": [{\"colorbar\": {\"outlinewidth\": 0, \"ticks\": \"\"}, \"colorscale\": [[0.0, \"#0d0887\"], [0.1111111111111111, \"#46039f\"], [0.2222222222222222, \"#7201a8\"], [0.3333333333333333, \"#9c179e\"], [0.4444444444444444, \"#bd3786\"], [0.5555555555555556, \"#d8576b\"], [0.6666666666666666, \"#ed7953\"], [0.7777777777777778, \"#fb9f3a\"], [0.8888888888888888, \"#fdca26\"], [1.0, \"#f0f921\"]], \"type\": \"surface\"}], \"table\": [{\"cells\": {\"fill\": {\"color\": \"#EBF0F8\"}, \"line\": {\"color\": \"white\"}}, \"header\": {\"fill\": {\"color\": \"#C8D4E3\"}, \"line\": {\"color\": \"white\"}}, \"type\": \"table\"}]}, \"layout\": {\"annotationdefaults\": {\"arrowcolor\": \"#2a3f5f\", \"arrowhead\": 0, \"arrowwidth\": 1}, \"coloraxis\": {\"colorbar\": {\"outlinewidth\": 0, \"ticks\": \"\"}}, \"colorscale\": {\"diverging\": [[0, \"#8e0152\"], [0.1, \"#c51b7d\"], [0.2, \"#de77ae\"], [0.3, \"#f1b6da\"], [0.4, \"#fde0ef\"], [0.5, \"#f7f7f7\"], [0.6, \"#e6f5d0\"], [0.7, \"#b8e186\"], [0.8, \"#7fbc41\"], [0.9, \"#4d9221\"], [1, \"#276419\"]], \"sequential\": [[0.0, \"#0d0887\"], [0.1111111111111111, \"#46039f\"], [0.2222222222222222, \"#7201a8\"], [0.3333333333333333, \"#9c179e\"], [0.4444444444444444, \"#bd3786\"], [0.5555555555555556, \"#d8576b\"], [0.6666666666666666, \"#ed7953\"], [0.7777777777777778, \"#fb9f3a\"], [0.8888888888888888, \"#fdca26\"], [1.0, \"#f0f921\"]], \"sequentialminus\": [[0.0, \"#0d0887\"], [0.1111111111111111, \"#46039f\"], [0.2222222222222222, \"#7201a8\"], [0.3333333333333333, \"#9c179e\"], [0.4444444444444444, \"#bd3786\"], [0.5555555555555556, \"#d8576b\"], [0.6666666666666666, \"#ed7953\"], [0.7777777777777778, \"#fb9f3a\"], [0.8888888888888888, \"#fdca26\"], [1.0, \"#f0f921\"]]}, \"colorway\": [\"#636efa\", \"#EF553B\", \"#00cc96\", \"#ab63fa\", \"#FFA15A\", \"#19d3f3\", \"#FF6692\", \"#B6E880\", \"#FF97FF\", \"#FECB52\"], \"font\": {\"color\": \"#2a3f5f\"}, \"geo\": {\"bgcolor\": \"white\", \"lakecolor\": \"white\", \"landcolor\": \"#E5ECF6\", \"showlakes\": true, \"showland\": true, \"subunitcolor\": \"white\"}, \"hoverlabel\": {\"align\": \"left\"}, \"hovermode\": \"closest\", \"mapbox\": {\"style\": \"light\"}, \"paper_bgcolor\": \"white\", \"plot_bgcolor\": \"#E5ECF6\", \"polar\": {\"angularaxis\": {\"gridcolor\": \"white\", \"linecolor\": \"white\", \"ticks\": \"\"}, \"bgcolor\": \"#E5ECF6\", \"radialaxis\": {\"gridcolor\": \"white\", \"linecolor\": \"white\", \"ticks\": \"\"}}, \"scene\": {\"xaxis\": {\"backgroundcolor\": \"#E5ECF6\", \"gridcolor\": \"white\", \"gridwidth\": 2, \"linecolor\": \"white\", \"showbackground\": true, \"ticks\": \"\", \"zerolinecolor\": \"white\"}, \"yaxis\": {\"backgroundcolor\": \"#E5ECF6\", \"gridcolor\": \"white\", \"gridwidth\": 2, \"linecolor\": \"white\", \"showbackground\": true, \"ticks\": \"\", \"zerolinecolor\": \"white\"}, \"zaxis\": {\"backgroundcolor\": \"#E5ECF6\", \"gridcolor\": \"white\", \"gridwidth\": 2, \"linecolor\": \"white\", \"showbackground\": true, \"ticks\": \"\", \"zerolinecolor\": \"white\"}}, \"shapedefaults\": {\"line\": {\"color\": \"#2a3f5f\"}}, \"ternary\": {\"aaxis\": {\"gridcolor\": \"white\", \"linecolor\": \"white\", \"ticks\": \"\"}, \"baxis\": {\"gridcolor\": \"white\", \"linecolor\": \"white\", \"ticks\": \"\"}, \"bgcolor\": \"#E5ECF6\", \"caxis\": {\"gridcolor\": \"white\", \"linecolor\": \"white\", \"ticks\": \"\"}}, \"title\": {\"x\": 0.05}, \"xaxis\": {\"automargin\": true, \"gridcolor\": \"white\", \"linecolor\": \"white\", \"ticks\": \"\", \"title\": {\"standoff\": 15}, \"zerolinecolor\": \"white\", \"zerolinewidth\": 2}, \"yaxis\": {\"automargin\": true, \"gridcolor\": \"white\", \"linecolor\": \"white\", \"ticks\": \"\", \"title\": {\"standoff\": 15}, \"zerolinecolor\": \"white\", \"zerolinewidth\": 2}}}, \"xaxis\": {\"anchor\": \"y\", \"domain\": [0.0, 1.0], \"title\": {\"text\": \"neighbourhood\"}}, \"yaxis\": {\"anchor\": \"x\", \"domain\": [0.0, 1.0], \"title\": {\"text\": \"polarity_sentiment\"}}},\n",
       "                        {\"responsive\": true}\n",
       "                    ).then(function(){\n",
       "                            \n",
       "var gd = document.getElementById('d63fbbd0-fed4-47df-8c66-ae7b5317e65d');\n",
       "var x = new MutationObserver(function (mutations, observer) {{\n",
       "        var display = window.getComputedStyle(gd).display;\n",
       "        if (!display || display === 'none') {{\n",
       "            console.log([gd, 'removed!']);\n",
       "            Plotly.purge(gd);\n",
       "            observer.disconnect();\n",
       "        }}\n",
       "}});\n",
       "\n",
       "// Listen for the removal of the full notebook cells\n",
       "var notebookContainer = gd.closest('#notebook-container');\n",
       "if (notebookContainer) {{\n",
       "    x.observe(notebookContainer, {childList: true});\n",
       "}}\n",
       "\n",
       "// Listen for the clearing of the current output cell\n",
       "var outputEl = gd.closest('.output');\n",
       "if (outputEl) {{\n",
       "    x.observe(outputEl, {childList: true});\n",
       "}}\n",
       "\n",
       "                        })\n",
       "                };\n",
       "                });\n",
       "            </script>\n",
       "        </div>"
      ]
     },
     "metadata": {},
     "output_type": "display_data"
    }
   ],
   "source": [
    "# Average Polarity Analysis by neighbourhood\n",
    "df_avg_pol = df_rev.copy()\n",
    "df_avg_pol = df_avg_pol.groupby(['neighbourhood'])[['polarity_sentiment']].mean()\n",
    "df_avg_pol = df_avg_pol.reset_index()\n",
    "df_avg_pol = df_avg_pol.sort_values([\"polarity_sentiment\"], ascending=False)\n",
    "\n",
    "# Bar Chart representing the average Price per Neighbourhood\n",
    "fig = px.bar(df_avg_pol, x='neighbourhood', y='polarity_sentiment')\n",
    "fig.show()"
   ]
  },
  {
   "cell_type": "markdown",
   "metadata": {},
   "source": [
    "I have not been able to translate non-English languages due to high request - which sometimes did not seem to properly note polarity feeling.\n",
    "The graph above is potentially not really accurate."
   ]
  }
 ],
 "metadata": {
  "kernelspec": {
   "display_name": "Python 3",
   "language": "python",
   "name": "python3"
  },
  "language_info": {
   "codemirror_mode": {
    "name": "ipython",
    "version": 3
   },
   "file_extension": ".py",
   "mimetype": "text/x-python",
   "name": "python",
   "nbconvert_exporter": "python",
   "pygments_lexer": "ipython3",
   "version": "3.7.1"
  }
 },
 "nbformat": 4,
 "nbformat_minor": 2
}
